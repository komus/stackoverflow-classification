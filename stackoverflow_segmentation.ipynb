{
 "cells": [
  {
   "cell_type": "code",
   "execution_count": 126,
   "source": [
    "import pandas as pd\n",
    "import os\n",
    "import re\n",
    "import datetime\n",
    "import numpy as np\n",
    "from sklearn.preprocessing import OneHotEncoder, LabelEncoder\n",
    "from sklearn.tree import DecisionTreeClassifier\n",
    "import pickle\n",
    "from matplotlib import pyplot as plt\n",
    "from sklearn import tree\n",
    "import graphviz\n",
    "from sklearn.cluster import KMeans\n",
    "from sklearn.metrics import silhouette_score, silhouette_samples\n",
    "import plotly.express as px"
   ],
   "outputs": [],
   "metadata": {}
  },
  {
   "cell_type": "code",
   "execution_count": 127,
   "source": [
    "main1 = pd.read_csv('model/stackoverflow_main.csv')\n",
    "main2 = pd.read_csv('model/stackoverflow_main_2.csv')\n",
    "main3 = pd.read_csv('model/stackoverflow_main3.csv')\n",
    "main4 = pd.read_csv('model/stackoverflow_main4.csv')"
   ],
   "outputs": [],
   "metadata": {}
  },
  {
   "cell_type": "code",
   "execution_count": 128,
   "source": [
    "data = main1.append(main2)\n",
    "data = data.append(main3)\n",
    "data = data.append(main4)"
   ],
   "outputs": [],
   "metadata": {}
  },
  {
   "cell_type": "code",
   "execution_count": 129,
   "source": [
    "data = data.reset_index()"
   ],
   "outputs": [],
   "metadata": {}
  },
  {
   "cell_type": "code",
   "execution_count": 130,
   "source": [
    "data = data.sample(frac = 1)"
   ],
   "outputs": [],
   "metadata": {}
  },
  {
   "cell_type": "markdown",
   "source": [
    "--------------DATA CLEANUP------------------"
   ],
   "metadata": {}
  },
  {
   "cell_type": "code",
   "execution_count": 131,
   "source": [
    "data = data.drop(columns='Unnamed: 0')"
   ],
   "outputs": [],
   "metadata": {}
  },
  {
   "cell_type": "code",
   "execution_count": 132,
   "source": [
    "data['id'] = data['id'].apply(lambda x: x[x.find('question-summary-') + 17:]).astype(int)"
   ],
   "outputs": [],
   "metadata": {}
  },
  {
   "cell_type": "code",
   "execution_count": 133,
   "source": [
    "data['answer']=data['answer'].str.extract(r'(\\d)').astype(int)"
   ],
   "outputs": [],
   "metadata": {}
  },
  {
   "cell_type": "code",
   "execution_count": 134,
   "source": [
    "data['views']=data['views'].str.extract(r'(\\d)').astype(int)"
   ],
   "outputs": [],
   "metadata": {}
  },
  {
   "cell_type": "code",
   "execution_count": 135,
   "source": [
    "data['user_reputation_score']= data.user_reputation_score.replace(',','', regex=True)\n",
    "data['user_reputation_score']= (data.user_reputation_score.replace(r'[km]+$', '', regex=True).astype(float) * data.user_reputation_score.str.extract(r'[\\d\\.]+([km]+)', expand=False).fillna(1).replace(['k','m'], [10**3, 10**6]).astype(int))"
   ],
   "outputs": [],
   "metadata": {}
  },
  {
   "cell_type": "code",
   "execution_count": 136,
   "source": [
    "data['user_badge_number'] = data.user_badge.str.extract(r'(\\d)')"
   ],
   "outputs": [],
   "metadata": {}
  },
  {
   "cell_type": "code",
   "execution_count": 137,
   "source": [
    "data['user_badge_type'] = data.user_badge.str.extract('([a-zA-Z]+)', expand=True)"
   ],
   "outputs": [],
   "metadata": {}
  },
  {
   "cell_type": "code",
   "execution_count": 138,
   "source": [
    "data['tags_count'] = data.tags.str.split(':').str.len()-1"
   ],
   "outputs": [],
   "metadata": {}
  },
  {
   "cell_type": "code",
   "execution_count": 139,
   "source": [
    "max_date = pd.to_datetime(data.question_time.max())"
   ],
   "outputs": [],
   "metadata": {}
  },
  {
   "cell_type": "code",
   "execution_count": 140,
   "source": [
    "def days_in_batch(max_date, questiondate ):\n",
    "\n",
    "    x = max_date - questiondate\n",
    "    x = x.days\n",
    "    if x == 0:\n",
    "        return 1\n",
    "    return x"
   ],
   "outputs": [],
   "metadata": {}
  },
  {
   "cell_type": "code",
   "execution_count": 141,
   "source": [
    "data['question_time'] = pd.to_datetime(data['question_time'])\n",
    "data['days_in_queue'] = data['question_time'].apply(lambda x: days_in_batch(max_date, x))"
   ],
   "outputs": [],
   "metadata": {}
  },
  {
   "cell_type": "code",
   "execution_count": 142,
   "source": [
    "data['tags_count'].value_counts()"
   ],
   "outputs": [
    {
     "output_type": "execute_result",
     "data": {
      "text/plain": [
       "3    58159\n",
       "2    51935\n",
       "4    42211\n",
       "5    33836\n",
       "1    24157\n",
       "Name: tags_count, dtype: int64"
      ]
     },
     "metadata": {},
     "execution_count": 142
    }
   ],
   "metadata": {}
  },
  {
   "cell_type": "code",
   "execution_count": 143,
   "source": [
    "stack_features = data[['user_reputation_score', 'votes','answer', 'views', 'accepted_answer', 'user_badge_number','user_badge_type', 'tags_count', 'days_in_queue']]\n",
    "stack_features"
   ],
   "outputs": [
    {
     "output_type": "execute_result",
     "data": {
      "text/plain": [
       "        user_reputation_score  votes  answer  views  accepted_answer  \\\n",
       "187350                  311.0      1       1      2                0   \n",
       "108100                   54.0      1       1      6                0   \n",
       "159076                   21.0      0       2      3                0   \n",
       "63209                    26.0      0       2      3                0   \n",
       "107187                  161.0      1       2      5                1   \n",
       "...                       ...    ...     ...    ...              ...   \n",
       "155582                25700.0      0       1      3                0   \n",
       "163858                    1.0      0       0      1                0   \n",
       "18417                     1.0     -1       0      1                0   \n",
       "60251                 10600.0      0       3      3                0   \n",
       "51946                  1028.0      0       2      6                0   \n",
       "\n",
       "       user_badge_number user_badge_type  tags_count  days_in_queue  \n",
       "187350                 1          silver           2             27  \n",
       "108100                 2          bronze           3             17  \n",
       "159076                 3          bronze           2             24  \n",
       "63209                  3          bronze           4             12  \n",
       "107187                 1          silver           5             17  \n",
       "...                  ...             ...         ...            ...  \n",
       "155582                 5            gold           1             24  \n",
       "163858               NaN             NaN           1             24  \n",
       "18417                  1          bronze           5              6  \n",
       "60251                  3            gold           2             11  \n",
       "51946                  1          silver           1             11  \n",
       "\n",
       "[210298 rows x 9 columns]"
      ],
      "text/html": [
       "<div>\n",
       "<style scoped>\n",
       "    .dataframe tbody tr th:only-of-type {\n",
       "        vertical-align: middle;\n",
       "    }\n",
       "\n",
       "    .dataframe tbody tr th {\n",
       "        vertical-align: top;\n",
       "    }\n",
       "\n",
       "    .dataframe thead th {\n",
       "        text-align: right;\n",
       "    }\n",
       "</style>\n",
       "<table border=\"1\" class=\"dataframe\">\n",
       "  <thead>\n",
       "    <tr style=\"text-align: right;\">\n",
       "      <th></th>\n",
       "      <th>user_reputation_score</th>\n",
       "      <th>votes</th>\n",
       "      <th>answer</th>\n",
       "      <th>views</th>\n",
       "      <th>accepted_answer</th>\n",
       "      <th>user_badge_number</th>\n",
       "      <th>user_badge_type</th>\n",
       "      <th>tags_count</th>\n",
       "      <th>days_in_queue</th>\n",
       "    </tr>\n",
       "  </thead>\n",
       "  <tbody>\n",
       "    <tr>\n",
       "      <th>187350</th>\n",
       "      <td>311.0</td>\n",
       "      <td>1</td>\n",
       "      <td>1</td>\n",
       "      <td>2</td>\n",
       "      <td>0</td>\n",
       "      <td>1</td>\n",
       "      <td>silver</td>\n",
       "      <td>2</td>\n",
       "      <td>27</td>\n",
       "    </tr>\n",
       "    <tr>\n",
       "      <th>108100</th>\n",
       "      <td>54.0</td>\n",
       "      <td>1</td>\n",
       "      <td>1</td>\n",
       "      <td>6</td>\n",
       "      <td>0</td>\n",
       "      <td>2</td>\n",
       "      <td>bronze</td>\n",
       "      <td>3</td>\n",
       "      <td>17</td>\n",
       "    </tr>\n",
       "    <tr>\n",
       "      <th>159076</th>\n",
       "      <td>21.0</td>\n",
       "      <td>0</td>\n",
       "      <td>2</td>\n",
       "      <td>3</td>\n",
       "      <td>0</td>\n",
       "      <td>3</td>\n",
       "      <td>bronze</td>\n",
       "      <td>2</td>\n",
       "      <td>24</td>\n",
       "    </tr>\n",
       "    <tr>\n",
       "      <th>63209</th>\n",
       "      <td>26.0</td>\n",
       "      <td>0</td>\n",
       "      <td>2</td>\n",
       "      <td>3</td>\n",
       "      <td>0</td>\n",
       "      <td>3</td>\n",
       "      <td>bronze</td>\n",
       "      <td>4</td>\n",
       "      <td>12</td>\n",
       "    </tr>\n",
       "    <tr>\n",
       "      <th>107187</th>\n",
       "      <td>161.0</td>\n",
       "      <td>1</td>\n",
       "      <td>2</td>\n",
       "      <td>5</td>\n",
       "      <td>1</td>\n",
       "      <td>1</td>\n",
       "      <td>silver</td>\n",
       "      <td>5</td>\n",
       "      <td>17</td>\n",
       "    </tr>\n",
       "    <tr>\n",
       "      <th>...</th>\n",
       "      <td>...</td>\n",
       "      <td>...</td>\n",
       "      <td>...</td>\n",
       "      <td>...</td>\n",
       "      <td>...</td>\n",
       "      <td>...</td>\n",
       "      <td>...</td>\n",
       "      <td>...</td>\n",
       "      <td>...</td>\n",
       "    </tr>\n",
       "    <tr>\n",
       "      <th>155582</th>\n",
       "      <td>25700.0</td>\n",
       "      <td>0</td>\n",
       "      <td>1</td>\n",
       "      <td>3</td>\n",
       "      <td>0</td>\n",
       "      <td>5</td>\n",
       "      <td>gold</td>\n",
       "      <td>1</td>\n",
       "      <td>24</td>\n",
       "    </tr>\n",
       "    <tr>\n",
       "      <th>163858</th>\n",
       "      <td>1.0</td>\n",
       "      <td>0</td>\n",
       "      <td>0</td>\n",
       "      <td>1</td>\n",
       "      <td>0</td>\n",
       "      <td>NaN</td>\n",
       "      <td>NaN</td>\n",
       "      <td>1</td>\n",
       "      <td>24</td>\n",
       "    </tr>\n",
       "    <tr>\n",
       "      <th>18417</th>\n",
       "      <td>1.0</td>\n",
       "      <td>-1</td>\n",
       "      <td>0</td>\n",
       "      <td>1</td>\n",
       "      <td>0</td>\n",
       "      <td>1</td>\n",
       "      <td>bronze</td>\n",
       "      <td>5</td>\n",
       "      <td>6</td>\n",
       "    </tr>\n",
       "    <tr>\n",
       "      <th>60251</th>\n",
       "      <td>10600.0</td>\n",
       "      <td>0</td>\n",
       "      <td>3</td>\n",
       "      <td>3</td>\n",
       "      <td>0</td>\n",
       "      <td>3</td>\n",
       "      <td>gold</td>\n",
       "      <td>2</td>\n",
       "      <td>11</td>\n",
       "    </tr>\n",
       "    <tr>\n",
       "      <th>51946</th>\n",
       "      <td>1028.0</td>\n",
       "      <td>0</td>\n",
       "      <td>2</td>\n",
       "      <td>6</td>\n",
       "      <td>0</td>\n",
       "      <td>1</td>\n",
       "      <td>silver</td>\n",
       "      <td>1</td>\n",
       "      <td>11</td>\n",
       "    </tr>\n",
       "  </tbody>\n",
       "</table>\n",
       "<p>210298 rows × 9 columns</p>\n",
       "</div>"
      ]
     },
     "metadata": {},
     "execution_count": 143
    }
   ],
   "metadata": {}
  },
  {
   "cell_type": "code",
   "execution_count": 144,
   "source": [
    "stack_features.columns"
   ],
   "outputs": [
    {
     "output_type": "execute_result",
     "data": {
      "text/plain": [
       "Index(['user_reputation_score', 'votes', 'answer', 'views', 'accepted_answer',\n",
       "       'user_badge_number', 'user_badge_type', 'tags_count', 'days_in_queue'],\n",
       "      dtype='object')"
      ]
     },
     "metadata": {},
     "execution_count": 144
    }
   ],
   "metadata": {}
  },
  {
   "cell_type": "code",
   "execution_count": 145,
   "source": [
    "categorical = ['user_badge_type']\n",
    "numerical = ['user_reputation_score', 'votes', 'answer', 'views', 'accepted_answer','user_badge_number',  'tags_count', 'days_in_queue']"
   ],
   "outputs": [],
   "metadata": {}
  },
  {
   "cell_type": "code",
   "execution_count": 146,
   "source": [
    "\n",
    "\n",
    "for col in categorical:\n",
    "    stack_features[col] = stack_features[col].replace(r'^\\s*$', 'NaN', regex=True)\n",
    "    \n",
    "for col in numerical:\n",
    "    stack_features[col] = stack_features[col].fillna(0)\n"
   ],
   "outputs": [
    {
     "output_type": "stream",
     "name": "stderr",
     "text": [
      "/home/oyindolapo/Documents/PythonProjects/stackoverflow/vstack/lib/python3.8/site-packages/pandas/core/frame.py:3607: SettingWithCopyWarning: \n",
      "A value is trying to be set on a copy of a slice from a DataFrame.\n",
      "Try using .loc[row_indexer,col_indexer] = value instead\n",
      "\n",
      "See the caveats in the documentation: https://pandas.pydata.org/pandas-docs/stable/user_guide/indexing.html#returning-a-view-versus-a-copy\n",
      "  self._set_item(key, value)\n"
     ]
    }
   ],
   "metadata": {}
  },
  {
   "cell_type": "code",
   "execution_count": 147,
   "source": [
    "def labelEncode(feature):\n",
    "    lbl = LabelEncoder()\n",
    "    lbl.fit(feature)\n",
    "    model_filename = 'api/model/labelencoding.pkl'\n",
    "    with open(model_filename, 'wb') as f:\n",
    "        pickle.dump(lbl, f)\n",
    "\n",
    "def oneHotEncodeLabel(feature):\n",
    "    ohe = OneHotEncoder(handle_unknown='ignore')\n",
    "    ohe.fit(feature)\n",
    "    model_filename = 'api/model/onehotencoding.pkl'\n",
    "    with open(model_filename, 'wb') as f:\n",
    "        pickle.dump(ohe, f)"
   ],
   "outputs": [],
   "metadata": {}
  },
  {
   "cell_type": "code",
   "execution_count": 148,
   "source": [
    "labelEncode(feature = stack_features['user_badge_type'])"
   ],
   "outputs": [],
   "metadata": {}
  },
  {
   "cell_type": "code",
   "execution_count": 149,
   "source": [
    "lb_name = 'api/model/labelencoding.pkl'\n",
    "model = open(lb_name, 'rb')\n",
    "lb_encode = pickle.load(model)"
   ],
   "outputs": [],
   "metadata": {}
  },
  {
   "cell_type": "code",
   "execution_count": 150,
   "source": [
    "stack_features['encoded_user_badge'] = lb_encode.transform(stack_features['user_badge_type'])"
   ],
   "outputs": [],
   "metadata": {}
  },
  {
   "cell_type": "code",
   "execution_count": 151,
   "source": [
    "oneHotEncodeLabel(stack_features[['encoded_user_badge']])\n",
    "\n",
    "#enc_df = pd.DataFrame(enc.fit_transform(bridge_df[['Bridge_Types_Cat']]).toarray())"
   ],
   "outputs": [],
   "metadata": {}
  },
  {
   "cell_type": "code",
   "execution_count": 152,
   "source": [
    "\n",
    "\n",
    "\n",
    "lb_name = 'api/model/onehotencoding.pkl'\n",
    "model = open(lb_name, 'rb')\n",
    "ohe_encode = pickle.load(model)"
   ],
   "outputs": [],
   "metadata": {}
  },
  {
   "cell_type": "code",
   "execution_count": 153,
   "source": [
    "lb_encode.classes_"
   ],
   "outputs": [
    {
     "output_type": "execute_result",
     "data": {
      "text/plain": [
       "array(['bronze', 'gold', 'silver', nan], dtype=object)"
      ]
     },
     "metadata": {},
     "execution_count": 153
    }
   ],
   "metadata": {}
  },
  {
   "cell_type": "code",
   "execution_count": 154,
   "source": [
    "encoded_badge = ohe_encode.transform(stack_features[['encoded_user_badge']]).toarray()\n",
    "\n",
    "encoded_badge = pd.DataFrame(encoded_badge)"
   ],
   "outputs": [],
   "metadata": {}
  },
  {
   "cell_type": "code",
   "execution_count": 155,
   "source": [
    "stack_features = pd.merge(stack_features, encoded_badge, left_index=True, right_index=True)"
   ],
   "outputs": [],
   "metadata": {}
  },
  {
   "cell_type": "code",
   "execution_count": 156,
   "source": [
    "dt_feature = stack_features.copy().drop(columns=['user_badge_type', 'tags_count', 'encoded_user_badge'])"
   ],
   "outputs": [],
   "metadata": {}
  },
  {
   "cell_type": "code",
   "execution_count": 157,
   "source": [
    "feature_y = stack_features['tags_count']"
   ],
   "outputs": [],
   "metadata": {}
  },
  {
   "cell_type": "code",
   "execution_count": 158,
   "source": [
    "column_name = ['user_reputation_score', 'votes','answer', 'views','accepted_answer',  'user_badge_number','days_in_queue', 'User Badge bronze','User Badge gold','User Badge silver', 'Number of User Badge']\n"
   ],
   "outputs": [],
   "metadata": {}
  },
  {
   "cell_type": "code",
   "execution_count": 159,
   "source": [
    "dt_feature"
   ],
   "outputs": [
    {
     "output_type": "execute_result",
     "data": {
      "text/plain": [
       "        user_reputation_score  votes  answer  views  accepted_answer  \\\n",
       "187350                  311.0      1       1      2                0   \n",
       "108100                   54.0      1       1      6                0   \n",
       "159076                   21.0      0       2      3                0   \n",
       "63209                    26.0      0       2      3                0   \n",
       "107187                  161.0      1       2      5                1   \n",
       "...                       ...    ...     ...    ...              ...   \n",
       "155582                25700.0      0       1      3                0   \n",
       "163858                    1.0      0       0      1                0   \n",
       "18417                     1.0     -1       0      1                0   \n",
       "60251                 10600.0      0       3      3                0   \n",
       "51946                  1028.0      0       2      6                0   \n",
       "\n",
       "       user_badge_number  days_in_queue    0    1    2    3  \n",
       "187350                 1             27  0.0  1.0  0.0  0.0  \n",
       "108100                 2             17  1.0  0.0  0.0  0.0  \n",
       "159076                 3             24  0.0  1.0  0.0  0.0  \n",
       "63209                  3             12  0.0  0.0  1.0  0.0  \n",
       "107187                 1             17  1.0  0.0  0.0  0.0  \n",
       "...                  ...            ...  ...  ...  ...  ...  \n",
       "155582                 5             24  1.0  0.0  0.0  0.0  \n",
       "163858                 0             24  0.0  0.0  1.0  0.0  \n",
       "18417                  1              6  0.0  1.0  0.0  0.0  \n",
       "60251                  3             11  1.0  0.0  0.0  0.0  \n",
       "51946                  1             11  0.0  0.0  1.0  0.0  \n",
       "\n",
       "[210298 rows x 11 columns]"
      ],
      "text/html": [
       "<div>\n",
       "<style scoped>\n",
       "    .dataframe tbody tr th:only-of-type {\n",
       "        vertical-align: middle;\n",
       "    }\n",
       "\n",
       "    .dataframe tbody tr th {\n",
       "        vertical-align: top;\n",
       "    }\n",
       "\n",
       "    .dataframe thead th {\n",
       "        text-align: right;\n",
       "    }\n",
       "</style>\n",
       "<table border=\"1\" class=\"dataframe\">\n",
       "  <thead>\n",
       "    <tr style=\"text-align: right;\">\n",
       "      <th></th>\n",
       "      <th>user_reputation_score</th>\n",
       "      <th>votes</th>\n",
       "      <th>answer</th>\n",
       "      <th>views</th>\n",
       "      <th>accepted_answer</th>\n",
       "      <th>user_badge_number</th>\n",
       "      <th>days_in_queue</th>\n",
       "      <th>0</th>\n",
       "      <th>1</th>\n",
       "      <th>2</th>\n",
       "      <th>3</th>\n",
       "    </tr>\n",
       "  </thead>\n",
       "  <tbody>\n",
       "    <tr>\n",
       "      <th>187350</th>\n",
       "      <td>311.0</td>\n",
       "      <td>1</td>\n",
       "      <td>1</td>\n",
       "      <td>2</td>\n",
       "      <td>0</td>\n",
       "      <td>1</td>\n",
       "      <td>27</td>\n",
       "      <td>0.0</td>\n",
       "      <td>1.0</td>\n",
       "      <td>0.0</td>\n",
       "      <td>0.0</td>\n",
       "    </tr>\n",
       "    <tr>\n",
       "      <th>108100</th>\n",
       "      <td>54.0</td>\n",
       "      <td>1</td>\n",
       "      <td>1</td>\n",
       "      <td>6</td>\n",
       "      <td>0</td>\n",
       "      <td>2</td>\n",
       "      <td>17</td>\n",
       "      <td>1.0</td>\n",
       "      <td>0.0</td>\n",
       "      <td>0.0</td>\n",
       "      <td>0.0</td>\n",
       "    </tr>\n",
       "    <tr>\n",
       "      <th>159076</th>\n",
       "      <td>21.0</td>\n",
       "      <td>0</td>\n",
       "      <td>2</td>\n",
       "      <td>3</td>\n",
       "      <td>0</td>\n",
       "      <td>3</td>\n",
       "      <td>24</td>\n",
       "      <td>0.0</td>\n",
       "      <td>1.0</td>\n",
       "      <td>0.0</td>\n",
       "      <td>0.0</td>\n",
       "    </tr>\n",
       "    <tr>\n",
       "      <th>63209</th>\n",
       "      <td>26.0</td>\n",
       "      <td>0</td>\n",
       "      <td>2</td>\n",
       "      <td>3</td>\n",
       "      <td>0</td>\n",
       "      <td>3</td>\n",
       "      <td>12</td>\n",
       "      <td>0.0</td>\n",
       "      <td>0.0</td>\n",
       "      <td>1.0</td>\n",
       "      <td>0.0</td>\n",
       "    </tr>\n",
       "    <tr>\n",
       "      <th>107187</th>\n",
       "      <td>161.0</td>\n",
       "      <td>1</td>\n",
       "      <td>2</td>\n",
       "      <td>5</td>\n",
       "      <td>1</td>\n",
       "      <td>1</td>\n",
       "      <td>17</td>\n",
       "      <td>1.0</td>\n",
       "      <td>0.0</td>\n",
       "      <td>0.0</td>\n",
       "      <td>0.0</td>\n",
       "    </tr>\n",
       "    <tr>\n",
       "      <th>...</th>\n",
       "      <td>...</td>\n",
       "      <td>...</td>\n",
       "      <td>...</td>\n",
       "      <td>...</td>\n",
       "      <td>...</td>\n",
       "      <td>...</td>\n",
       "      <td>...</td>\n",
       "      <td>...</td>\n",
       "      <td>...</td>\n",
       "      <td>...</td>\n",
       "      <td>...</td>\n",
       "    </tr>\n",
       "    <tr>\n",
       "      <th>155582</th>\n",
       "      <td>25700.0</td>\n",
       "      <td>0</td>\n",
       "      <td>1</td>\n",
       "      <td>3</td>\n",
       "      <td>0</td>\n",
       "      <td>5</td>\n",
       "      <td>24</td>\n",
       "      <td>1.0</td>\n",
       "      <td>0.0</td>\n",
       "      <td>0.0</td>\n",
       "      <td>0.0</td>\n",
       "    </tr>\n",
       "    <tr>\n",
       "      <th>163858</th>\n",
       "      <td>1.0</td>\n",
       "      <td>0</td>\n",
       "      <td>0</td>\n",
       "      <td>1</td>\n",
       "      <td>0</td>\n",
       "      <td>0</td>\n",
       "      <td>24</td>\n",
       "      <td>0.0</td>\n",
       "      <td>0.0</td>\n",
       "      <td>1.0</td>\n",
       "      <td>0.0</td>\n",
       "    </tr>\n",
       "    <tr>\n",
       "      <th>18417</th>\n",
       "      <td>1.0</td>\n",
       "      <td>-1</td>\n",
       "      <td>0</td>\n",
       "      <td>1</td>\n",
       "      <td>0</td>\n",
       "      <td>1</td>\n",
       "      <td>6</td>\n",
       "      <td>0.0</td>\n",
       "      <td>1.0</td>\n",
       "      <td>0.0</td>\n",
       "      <td>0.0</td>\n",
       "    </tr>\n",
       "    <tr>\n",
       "      <th>60251</th>\n",
       "      <td>10600.0</td>\n",
       "      <td>0</td>\n",
       "      <td>3</td>\n",
       "      <td>3</td>\n",
       "      <td>0</td>\n",
       "      <td>3</td>\n",
       "      <td>11</td>\n",
       "      <td>1.0</td>\n",
       "      <td>0.0</td>\n",
       "      <td>0.0</td>\n",
       "      <td>0.0</td>\n",
       "    </tr>\n",
       "    <tr>\n",
       "      <th>51946</th>\n",
       "      <td>1028.0</td>\n",
       "      <td>0</td>\n",
       "      <td>2</td>\n",
       "      <td>6</td>\n",
       "      <td>0</td>\n",
       "      <td>1</td>\n",
       "      <td>11</td>\n",
       "      <td>0.0</td>\n",
       "      <td>0.0</td>\n",
       "      <td>1.0</td>\n",
       "      <td>0.0</td>\n",
       "    </tr>\n",
       "  </tbody>\n",
       "</table>\n",
       "<p>210298 rows × 11 columns</p>\n",
       "</div>"
      ]
     },
     "metadata": {},
     "execution_count": 159
    }
   ],
   "metadata": {}
  },
  {
   "cell_type": "code",
   "execution_count": 160,
   "source": [
    "dt_model = DecisionTreeClassifier( max_depth=5, min_samples_leaf=100, random_state=0)\n",
    "dt_model.fit(dt_feature, feature_y)\n",
    "\n",
    "model_filename = 'api/model/decisiontree.pkl'\n",
    "with open(model_filename, 'wb') as f:\n",
    "    pickle.dump(dt_model, f)\n"
   ],
   "outputs": [],
   "metadata": {}
  },
  {
   "cell_type": "code",
   "execution_count": 161,
   "source": [
    "dot_data = tree.export_graphviz(dt_model, out_file=None,  feature_names=column_name,  \n",
    "                   class_names='tags_count',  \n",
    "   filled=True, rounded=True,  \n",
    "               special_characters=True)  \n",
    "graph = graphviz.Source(dot_data)\n",
    "graph.render('stackoverflow')\n",
    "graph"
   ],
   "outputs": [
    {
     "output_type": "execute_result",
     "data": {
      "text/plain": [
       "<graphviz.files.Source at 0x7fa9e1f746a0>"
      ],
      "image/svg+xml": "<?xml version=\"1.0\" encoding=\"UTF-8\" standalone=\"no\"?>\n<!DOCTYPE svg PUBLIC \"-//W3C//DTD SVG 1.1//EN\"\n \"http://www.w3.org/Graphics/SVG/1.1/DTD/svg11.dtd\">\n<!-- Generated by graphviz version 2.43.0 (0)\n -->\n<!-- Title: Tree Pages: 1 -->\n<svg width=\"8749pt\" height=\"671pt\"\n viewBox=\"0.00 0.00 8749.00 671.00\" xmlns=\"http://www.w3.org/2000/svg\" xmlns:xlink=\"http://www.w3.org/1999/xlink\">\n<g id=\"graph0\" class=\"graph\" transform=\"scale(1 1) rotate(0) translate(4 667)\">\n<title>Tree</title>\n<polygon fill=\"white\" stroke=\"transparent\" points=\"-4,4 -4,-667 8745,-667 8745,4 -4,4\"/>\n<!-- 0 -->\n<g id=\"node1\" class=\"node\">\n<title>0</title>\n<path fill=\"#f7fefd\" stroke=\"black\" d=\"M4915,-663C4915,-663 4592,-663 4592,-663 4586,-663 4580,-657 4580,-651 4580,-651 4580,-592 4580,-592 4580,-586 4586,-580 4592,-580 4592,-580 4915,-580 4915,-580 4921,-580 4927,-586 4927,-592 4927,-592 4927,-651 4927,-651 4927,-657 4921,-663 4915,-663\"/>\n<text text-anchor=\"start\" x=\"4710\" y=\"-647.8\" font-family=\"Helvetica,sans-Serif\" font-size=\"14.00\">votes ≤ &#45;0.5</text>\n<text text-anchor=\"start\" x=\"4709.5\" y=\"-632.8\" font-family=\"Helvetica,sans-Serif\" font-size=\"14.00\">gini = 0.783</text>\n<text text-anchor=\"start\" x=\"4687\" y=\"-617.8\" font-family=\"Helvetica,sans-Serif\" font-size=\"14.00\">samples = 210298</text>\n<text text-anchor=\"start\" x=\"4588\" y=\"-602.8\" font-family=\"Helvetica,sans-Serif\" font-size=\"14.00\">value = [24157, 51935, 58159, 42211, 33836]</text>\n<text text-anchor=\"start\" x=\"4721\" y=\"-587.8\" font-family=\"Helvetica,sans-Serif\" font-size=\"14.00\">class = g</text>\n</g>\n<!-- 1 -->\n<g id=\"node2\" class=\"node\">\n<title>1</title>\n<path fill=\"#fcfefa\" stroke=\"black\" d=\"M3363.5,-544C3363.5,-544 3085.5,-544 3085.5,-544 3079.5,-544 3073.5,-538 3073.5,-532 3073.5,-532 3073.5,-473 3073.5,-473 3073.5,-467 3079.5,-461 3085.5,-461 3085.5,-461 3363.5,-461 3363.5,-461 3369.5,-461 3375.5,-467 3375.5,-473 3375.5,-473 3375.5,-532 3375.5,-532 3375.5,-538 3369.5,-544 3363.5,-544\"/>\n<text text-anchor=\"start\" x=\"3181\" y=\"-528.8\" font-family=\"Helvetica,sans-Serif\" font-size=\"14.00\">votes ≤ &#45;1.5</text>\n<text text-anchor=\"start\" x=\"3180.5\" y=\"-513.8\" font-family=\"Helvetica,sans-Serif\" font-size=\"14.00\">gini = 0.784</text>\n<text text-anchor=\"start\" x=\"3162.5\" y=\"-498.8\" font-family=\"Helvetica,sans-Serif\" font-size=\"14.00\">samples = 25331</text>\n<text text-anchor=\"start\" x=\"3081.5\" y=\"-483.8\" font-family=\"Helvetica,sans-Serif\" font-size=\"14.00\">value = [4148, 7010, 6539, 4337, 3297]</text>\n<text text-anchor=\"start\" x=\"3192.5\" y=\"-468.8\" font-family=\"Helvetica,sans-Serif\" font-size=\"14.00\">class = a</text>\n</g>\n<!-- 0&#45;&gt;1 -->\n<g id=\"edge1\" class=\"edge\">\n<title>0&#45;&gt;1</title>\n<path fill=\"none\" stroke=\"black\" d=\"M4579.96,-607.22C4281.54,-584.39 3675.35,-538 3385.67,-515.83\"/>\n<polygon fill=\"black\" stroke=\"black\" points=\"3385.74,-512.33 3375.5,-515.05 3385.21,-519.31 3385.74,-512.33\"/>\n<text text-anchor=\"middle\" x=\"3391.78\" y=\"-530.33\" font-family=\"Helvetica,sans-Serif\" font-size=\"14.00\">True</text>\n</g>\n<!-- 32 -->\n<g id=\"node33\" class=\"node\">\n<title>32</title>\n<path fill=\"#f6fefc\" stroke=\"black\" d=\"M5394,-544C5394,-544 5071,-544 5071,-544 5065,-544 5059,-538 5059,-532 5059,-532 5059,-473 5059,-473 5059,-467 5065,-461 5071,-461 5071,-461 5394,-461 5394,-461 5400,-461 5406,-467 5406,-473 5406,-473 5406,-532 5406,-532 5406,-538 5400,-544 5394,-544\"/>\n<text text-anchor=\"start\" x=\"5125.5\" y=\"-528.8\" font-family=\"Helvetica,sans-Serif\" font-size=\"14.00\">user_reputation_score ≤ 364.5</text>\n<text text-anchor=\"start\" x=\"5188.5\" y=\"-513.8\" font-family=\"Helvetica,sans-Serif\" font-size=\"14.00\">gini = 0.782</text>\n<text text-anchor=\"start\" x=\"5166\" y=\"-498.8\" font-family=\"Helvetica,sans-Serif\" font-size=\"14.00\">samples = 184967</text>\n<text text-anchor=\"start\" x=\"5067\" y=\"-483.8\" font-family=\"Helvetica,sans-Serif\" font-size=\"14.00\">value = [20009, 44925, 51620, 37874, 30539]</text>\n<text text-anchor=\"start\" x=\"5200\" y=\"-468.8\" font-family=\"Helvetica,sans-Serif\" font-size=\"14.00\">class = g</text>\n</g>\n<!-- 0&#45;&gt;32 -->\n<g id=\"edge32\" class=\"edge\">\n<title>0&#45;&gt;32</title>\n<path fill=\"none\" stroke=\"black\" d=\"M4919.35,-579.99C4963.67,-569.16 5011.72,-557.43 5056.57,-546.47\"/>\n<polygon fill=\"black\" stroke=\"black\" points=\"5057.5,-549.85 5066.39,-544.07 5055.84,-543.05 5057.5,-549.85\"/>\n<text text-anchor=\"middle\" x=\"5053.41\" y=\"-561.74\" font-family=\"Helvetica,sans-Serif\" font-size=\"14.00\">False</text>\n</g>\n<!-- 2 -->\n<g id=\"node3\" class=\"node\">\n<title>2</title>\n<path fill=\"#f7fef4\" stroke=\"black\" d=\"M1685.5,-425C1685.5,-425 1407.5,-425 1407.5,-425 1401.5,-425 1395.5,-419 1395.5,-413 1395.5,-413 1395.5,-354 1395.5,-354 1395.5,-348 1401.5,-342 1407.5,-342 1407.5,-342 1685.5,-342 1685.5,-342 1691.5,-342 1697.5,-348 1697.5,-354 1697.5,-354 1697.5,-413 1697.5,-413 1697.5,-419 1691.5,-425 1685.5,-425\"/>\n<text text-anchor=\"start\" x=\"1444\" y=\"-409.8\" font-family=\"Helvetica,sans-Serif\" font-size=\"14.00\">user_reputation_score ≤ 52.5</text>\n<text text-anchor=\"start\" x=\"1502.5\" y=\"-394.8\" font-family=\"Helvetica,sans-Serif\" font-size=\"14.00\">gini = 0.782</text>\n<text text-anchor=\"start\" x=\"1489\" y=\"-379.8\" font-family=\"Helvetica,sans-Serif\" font-size=\"14.00\">samples = 9362</text>\n<text text-anchor=\"start\" x=\"1403.5\" y=\"-364.8\" font-family=\"Helvetica,sans-Serif\" font-size=\"14.00\">value = [1884, 2684, 2276, 1412, 1106]</text>\n<text text-anchor=\"start\" x=\"1514.5\" y=\"-349.8\" font-family=\"Helvetica,sans-Serif\" font-size=\"14.00\">class = a</text>\n</g>\n<!-- 1&#45;&gt;2 -->\n<g id=\"edge2\" class=\"edge\">\n<title>1&#45;&gt;2</title>\n<path fill=\"none\" stroke=\"black\" d=\"M3073.37,-490.96C2757.98,-468.97 2032.18,-418.36 1708.01,-395.76\"/>\n<polygon fill=\"black\" stroke=\"black\" points=\"1707.81,-392.24 1697.59,-395.03 1707.32,-399.22 1707.81,-392.24\"/>\n</g>\n<!-- 17 -->\n<g id=\"node18\" class=\"node\">\n<title>17</title>\n<path fill=\"#fefffe\" stroke=\"black\" d=\"M3363.5,-425C3363.5,-425 3085.5,-425 3085.5,-425 3079.5,-425 3073.5,-419 3073.5,-413 3073.5,-413 3073.5,-354 3073.5,-354 3073.5,-348 3079.5,-342 3085.5,-342 3085.5,-342 3363.5,-342 3363.5,-342 3369.5,-342 3375.5,-348 3375.5,-354 3375.5,-354 3375.5,-413 3375.5,-413 3375.5,-419 3369.5,-425 3363.5,-425\"/>\n<text text-anchor=\"start\" x=\"3131\" y=\"-409.8\" font-family=\"Helvetica,sans-Serif\" font-size=\"14.00\">user_badge_number ≤ 0.5</text>\n<text text-anchor=\"start\" x=\"3180.5\" y=\"-394.8\" font-family=\"Helvetica,sans-Serif\" font-size=\"14.00\">gini = 0.783</text>\n<text text-anchor=\"start\" x=\"3162.5\" y=\"-379.8\" font-family=\"Helvetica,sans-Serif\" font-size=\"14.00\">samples = 15969</text>\n<text text-anchor=\"start\" x=\"3081.5\" y=\"-364.8\" font-family=\"Helvetica,sans-Serif\" font-size=\"14.00\">value = [2264, 4326, 4263, 2925, 2191]</text>\n<text text-anchor=\"start\" x=\"3192.5\" y=\"-349.8\" font-family=\"Helvetica,sans-Serif\" font-size=\"14.00\">class = a</text>\n</g>\n<!-- 1&#45;&gt;17 -->\n<g id=\"edge17\" class=\"edge\">\n<title>1&#45;&gt;17</title>\n<path fill=\"none\" stroke=\"black\" d=\"M3224.5,-460.91C3224.5,-452.65 3224.5,-443.86 3224.5,-435.3\"/>\n<polygon fill=\"black\" stroke=\"black\" points=\"3228,-435.02 3224.5,-425.02 3221,-435.02 3228,-435.02\"/>\n</g>\n<!-- 3 -->\n<g id=\"node4\" class=\"node\">\n<title>3</title>\n<path fill=\"#fbfef9\" stroke=\"black\" d=\"M914,-306C914,-306 663,-306 663,-306 657,-306 651,-300 651,-294 651,-294 651,-235 651,-235 651,-229 657,-223 663,-223 663,-223 914,-223 914,-223 920,-223 926,-229 926,-235 926,-235 926,-294 926,-294 926,-300 920,-306 914,-306\"/>\n<text text-anchor=\"start\" x=\"695\" y=\"-290.8\" font-family=\"Helvetica,sans-Serif\" font-size=\"14.00\">user_badge_number ≤ 0.5</text>\n<text text-anchor=\"start\" x=\"744.5\" y=\"-275.8\" font-family=\"Helvetica,sans-Serif\" font-size=\"14.00\">gini = 0.789</text>\n<text text-anchor=\"start\" x=\"731\" y=\"-260.8\" font-family=\"Helvetica,sans-Serif\" font-size=\"14.00\">samples = 4464</text>\n<text text-anchor=\"start\" x=\"659\" y=\"-245.8\" font-family=\"Helvetica,sans-Serif\" font-size=\"14.00\">value = [953, 1161, 1052, 689, 609]</text>\n<text text-anchor=\"start\" x=\"756.5\" y=\"-230.8\" font-family=\"Helvetica,sans-Serif\" font-size=\"14.00\">class = a</text>\n</g>\n<!-- 2&#45;&gt;3 -->\n<g id=\"edge3\" class=\"edge\">\n<title>2&#45;&gt;3</title>\n<path fill=\"none\" stroke=\"black\" d=\"M1395.38,-359.17C1262.05,-338.59 1068.88,-308.78 936.49,-288.34\"/>\n<polygon fill=\"black\" stroke=\"black\" points=\"936.69,-284.83 926.27,-286.77 935.62,-291.75 936.69,-284.83\"/>\n</g>\n<!-- 10 -->\n<g id=\"node11\" class=\"node\">\n<title>10</title>\n<path fill=\"#f4fdef\" stroke=\"black\" d=\"M1672,-306C1672,-306 1421,-306 1421,-306 1415,-306 1409,-300 1409,-294 1409,-294 1409,-235 1409,-235 1409,-229 1415,-223 1421,-223 1421,-223 1672,-223 1672,-223 1678,-223 1684,-229 1684,-235 1684,-235 1684,-294 1684,-294 1684,-300 1678,-306 1672,-306\"/>\n<text text-anchor=\"start\" x=\"1503\" y=\"-290.8\" font-family=\"Helvetica,sans-Serif\" font-size=\"14.00\">votes ≤ &#45;3.5</text>\n<text text-anchor=\"start\" x=\"1502.5\" y=\"-275.8\" font-family=\"Helvetica,sans-Serif\" font-size=\"14.00\">gini = 0.773</text>\n<text text-anchor=\"start\" x=\"1489\" y=\"-260.8\" font-family=\"Helvetica,sans-Serif\" font-size=\"14.00\">samples = 4898</text>\n<text text-anchor=\"start\" x=\"1417\" y=\"-245.8\" font-family=\"Helvetica,sans-Serif\" font-size=\"14.00\">value = [931, 1523, 1224, 723, 497]</text>\n<text text-anchor=\"start\" x=\"1514.5\" y=\"-230.8\" font-family=\"Helvetica,sans-Serif\" font-size=\"14.00\">class = a</text>\n</g>\n<!-- 2&#45;&gt;10 -->\n<g id=\"edge10\" class=\"edge\">\n<title>2&#45;&gt;10</title>\n<path fill=\"none\" stroke=\"black\" d=\"M1546.5,-341.91C1546.5,-333.65 1546.5,-324.86 1546.5,-316.3\"/>\n<polygon fill=\"black\" stroke=\"black\" points=\"1550,-316.02 1546.5,-306.02 1543,-316.02 1550,-316.02\"/>\n</g>\n<!-- 4 -->\n<g id=\"node5\" class=\"node\">\n<title>4</title>\n<path fill=\"#fffdfc\" stroke=\"black\" d=\"M502,-187C502,-187 269,-187 269,-187 263,-187 257,-181 257,-175 257,-175 257,-116 257,-116 257,-110 263,-104 269,-104 269,-104 502,-104 502,-104 508,-104 514,-110 514,-116 514,-116 514,-175 514,-175 514,-181 508,-187 502,-187\"/>\n<text text-anchor=\"start\" x=\"344\" y=\"-171.8\" font-family=\"Helvetica,sans-Serif\" font-size=\"14.00\">views ≤ 2.5</text>\n<text text-anchor=\"start\" x=\"346\" y=\"-156.8\" font-family=\"Helvetica,sans-Serif\" font-size=\"14.00\">gini = 0.78</text>\n<text text-anchor=\"start\" x=\"328\" y=\"-141.8\" font-family=\"Helvetica,sans-Serif\" font-size=\"14.00\">samples = 1465</text>\n<text text-anchor=\"start\" x=\"265\" y=\"-126.8\" font-family=\"Helvetica,sans-Serif\" font-size=\"14.00\">value = [394, 380, 320, 203, 168]</text>\n<text text-anchor=\"start\" x=\"355\" y=\"-111.8\" font-family=\"Helvetica,sans-Serif\" font-size=\"14.00\">class = t</text>\n</g>\n<!-- 3&#45;&gt;4 -->\n<g id=\"edge4\" class=\"edge\">\n<title>3&#45;&gt;4</title>\n<path fill=\"none\" stroke=\"black\" d=\"M650.94,-223.56C609.98,-211.67 565.1,-198.64 524.08,-186.73\"/>\n<polygon fill=\"black\" stroke=\"black\" points=\"524.88,-183.32 514.3,-183.89 522.93,-190.04 524.88,-183.32\"/>\n</g>\n<!-- 7 -->\n<g id=\"node8\" class=\"node\">\n<title>7</title>\n<path fill=\"#fcfefb\" stroke=\"black\" d=\"M905,-187C905,-187 672,-187 672,-187 666,-187 660,-181 660,-175 660,-175 660,-116 660,-116 660,-110 666,-104 672,-104 672,-104 905,-104 905,-104 911,-104 917,-110 917,-116 917,-116 917,-175 917,-175 917,-181 911,-187 905,-187\"/>\n<text text-anchor=\"start\" x=\"695\" y=\"-171.8\" font-family=\"Helvetica,sans-Serif\" font-size=\"14.00\">user_badge_number ≤ 2.5</text>\n<text text-anchor=\"start\" x=\"749\" y=\"-156.8\" font-family=\"Helvetica,sans-Serif\" font-size=\"14.00\">gini = 0.79</text>\n<text text-anchor=\"start\" x=\"731\" y=\"-141.8\" font-family=\"Helvetica,sans-Serif\" font-size=\"14.00\">samples = 2999</text>\n<text text-anchor=\"start\" x=\"668\" y=\"-126.8\" font-family=\"Helvetica,sans-Serif\" font-size=\"14.00\">value = [559, 781, 732, 486, 441]</text>\n<text text-anchor=\"start\" x=\"756.5\" y=\"-111.8\" font-family=\"Helvetica,sans-Serif\" font-size=\"14.00\">class = a</text>\n</g>\n<!-- 3&#45;&gt;7 -->\n<g id=\"edge7\" class=\"edge\">\n<title>3&#45;&gt;7</title>\n<path fill=\"none\" stroke=\"black\" d=\"M788.5,-222.91C788.5,-214.65 788.5,-205.86 788.5,-197.3\"/>\n<polygon fill=\"black\" stroke=\"black\" points=\"792,-197.02 788.5,-187.02 785,-197.02 792,-197.02\"/>\n</g>\n<!-- 5 -->\n<g id=\"node6\" class=\"node\">\n<title>5</title>\n<path fill=\"#fbfef9\" stroke=\"black\" d=\"M245,-68C245,-68 12,-68 12,-68 6,-68 0,-62 0,-56 0,-56 0,-12 0,-12 0,-6 6,0 12,0 12,0 245,0 245,0 251,0 257,-6 257,-12 257,-12 257,-56 257,-56 257,-62 251,-68 245,-68\"/>\n<text text-anchor=\"start\" x=\"84.5\" y=\"-52.8\" font-family=\"Helvetica,sans-Serif\" font-size=\"14.00\">gini = 0.785</text>\n<text text-anchor=\"start\" x=\"71\" y=\"-37.8\" font-family=\"Helvetica,sans-Serif\" font-size=\"14.00\">samples = 1069</text>\n<text text-anchor=\"start\" x=\"8\" y=\"-22.8\" font-family=\"Helvetica,sans-Serif\" font-size=\"14.00\">value = [258, 282, 243, 150, 136]</text>\n<text text-anchor=\"start\" x=\"96.5\" y=\"-7.8\" font-family=\"Helvetica,sans-Serif\" font-size=\"14.00\">class = a</text>\n</g>\n<!-- 4&#45;&gt;5 -->\n<g id=\"edge5\" class=\"edge\">\n<title>4&#45;&gt;5</title>\n<path fill=\"none\" stroke=\"black\" d=\"M290.17,-103.88C265.7,-93.46 239.52,-82.3 215.5,-72.07\"/>\n<polygon fill=\"black\" stroke=\"black\" points=\"216.63,-68.74 206.05,-68.04 213.88,-75.18 216.63,-68.74\"/>\n</g>\n<!-- 6 -->\n<g id=\"node7\" class=\"node\">\n<title>6</title>\n<path fill=\"#fcefe6\" stroke=\"black\" d=\"M484,-68C484,-68 287,-68 287,-68 281,-68 275,-62 275,-56 275,-56 275,-12 275,-12 275,-6 281,0 287,0 287,0 484,0 484,0 490,0 496,-6 496,-12 496,-12 496,-56 496,-56 496,-62 490,-68 484,-68\"/>\n<text text-anchor=\"start\" x=\"341.5\" y=\"-52.8\" font-family=\"Helvetica,sans-Serif\" font-size=\"14.00\">gini = 0.759</text>\n<text text-anchor=\"start\" x=\"332.5\" y=\"-37.8\" font-family=\"Helvetica,sans-Serif\" font-size=\"14.00\">samples = 396</text>\n<text text-anchor=\"start\" x=\"283\" y=\"-22.8\" font-family=\"Helvetica,sans-Serif\" font-size=\"14.00\">value = [136, 98, 77, 53, 32]</text>\n<text text-anchor=\"start\" x=\"355\" y=\"-7.8\" font-family=\"Helvetica,sans-Serif\" font-size=\"14.00\">class = t</text>\n</g>\n<!-- 4&#45;&gt;6 -->\n<g id=\"edge6\" class=\"edge\">\n<title>4&#45;&gt;6</title>\n<path fill=\"none\" stroke=\"black\" d=\"M385.5,-103.73C385.5,-95.52 385.5,-86.86 385.5,-78.56\"/>\n<polygon fill=\"black\" stroke=\"black\" points=\"389,-78.3 385.5,-68.3 382,-78.3 389,-78.3\"/>\n</g>\n<!-- 8 -->\n<g id=\"node9\" class=\"node\">\n<title>8</title>\n<path fill=\"#f9fef6\" stroke=\"black\" d=\"M759,-68C759,-68 526,-68 526,-68 520,-68 514,-62 514,-56 514,-56 514,-12 514,-12 514,-6 520,0 526,0 526,0 759,0 759,0 765,0 771,-6 771,-12 771,-12 771,-56 771,-56 771,-62 765,-68 759,-68\"/>\n<text text-anchor=\"start\" x=\"598.5\" y=\"-52.8\" font-family=\"Helvetica,sans-Serif\" font-size=\"14.00\">gini = 0.791</text>\n<text text-anchor=\"start\" x=\"585\" y=\"-37.8\" font-family=\"Helvetica,sans-Serif\" font-size=\"14.00\">samples = 1903</text>\n<text text-anchor=\"start\" x=\"522\" y=\"-22.8\" font-family=\"Helvetica,sans-Serif\" font-size=\"14.00\">value = [381, 500, 436, 308, 278]</text>\n<text text-anchor=\"start\" x=\"610.5\" y=\"-7.8\" font-family=\"Helvetica,sans-Serif\" font-size=\"14.00\">class = a</text>\n</g>\n<!-- 7&#45;&gt;8 -->\n<g id=\"edge8\" class=\"edge\">\n<title>7&#45;&gt;8</title>\n<path fill=\"none\" stroke=\"black\" d=\"M734.13,-103.73C721.37,-94.15 707.78,-83.96 695.09,-74.44\"/>\n<polygon fill=\"black\" stroke=\"black\" points=\"697,-71.5 686.9,-68.3 692.8,-77.1 697,-71.5\"/>\n</g>\n<!-- 9 -->\n<g id=\"node10\" class=\"node\">\n<title>9</title>\n<path fill=\"#fbfffe\" stroke=\"black\" d=\"M1034,-68C1034,-68 801,-68 801,-68 795,-68 789,-62 789,-56 789,-56 789,-12 789,-12 789,-6 795,0 801,0 801,0 1034,0 1034,0 1040,0 1046,-6 1046,-12 1046,-12 1046,-56 1046,-56 1046,-62 1040,-68 1034,-68\"/>\n<text text-anchor=\"start\" x=\"873.5\" y=\"-52.8\" font-family=\"Helvetica,sans-Serif\" font-size=\"14.00\">gini = 0.786</text>\n<text text-anchor=\"start\" x=\"860\" y=\"-37.8\" font-family=\"Helvetica,sans-Serif\" font-size=\"14.00\">samples = 1096</text>\n<text text-anchor=\"start\" x=\"797\" y=\"-22.8\" font-family=\"Helvetica,sans-Serif\" font-size=\"14.00\">value = [178, 281, 296, 178, 163]</text>\n<text text-anchor=\"start\" x=\"885\" y=\"-7.8\" font-family=\"Helvetica,sans-Serif\" font-size=\"14.00\">class = g</text>\n</g>\n<!-- 7&#45;&gt;9 -->\n<g id=\"edge9\" class=\"edge\">\n<title>7&#45;&gt;9</title>\n<path fill=\"none\" stroke=\"black\" d=\"M836.53,-103.73C847.6,-94.33 859.36,-84.35 870.39,-74.99\"/>\n<polygon fill=\"black\" stroke=\"black\" points=\"872.91,-77.44 878.27,-68.3 868.38,-72.1 872.91,-77.44\"/>\n</g>\n<!-- 11 -->\n<g id=\"node12\" class=\"node\">\n<title>11</title>\n<path fill=\"#f8fef5\" stroke=\"black\" d=\"M1518.5,-187C1518.5,-187 1294.5,-187 1294.5,-187 1288.5,-187 1282.5,-181 1282.5,-175 1282.5,-175 1282.5,-116 1282.5,-116 1282.5,-110 1288.5,-104 1294.5,-104 1294.5,-104 1518.5,-104 1518.5,-104 1524.5,-104 1530.5,-110 1530.5,-116 1530.5,-116 1530.5,-175 1530.5,-175 1530.5,-181 1524.5,-187 1518.5,-187\"/>\n<text text-anchor=\"start\" x=\"1290.5\" y=\"-171.8\" font-family=\"Helvetica,sans-Serif\" font-size=\"14.00\">user_reputation_score ≤ 40650.0</text>\n<text text-anchor=\"start\" x=\"1362.5\" y=\"-156.8\" font-family=\"Helvetica,sans-Serif\" font-size=\"14.00\">gini = 0.762</text>\n<text text-anchor=\"start\" x=\"1353.5\" y=\"-141.8\" font-family=\"Helvetica,sans-Serif\" font-size=\"14.00\">samples = 685</text>\n<text text-anchor=\"start\" x=\"1295\" y=\"-126.8\" font-family=\"Helvetica,sans-Serif\" font-size=\"14.00\">value = [178, 204, 171, 79, 53]</text>\n<text text-anchor=\"start\" x=\"1374.5\" y=\"-111.8\" font-family=\"Helvetica,sans-Serif\" font-size=\"14.00\">class = a</text>\n</g>\n<!-- 10&#45;&gt;11 -->\n<g id=\"edge11\" class=\"edge\">\n<title>10&#45;&gt;11</title>\n<path fill=\"none\" stroke=\"black\" d=\"M1497.93,-222.91C1486.63,-213.47 1474.52,-203.34 1462.92,-193.65\"/>\n<polygon fill=\"black\" stroke=\"black\" points=\"1464.9,-190.75 1454.99,-187.02 1460.42,-196.12 1464.9,-190.75\"/>\n</g>\n<!-- 14 -->\n<g id=\"node15\" class=\"node\">\n<title>14</title>\n<path fill=\"#f4fdee\" stroke=\"black\" d=\"M1812,-187C1812,-187 1561,-187 1561,-187 1555,-187 1549,-181 1549,-175 1549,-175 1549,-116 1549,-116 1549,-110 1555,-104 1561,-104 1561,-104 1812,-104 1812,-104 1818,-104 1824,-110 1824,-116 1824,-116 1824,-175 1824,-175 1824,-181 1818,-187 1812,-187\"/>\n<text text-anchor=\"start\" x=\"1579.5\" y=\"-171.8\" font-family=\"Helvetica,sans-Serif\" font-size=\"14.00\">user_reputation_score ≤ 123.5</text>\n<text text-anchor=\"start\" x=\"1642.5\" y=\"-156.8\" font-family=\"Helvetica,sans-Serif\" font-size=\"14.00\">gini = 0.773</text>\n<text text-anchor=\"start\" x=\"1629\" y=\"-141.8\" font-family=\"Helvetica,sans-Serif\" font-size=\"14.00\">samples = 4213</text>\n<text text-anchor=\"start\" x=\"1557\" y=\"-126.8\" font-family=\"Helvetica,sans-Serif\" font-size=\"14.00\">value = [753, 1319, 1053, 644, 444]</text>\n<text text-anchor=\"start\" x=\"1654.5\" y=\"-111.8\" font-family=\"Helvetica,sans-Serif\" font-size=\"14.00\">class = a</text>\n</g>\n<!-- 10&#45;&gt;14 -->\n<g id=\"edge14\" class=\"edge\">\n<title>10&#45;&gt;14</title>\n<path fill=\"none\" stroke=\"black\" d=\"M1595.07,-222.91C1606.37,-213.47 1618.48,-203.34 1630.08,-193.65\"/>\n<polygon fill=\"black\" stroke=\"black\" points=\"1632.58,-196.12 1638.01,-187.02 1628.1,-190.75 1632.58,-196.12\"/>\n</g>\n<!-- 12 -->\n<g id=\"node13\" class=\"node\">\n<title>12</title>\n<path fill=\"#effce7\" stroke=\"black\" d=\"M1291,-68C1291,-68 1076,-68 1076,-68 1070,-68 1064,-62 1064,-56 1064,-56 1064,-12 1064,-12 1064,-6 1070,0 1076,0 1076,0 1291,0 1291,0 1297,0 1303,-6 1303,-12 1303,-12 1303,-56 1303,-56 1303,-62 1297,-68 1291,-68\"/>\n<text text-anchor=\"start\" x=\"1139.5\" y=\"-52.8\" font-family=\"Helvetica,sans-Serif\" font-size=\"14.00\">gini = 0.761</text>\n<text text-anchor=\"start\" x=\"1130.5\" y=\"-37.8\" font-family=\"Helvetica,sans-Serif\" font-size=\"14.00\">samples = 524</text>\n<text text-anchor=\"start\" x=\"1072\" y=\"-22.8\" font-family=\"Helvetica,sans-Serif\" font-size=\"14.00\">value = [124, 173, 120, 64, 43]</text>\n<text text-anchor=\"start\" x=\"1151.5\" y=\"-7.8\" font-family=\"Helvetica,sans-Serif\" font-size=\"14.00\">class = a</text>\n</g>\n<!-- 11&#45;&gt;12 -->\n<g id=\"edge12\" class=\"edge\">\n<title>11&#45;&gt;12</title>\n<path fill=\"none\" stroke=\"black\" d=\"M1323.78,-103.88C1302.83,-93.6 1280.43,-82.6 1259.82,-72.47\"/>\n<polygon fill=\"black\" stroke=\"black\" points=\"1261.31,-69.31 1250.79,-68.04 1258.23,-75.59 1261.31,-69.31\"/>\n</g>\n<!-- 13 -->\n<g id=\"node14\" class=\"node\">\n<title>13</title>\n<path fill=\"#fefcfa\" stroke=\"black\" d=\"M1521.5,-68C1521.5,-68 1333.5,-68 1333.5,-68 1327.5,-68 1321.5,-62 1321.5,-56 1321.5,-56 1321.5,-12 1321.5,-12 1321.5,-6 1327.5,0 1333.5,0 1333.5,0 1521.5,0 1521.5,0 1527.5,0 1533.5,-6 1533.5,-12 1533.5,-12 1533.5,-56 1533.5,-56 1533.5,-62 1527.5,-68 1521.5,-68\"/>\n<text text-anchor=\"start\" x=\"1383.5\" y=\"-52.8\" font-family=\"Helvetica,sans-Serif\" font-size=\"14.00\">gini = 0.738</text>\n<text text-anchor=\"start\" x=\"1374.5\" y=\"-37.8\" font-family=\"Helvetica,sans-Serif\" font-size=\"14.00\">samples = 161</text>\n<text text-anchor=\"start\" x=\"1329.5\" y=\"-22.8\" font-family=\"Helvetica,sans-Serif\" font-size=\"14.00\">value = [54, 31, 51, 15, 10]</text>\n<text text-anchor=\"start\" x=\"1397\" y=\"-7.8\" font-family=\"Helvetica,sans-Serif\" font-size=\"14.00\">class = t</text>\n</g>\n<!-- 11&#45;&gt;13 -->\n<g id=\"edge13\" class=\"edge\">\n<title>11&#45;&gt;13</title>\n<path fill=\"none\" stroke=\"black\" d=\"M1414.32,-103.73C1415.91,-95.43 1417.59,-86.67 1419.2,-78.28\"/>\n<polygon fill=\"black\" stroke=\"black\" points=\"1422.67,-78.78 1421.11,-68.3 1415.79,-77.46 1422.67,-78.78\"/>\n</g>\n<!-- 15 -->\n<g id=\"node16\" class=\"node\">\n<title>15</title>\n<path fill=\"#f2fdfb\" stroke=\"black\" d=\"M1769.5,-68C1769.5,-68 1563.5,-68 1563.5,-68 1557.5,-68 1551.5,-62 1551.5,-56 1551.5,-56 1551.5,-12 1551.5,-12 1551.5,-6 1557.5,0 1563.5,0 1563.5,0 1769.5,0 1769.5,0 1775.5,0 1781.5,-6 1781.5,-12 1781.5,-12 1781.5,-56 1781.5,-56 1781.5,-62 1775.5,-68 1769.5,-68\"/>\n<text text-anchor=\"start\" x=\"1622.5\" y=\"-52.8\" font-family=\"Helvetica,sans-Serif\" font-size=\"14.00\">gini = 0.775</text>\n<text text-anchor=\"start\" x=\"1613.5\" y=\"-37.8\" font-family=\"Helvetica,sans-Serif\" font-size=\"14.00\">samples = 436</text>\n<text text-anchor=\"start\" x=\"1559.5\" y=\"-22.8\" font-family=\"Helvetica,sans-Serif\" font-size=\"14.00\">value = [67, 113, 135, 65, 56]</text>\n<text text-anchor=\"start\" x=\"1634\" y=\"-7.8\" font-family=\"Helvetica,sans-Serif\" font-size=\"14.00\">class = g</text>\n</g>\n<!-- 14&#45;&gt;15 -->\n<g id=\"edge15\" class=\"edge\">\n<title>14&#45;&gt;15</title>\n<path fill=\"none\" stroke=\"black\" d=\"M1679.05,-103.73C1677.54,-95.43 1675.94,-86.67 1674.41,-78.28\"/>\n<polygon fill=\"black\" stroke=\"black\" points=\"1677.82,-77.51 1672.58,-68.3 1670.94,-78.77 1677.82,-77.51\"/>\n</g>\n<!-- 16 -->\n<g id=\"node17\" class=\"node\">\n<title>16</title>\n<path fill=\"#f2fceb\" stroke=\"black\" d=\"M2053.5,-68C2053.5,-68 1811.5,-68 1811.5,-68 1805.5,-68 1799.5,-62 1799.5,-56 1799.5,-56 1799.5,-12 1799.5,-12 1799.5,-6 1805.5,0 1811.5,0 1811.5,0 2053.5,0 2053.5,0 2059.5,0 2065.5,-6 2065.5,-12 2065.5,-12 2065.5,-56 2065.5,-56 2065.5,-62 2059.5,-68 2053.5,-68\"/>\n<text text-anchor=\"start\" x=\"1888.5\" y=\"-52.8\" font-family=\"Helvetica,sans-Serif\" font-size=\"14.00\">gini = 0.772</text>\n<text text-anchor=\"start\" x=\"1875\" y=\"-37.8\" font-family=\"Helvetica,sans-Serif\" font-size=\"14.00\">samples = 3777</text>\n<text text-anchor=\"start\" x=\"1807.5\" y=\"-22.8\" font-family=\"Helvetica,sans-Serif\" font-size=\"14.00\">value = [686, 1206, 918, 579, 388]</text>\n<text text-anchor=\"start\" x=\"1900.5\" y=\"-7.8\" font-family=\"Helvetica,sans-Serif\" font-size=\"14.00\">class = a</text>\n</g>\n<!-- 14&#45;&gt;16 -->\n<g id=\"edge16\" class=\"edge\">\n<title>14&#45;&gt;16</title>\n<path fill=\"none\" stroke=\"black\" d=\"M1777.75,-103.88C1801.07,-93.5 1826.01,-82.4 1848.92,-72.2\"/>\n<polygon fill=\"black\" stroke=\"black\" points=\"1850.55,-75.31 1858.27,-68.04 1847.71,-68.91 1850.55,-75.31\"/>\n</g>\n<!-- 18 -->\n<g id=\"node19\" class=\"node\">\n<title>18</title>\n<path fill=\"#ffffff\" stroke=\"black\" d=\"M2967,-306C2967,-306 2734,-306 2734,-306 2728,-306 2722,-300 2722,-294 2722,-294 2722,-235 2722,-235 2722,-229 2728,-223 2734,-223 2734,-223 2967,-223 2967,-223 2973,-223 2979,-229 2979,-235 2979,-235 2979,-294 2979,-294 2979,-300 2973,-306 2967,-306\"/>\n<text text-anchor=\"start\" x=\"2809\" y=\"-290.8\" font-family=\"Helvetica,sans-Serif\" font-size=\"14.00\">views ≤ 4.5</text>\n<text text-anchor=\"start\" x=\"2806.5\" y=\"-275.8\" font-family=\"Helvetica,sans-Serif\" font-size=\"14.00\">gini = 0.793</text>\n<text text-anchor=\"start\" x=\"2793\" y=\"-260.8\" font-family=\"Helvetica,sans-Serif\" font-size=\"14.00\">samples = 1826</text>\n<text text-anchor=\"start\" x=\"2730\" y=\"-245.8\" font-family=\"Helvetica,sans-Serif\" font-size=\"14.00\">value = [372, 440, 438, 306, 270]</text>\n<text text-anchor=\"start\" x=\"2818.5\" y=\"-230.8\" font-family=\"Helvetica,sans-Serif\" font-size=\"14.00\">class = a</text>\n</g>\n<!-- 17&#45;&gt;18 -->\n<g id=\"edge18\" class=\"edge\">\n<title>17&#45;&gt;18</title>\n<path fill=\"none\" stroke=\"black\" d=\"M3095,-341.99C3060.76,-331.28 3023.67,-319.67 2988.97,-308.82\"/>\n<polygon fill=\"black\" stroke=\"black\" points=\"2989.84,-305.42 2979.25,-305.78 2987.75,-312.1 2989.84,-305.42\"/>\n</g>\n<!-- 25 -->\n<g id=\"node26\" class=\"node\">\n<title>25</title>\n<path fill=\"#fefffe\" stroke=\"black\" d=\"M3497.5,-306C3497.5,-306 3219.5,-306 3219.5,-306 3213.5,-306 3207.5,-300 3207.5,-294 3207.5,-294 3207.5,-235 3207.5,-235 3207.5,-229 3213.5,-223 3219.5,-223 3219.5,-223 3497.5,-223 3497.5,-223 3503.5,-223 3509.5,-229 3509.5,-235 3509.5,-235 3509.5,-294 3509.5,-294 3509.5,-300 3503.5,-306 3497.5,-306\"/>\n<text text-anchor=\"start\" x=\"3256\" y=\"-290.8\" font-family=\"Helvetica,sans-Serif\" font-size=\"14.00\">user_reputation_score ≤ 99.5</text>\n<text text-anchor=\"start\" x=\"3314.5\" y=\"-275.8\" font-family=\"Helvetica,sans-Serif\" font-size=\"14.00\">gini = 0.781</text>\n<text text-anchor=\"start\" x=\"3296.5\" y=\"-260.8\" font-family=\"Helvetica,sans-Serif\" font-size=\"14.00\">samples = 14143</text>\n<text text-anchor=\"start\" x=\"3215.5\" y=\"-245.8\" font-family=\"Helvetica,sans-Serif\" font-size=\"14.00\">value = [1892, 3886, 3825, 2619, 1921]</text>\n<text text-anchor=\"start\" x=\"3326.5\" y=\"-230.8\" font-family=\"Helvetica,sans-Serif\" font-size=\"14.00\">class = a</text>\n</g>\n<!-- 17&#45;&gt;25 -->\n<g id=\"edge25\" class=\"edge\">\n<title>17&#45;&gt;25</title>\n<path fill=\"none\" stroke=\"black\" d=\"M3270.99,-341.91C3281.8,-332.47 3293.4,-322.34 3304.5,-312.65\"/>\n<polygon fill=\"black\" stroke=\"black\" points=\"3306.86,-315.23 3312.09,-306.02 3302.26,-309.96 3306.86,-315.23\"/>\n</g>\n<!-- 19 -->\n<g id=\"node20\" class=\"node\">\n<title>19</title>\n<path fill=\"#ffffff\" stroke=\"black\" d=\"M2600,-187C2600,-187 2367,-187 2367,-187 2361,-187 2355,-181 2355,-175 2355,-175 2355,-116 2355,-116 2355,-110 2361,-104 2367,-104 2367,-104 2600,-104 2600,-104 2606,-104 2612,-110 2612,-116 2612,-116 2612,-175 2612,-175 2612,-181 2606,-187 2600,-187\"/>\n<text text-anchor=\"start\" x=\"2442\" y=\"-171.8\" font-family=\"Helvetica,sans-Serif\" font-size=\"14.00\">views ≤ 1.5</text>\n<text text-anchor=\"start\" x=\"2439.5\" y=\"-156.8\" font-family=\"Helvetica,sans-Serif\" font-size=\"14.00\">gini = 0.793</text>\n<text text-anchor=\"start\" x=\"2426\" y=\"-141.8\" font-family=\"Helvetica,sans-Serif\" font-size=\"14.00\">samples = 1436</text>\n<text text-anchor=\"start\" x=\"2363\" y=\"-126.8\" font-family=\"Helvetica,sans-Serif\" font-size=\"14.00\">value = [270, 348, 349, 251, 218]</text>\n<text text-anchor=\"start\" x=\"2451\" y=\"-111.8\" font-family=\"Helvetica,sans-Serif\" font-size=\"14.00\">class = g</text>\n</g>\n<!-- 18&#45;&gt;19 -->\n<g id=\"edge19\" class=\"edge\">\n<title>18&#45;&gt;19</title>\n<path fill=\"none\" stroke=\"black\" d=\"M2723.43,-222.99C2690.25,-212.41 2654.35,-200.97 2620.68,-190.23\"/>\n<polygon fill=\"black\" stroke=\"black\" points=\"2621.36,-186.78 2610.77,-187.07 2619.24,-193.45 2621.36,-186.78\"/>\n</g>\n<!-- 22 -->\n<g id=\"node23\" class=\"node\">\n<title>22</title>\n<path fill=\"#fefbf8\" stroke=\"black\" d=\"M2949,-187C2949,-187 2752,-187 2752,-187 2746,-187 2740,-181 2740,-175 2740,-175 2740,-116 2740,-116 2740,-110 2746,-104 2752,-104 2752,-104 2949,-104 2949,-104 2955,-104 2961,-110 2961,-116 2961,-116 2961,-175 2961,-175 2961,-181 2955,-187 2949,-187\"/>\n<text text-anchor=\"start\" x=\"2772.5\" y=\"-171.8\" font-family=\"Helvetica,sans-Serif\" font-size=\"14.00\">days_in_queue ≤ 13.5</text>\n<text text-anchor=\"start\" x=\"2806.5\" y=\"-156.8\" font-family=\"Helvetica,sans-Serif\" font-size=\"14.00\">gini = 0.786</text>\n<text text-anchor=\"start\" x=\"2797.5\" y=\"-141.8\" font-family=\"Helvetica,sans-Serif\" font-size=\"14.00\">samples = 390</text>\n<text text-anchor=\"start\" x=\"2748\" y=\"-126.8\" font-family=\"Helvetica,sans-Serif\" font-size=\"14.00\">value = [102, 92, 89, 55, 52]</text>\n<text text-anchor=\"start\" x=\"2820\" y=\"-111.8\" font-family=\"Helvetica,sans-Serif\" font-size=\"14.00\">class = t</text>\n</g>\n<!-- 18&#45;&gt;22 -->\n<g id=\"edge22\" class=\"edge\">\n<title>18&#45;&gt;22</title>\n<path fill=\"none\" stroke=\"black\" d=\"M2850.5,-222.91C2850.5,-214.65 2850.5,-205.86 2850.5,-197.3\"/>\n<polygon fill=\"black\" stroke=\"black\" points=\"2854,-197.02 2850.5,-187.02 2847,-197.02 2854,-197.02\"/>\n</g>\n<!-- 20 -->\n<g id=\"node21\" class=\"node\">\n<title>20</title>\n<path fill=\"#fefffd\" stroke=\"black\" d=\"M2329,-68C2329,-68 2096,-68 2096,-68 2090,-68 2084,-62 2084,-56 2084,-56 2084,-12 2084,-12 2084,-6 2090,0 2096,0 2096,0 2329,0 2329,0 2335,0 2341,-6 2341,-12 2341,-12 2341,-56 2341,-56 2341,-62 2335,-68 2329,-68\"/>\n<text text-anchor=\"start\" x=\"2168.5\" y=\"-52.8\" font-family=\"Helvetica,sans-Serif\" font-size=\"14.00\">gini = 0.792</text>\n<text text-anchor=\"start\" x=\"2159.5\" y=\"-37.8\" font-family=\"Helvetica,sans-Serif\" font-size=\"14.00\">samples = 852</text>\n<text text-anchor=\"start\" x=\"2092\" y=\"-22.8\" font-family=\"Helvetica,sans-Serif\" font-size=\"14.00\">value = [182, 206, 200, 150, 114]</text>\n<text text-anchor=\"start\" x=\"2180.5\" y=\"-7.8\" font-family=\"Helvetica,sans-Serif\" font-size=\"14.00\">class = a</text>\n</g>\n<!-- 19&#45;&gt;20 -->\n<g id=\"edge20\" class=\"edge\">\n<title>19&#45;&gt;20</title>\n<path fill=\"none\" stroke=\"black\" d=\"M2382.97,-103.88C2356.95,-93.37 2329.07,-82.1 2303.56,-71.79\"/>\n<polygon fill=\"black\" stroke=\"black\" points=\"2304.86,-68.54 2294.28,-68.04 2302.24,-75.03 2304.86,-68.54\"/>\n</g>\n<!-- 21 -->\n<g id=\"node22\" class=\"node\">\n<title>21</title>\n<path fill=\"#fcfffe\" stroke=\"black\" d=\"M2595.5,-68C2595.5,-68 2371.5,-68 2371.5,-68 2365.5,-68 2359.5,-62 2359.5,-56 2359.5,-56 2359.5,-12 2359.5,-12 2359.5,-6 2365.5,0 2371.5,0 2371.5,0 2595.5,0 2595.5,0 2601.5,0 2607.5,-6 2607.5,-12 2607.5,-12 2607.5,-56 2607.5,-56 2607.5,-62 2601.5,-68 2595.5,-68\"/>\n<text text-anchor=\"start\" x=\"2439.5\" y=\"-52.8\" font-family=\"Helvetica,sans-Serif\" font-size=\"14.00\">gini = 0.791</text>\n<text text-anchor=\"start\" x=\"2430.5\" y=\"-37.8\" font-family=\"Helvetica,sans-Serif\" font-size=\"14.00\">samples = 584</text>\n<text text-anchor=\"start\" x=\"2367.5\" y=\"-22.8\" font-family=\"Helvetica,sans-Serif\" font-size=\"14.00\">value = [88, 142, 149, 101, 104]</text>\n<text text-anchor=\"start\" x=\"2451\" y=\"-7.8\" font-family=\"Helvetica,sans-Serif\" font-size=\"14.00\">class = g</text>\n</g>\n<!-- 19&#45;&gt;21 -->\n<g id=\"edge21\" class=\"edge\">\n<title>19&#45;&gt;21</title>\n<path fill=\"none\" stroke=\"black\" d=\"M2483.5,-103.73C2483.5,-95.52 2483.5,-86.86 2483.5,-78.56\"/>\n<polygon fill=\"black\" stroke=\"black\" points=\"2487,-78.3 2483.5,-68.3 2480,-78.3 2487,-78.3\"/>\n</g>\n<!-- 23 -->\n<g id=\"node24\" class=\"node\">\n<title>23</title>\n<path fill=\"#ffffff\" stroke=\"black\" d=\"M2825.5,-68C2825.5,-68 2637.5,-68 2637.5,-68 2631.5,-68 2625.5,-62 2625.5,-56 2625.5,-56 2625.5,-12 2625.5,-12 2625.5,-6 2631.5,0 2637.5,0 2637.5,0 2825.5,0 2825.5,0 2831.5,0 2837.5,-6 2837.5,-12 2837.5,-12 2837.5,-56 2837.5,-56 2837.5,-62 2831.5,-68 2825.5,-68\"/>\n<text text-anchor=\"start\" x=\"2692\" y=\"-52.8\" font-family=\"Helvetica,sans-Serif\" font-size=\"14.00\">gini = 0.79</text>\n<text text-anchor=\"start\" x=\"2678.5\" y=\"-37.8\" font-family=\"Helvetica,sans-Serif\" font-size=\"14.00\">samples = 227</text>\n<text text-anchor=\"start\" x=\"2633.5\" y=\"-22.8\" font-family=\"Helvetica,sans-Serif\" font-size=\"14.00\">value = [51, 55, 55, 32, 34]</text>\n<text text-anchor=\"start\" x=\"2699.5\" y=\"-7.8\" font-family=\"Helvetica,sans-Serif\" font-size=\"14.00\">class = a</text>\n</g>\n<!-- 22&#45;&gt;23 -->\n<g id=\"edge23\" class=\"edge\">\n<title>22&#45;&gt;23</title>\n<path fill=\"none\" stroke=\"black\" d=\"M2806.19,-103.73C2796.08,-94.42 2785.34,-84.54 2775.25,-75.26\"/>\n<polygon fill=\"black\" stroke=\"black\" points=\"2777.42,-72.5 2767.69,-68.3 2772.68,-77.65 2777.42,-72.5\"/>\n</g>\n<!-- 24 -->\n<g id=\"node25\" class=\"node\">\n<title>24</title>\n<path fill=\"#fcf1e9\" stroke=\"black\" d=\"M3055.5,-68C3055.5,-68 2867.5,-68 2867.5,-68 2861.5,-68 2855.5,-62 2855.5,-56 2855.5,-56 2855.5,-12 2855.5,-12 2855.5,-6 2861.5,0 2867.5,0 2867.5,0 3055.5,0 3055.5,0 3061.5,0 3067.5,-6 3067.5,-12 3067.5,-12 3067.5,-56 3067.5,-56 3067.5,-62 3061.5,-68 3055.5,-68\"/>\n<text text-anchor=\"start\" x=\"2917.5\" y=\"-52.8\" font-family=\"Helvetica,sans-Serif\" font-size=\"14.00\">gini = 0.775</text>\n<text text-anchor=\"start\" x=\"2908.5\" y=\"-37.8\" font-family=\"Helvetica,sans-Serif\" font-size=\"14.00\">samples = 163</text>\n<text text-anchor=\"start\" x=\"2863.5\" y=\"-22.8\" font-family=\"Helvetica,sans-Serif\" font-size=\"14.00\">value = [51, 37, 34, 23, 18]</text>\n<text text-anchor=\"start\" x=\"2931\" y=\"-7.8\" font-family=\"Helvetica,sans-Serif\" font-size=\"14.00\">class = t</text>\n</g>\n<!-- 22&#45;&gt;24 -->\n<g id=\"edge24\" class=\"edge\">\n<title>22&#45;&gt;24</title>\n<path fill=\"none\" stroke=\"black\" d=\"M2891.83,-103.73C2901.17,-94.51 2911.08,-84.74 2920.41,-75.53\"/>\n<polygon fill=\"black\" stroke=\"black\" points=\"2923.08,-77.81 2927.74,-68.3 2918.17,-72.83 2923.08,-77.81\"/>\n</g>\n<!-- 26 -->\n<g id=\"node27\" class=\"node\">\n<title>26</title>\n<path fill=\"#fdfffe\" stroke=\"black\" d=\"M3488.5,-187C3488.5,-187 3228.5,-187 3228.5,-187 3222.5,-187 3216.5,-181 3216.5,-175 3216.5,-175 3216.5,-116 3216.5,-116 3216.5,-110 3222.5,-104 3228.5,-104 3228.5,-104 3488.5,-104 3488.5,-104 3494.5,-104 3500.5,-110 3500.5,-116 3500.5,-116 3500.5,-175 3500.5,-175 3500.5,-181 3494.5,-187 3488.5,-187\"/>\n<text text-anchor=\"start\" x=\"3311.5\" y=\"-171.8\" font-family=\"Helvetica,sans-Serif\" font-size=\"14.00\">answer ≤ 1.5</text>\n<text text-anchor=\"start\" x=\"3314.5\" y=\"-156.8\" font-family=\"Helvetica,sans-Serif\" font-size=\"14.00\">gini = 0.785</text>\n<text text-anchor=\"start\" x=\"3301\" y=\"-141.8\" font-family=\"Helvetica,sans-Serif\" font-size=\"14.00\">samples = 5810</text>\n<text text-anchor=\"start\" x=\"3224.5\" y=\"-126.8\" font-family=\"Helvetica,sans-Serif\" font-size=\"14.00\">value = [754, 1512, 1550, 1113, 881]</text>\n<text text-anchor=\"start\" x=\"3326\" y=\"-111.8\" font-family=\"Helvetica,sans-Serif\" font-size=\"14.00\">class = g</text>\n</g>\n<!-- 25&#45;&gt;26 -->\n<g id=\"edge26\" class=\"edge\">\n<title>25&#45;&gt;26</title>\n<path fill=\"none\" stroke=\"black\" d=\"M3358.5,-222.91C3358.5,-214.65 3358.5,-205.86 3358.5,-197.3\"/>\n<polygon fill=\"black\" stroke=\"black\" points=\"3362,-197.02 3358.5,-187.02 3355,-197.02 3362,-197.02\"/>\n</g>\n<!-- 29 -->\n<g id=\"node30\" class=\"node\">\n<title>29</title>\n<path fill=\"#fdfffc\" stroke=\"black\" d=\"M3939.5,-187C3939.5,-187 3661.5,-187 3661.5,-187 3655.5,-187 3649.5,-181 3649.5,-175 3649.5,-175 3649.5,-116 3649.5,-116 3649.5,-110 3655.5,-104 3661.5,-104 3661.5,-104 3939.5,-104 3939.5,-104 3945.5,-104 3951.5,-110 3951.5,-116 3951.5,-116 3951.5,-175 3951.5,-175 3951.5,-181 3945.5,-187 3939.5,-187\"/>\n<text text-anchor=\"start\" x=\"3707\" y=\"-171.8\" font-family=\"Helvetica,sans-Serif\" font-size=\"14.00\">user_badge_number ≤ 6.5</text>\n<text text-anchor=\"start\" x=\"3756.5\" y=\"-156.8\" font-family=\"Helvetica,sans-Serif\" font-size=\"14.00\">gini = 0.777</text>\n<text text-anchor=\"start\" x=\"3743\" y=\"-141.8\" font-family=\"Helvetica,sans-Serif\" font-size=\"14.00\">samples = 8333</text>\n<text text-anchor=\"start\" x=\"3657.5\" y=\"-126.8\" font-family=\"Helvetica,sans-Serif\" font-size=\"14.00\">value = [1138, 2374, 2275, 1506, 1040]</text>\n<text text-anchor=\"start\" x=\"3768.5\" y=\"-111.8\" font-family=\"Helvetica,sans-Serif\" font-size=\"14.00\">class = a</text>\n</g>\n<!-- 25&#45;&gt;29 -->\n<g id=\"edge29\" class=\"edge\">\n<title>25&#45;&gt;29</title>\n<path fill=\"none\" stroke=\"black\" d=\"M3509.68,-223.48C3551.55,-212.4 3597.14,-200.33 3639.53,-189.11\"/>\n<polygon fill=\"black\" stroke=\"black\" points=\"3640.61,-192.44 3649.38,-186.5 3638.82,-185.68 3640.61,-192.44\"/>\n</g>\n<!-- 27 -->\n<g id=\"node28\" class=\"node\">\n<title>27</title>\n<path fill=\"#fcfffe\" stroke=\"black\" d=\"M3357.5,-68C3357.5,-68 3097.5,-68 3097.5,-68 3091.5,-68 3085.5,-62 3085.5,-56 3085.5,-56 3085.5,-12 3085.5,-12 3085.5,-6 3091.5,0 3097.5,0 3097.5,0 3357.5,0 3357.5,0 3363.5,0 3369.5,-6 3369.5,-12 3369.5,-12 3369.5,-56 3369.5,-56 3369.5,-62 3363.5,-68 3357.5,-68\"/>\n<text text-anchor=\"start\" x=\"3183.5\" y=\"-52.8\" font-family=\"Helvetica,sans-Serif\" font-size=\"14.00\">gini = 0.784</text>\n<text text-anchor=\"start\" x=\"3170\" y=\"-37.8\" font-family=\"Helvetica,sans-Serif\" font-size=\"14.00\">samples = 5144</text>\n<text text-anchor=\"start\" x=\"3093.5\" y=\"-22.8\" font-family=\"Helvetica,sans-Serif\" font-size=\"14.00\">value = [648, 1323, 1381, 1009, 783]</text>\n<text text-anchor=\"start\" x=\"3195\" y=\"-7.8\" font-family=\"Helvetica,sans-Serif\" font-size=\"14.00\">class = g</text>\n</g>\n<!-- 26&#45;&gt;27 -->\n<g id=\"edge27\" class=\"edge\">\n<title>26&#45;&gt;27</title>\n<path fill=\"none\" stroke=\"black\" d=\"M3309.72,-103.73C3298.37,-94.24 3286.31,-84.16 3275.01,-74.72\"/>\n<polygon fill=\"black\" stroke=\"black\" points=\"3277.26,-72.03 3267.34,-68.3 3272.77,-77.4 3277.26,-72.03\"/>\n</g>\n<!-- 28 -->\n<g id=\"node29\" class=\"node\">\n<title>28</title>\n<path fill=\"#fafef7\" stroke=\"black\" d=\"M3623.5,-68C3623.5,-68 3399.5,-68 3399.5,-68 3393.5,-68 3387.5,-62 3387.5,-56 3387.5,-56 3387.5,-12 3387.5,-12 3387.5,-6 3393.5,0 3399.5,0 3399.5,0 3623.5,0 3623.5,0 3629.5,0 3635.5,-6 3635.5,-12 3635.5,-12 3635.5,-56 3635.5,-56 3635.5,-62 3629.5,-68 3623.5,-68\"/>\n<text text-anchor=\"start\" x=\"3467.5\" y=\"-52.8\" font-family=\"Helvetica,sans-Serif\" font-size=\"14.00\">gini = 0.784</text>\n<text text-anchor=\"start\" x=\"3458.5\" y=\"-37.8\" font-family=\"Helvetica,sans-Serif\" font-size=\"14.00\">samples = 666</text>\n<text text-anchor=\"start\" x=\"3395.5\" y=\"-22.8\" font-family=\"Helvetica,sans-Serif\" font-size=\"14.00\">value = [106, 189, 169, 104, 98]</text>\n<text text-anchor=\"start\" x=\"3479.5\" y=\"-7.8\" font-family=\"Helvetica,sans-Serif\" font-size=\"14.00\">class = a</text>\n</g>\n<!-- 26&#45;&gt;28 -->\n<g id=\"edge28\" class=\"edge\">\n<title>26&#45;&gt;28</title>\n<path fill=\"none\" stroke=\"black\" d=\"M3415.47,-103.73C3428.98,-94.06 3443.36,-83.77 3456.77,-74.17\"/>\n<polygon fill=\"black\" stroke=\"black\" points=\"3458.88,-76.97 3464.97,-68.3 3454.8,-71.27 3458.88,-76.97\"/>\n</g>\n<!-- 30 -->\n<g id=\"node31\" class=\"node\">\n<title>30</title>\n<path fill=\"#fefffe\" stroke=\"black\" d=\"M3935,-68C3935,-68 3666,-68 3666,-68 3660,-68 3654,-62 3654,-56 3654,-56 3654,-12 3654,-12 3654,-6 3660,0 3666,0 3666,0 3935,0 3935,0 3941,0 3947,-6 3947,-12 3947,-12 3947,-56 3947,-56 3947,-62 3941,-68 3935,-68\"/>\n<text text-anchor=\"start\" x=\"3756.5\" y=\"-52.8\" font-family=\"Helvetica,sans-Serif\" font-size=\"14.00\">gini = 0.779</text>\n<text text-anchor=\"start\" x=\"3743\" y=\"-37.8\" font-family=\"Helvetica,sans-Serif\" font-size=\"14.00\">samples = 7286</text>\n<text text-anchor=\"start\" x=\"3662\" y=\"-22.8\" font-family=\"Helvetica,sans-Serif\" font-size=\"14.00\">value = [1002, 2031, 1993, 1347, 913]</text>\n<text text-anchor=\"start\" x=\"3768.5\" y=\"-7.8\" font-family=\"Helvetica,sans-Serif\" font-size=\"14.00\">class = a</text>\n</g>\n<!-- 29&#45;&gt;30 -->\n<g id=\"edge30\" class=\"edge\">\n<title>29&#45;&gt;30</title>\n<path fill=\"none\" stroke=\"black\" d=\"M3800.5,-103.73C3800.5,-95.52 3800.5,-86.86 3800.5,-78.56\"/>\n<polygon fill=\"black\" stroke=\"black\" points=\"3804,-78.3 3800.5,-68.3 3797,-78.3 3804,-78.3\"/>\n</g>\n<!-- 31 -->\n<g id=\"node32\" class=\"node\">\n<title>31</title>\n<path fill=\"#f4fdef\" stroke=\"black\" d=\"M4210,-68C4210,-68 3977,-68 3977,-68 3971,-68 3965,-62 3965,-56 3965,-56 3965,-12 3965,-12 3965,-6 3971,0 3977,0 3977,0 4210,0 4210,0 4216,0 4222,-6 4222,-12 4222,-12 4222,-56 4222,-56 4222,-62 4216,-68 4210,-68\"/>\n<text text-anchor=\"start\" x=\"4049.5\" y=\"-52.8\" font-family=\"Helvetica,sans-Serif\" font-size=\"14.00\">gini = 0.765</text>\n<text text-anchor=\"start\" x=\"4036\" y=\"-37.8\" font-family=\"Helvetica,sans-Serif\" font-size=\"14.00\">samples = 1047</text>\n<text text-anchor=\"start\" x=\"3973\" y=\"-22.8\" font-family=\"Helvetica,sans-Serif\" font-size=\"14.00\">value = [136, 343, 282, 159, 127]</text>\n<text text-anchor=\"start\" x=\"4061.5\" y=\"-7.8\" font-family=\"Helvetica,sans-Serif\" font-size=\"14.00\">class = a</text>\n</g>\n<!-- 29&#45;&gt;31 -->\n<g id=\"edge31\" class=\"edge\">\n<title>29&#45;&gt;31</title>\n<path fill=\"none\" stroke=\"black\" d=\"M3909.19,-103.88C3937.45,-93.32 3967.73,-82 3995.41,-71.66\"/>\n<polygon fill=\"black\" stroke=\"black\" points=\"3996.94,-74.82 4005.08,-68.04 3994.49,-68.27 3996.94,-74.82\"/>\n</g>\n<!-- 33 -->\n<g id=\"node34\" class=\"node\">\n<title>33</title>\n<path fill=\"#f4fefc\" stroke=\"black\" d=\"M5389.5,-425C5389.5,-425 5075.5,-425 5075.5,-425 5069.5,-425 5063.5,-419 5063.5,-413 5063.5,-413 5063.5,-354 5063.5,-354 5063.5,-348 5069.5,-342 5075.5,-342 5075.5,-342 5389.5,-342 5389.5,-342 5395.5,-342 5401.5,-348 5401.5,-354 5401.5,-354 5401.5,-413 5401.5,-413 5401.5,-419 5395.5,-425 5389.5,-425\"/>\n<text text-anchor=\"start\" x=\"5139\" y=\"-409.8\" font-family=\"Helvetica,sans-Serif\" font-size=\"14.00\">user_badge_number ≤ 0.5</text>\n<text text-anchor=\"start\" x=\"5188.5\" y=\"-394.8\" font-family=\"Helvetica,sans-Serif\" font-size=\"14.00\">gini = 0.783</text>\n<text text-anchor=\"start\" x=\"5170.5\" y=\"-379.8\" font-family=\"Helvetica,sans-Serif\" font-size=\"14.00\">samples = 90656</text>\n<text text-anchor=\"start\" x=\"5071.5\" y=\"-364.8\" font-family=\"Helvetica,sans-Serif\" font-size=\"14.00\">value = [9597, 21173, 25113, 18774, 15999]</text>\n<text text-anchor=\"start\" x=\"5200\" y=\"-349.8\" font-family=\"Helvetica,sans-Serif\" font-size=\"14.00\">class = g</text>\n</g>\n<!-- 32&#45;&gt;33 -->\n<g id=\"edge33\" class=\"edge\">\n<title>32&#45;&gt;33</title>\n<path fill=\"none\" stroke=\"black\" d=\"M5232.5,-460.91C5232.5,-452.65 5232.5,-443.86 5232.5,-435.3\"/>\n<polygon fill=\"black\" stroke=\"black\" points=\"5236,-435.02 5232.5,-425.02 5229,-435.02 5236,-435.02\"/>\n</g>\n<!-- 48 -->\n<g id=\"node49\" class=\"node\">\n<title>48</title>\n<path fill=\"#f7fefd\" stroke=\"black\" d=\"M7424,-425C7424,-425 7101,-425 7101,-425 7095,-425 7089,-419 7089,-413 7089,-413 7089,-354 7089,-354 7089,-348 7095,-342 7101,-342 7101,-342 7424,-342 7424,-342 7430,-342 7436,-348 7436,-354 7436,-354 7436,-413 7436,-413 7436,-419 7430,-425 7424,-425\"/>\n<text text-anchor=\"start\" x=\"7142\" y=\"-409.8\" font-family=\"Helvetica,sans-Serif\" font-size=\"14.00\">user_reputation_score ≤ 440500.0</text>\n<text text-anchor=\"start\" x=\"7218.5\" y=\"-394.8\" font-family=\"Helvetica,sans-Serif\" font-size=\"14.00\">gini = 0.781</text>\n<text text-anchor=\"start\" x=\"7200.5\" y=\"-379.8\" font-family=\"Helvetica,sans-Serif\" font-size=\"14.00\">samples = 94311</text>\n<text text-anchor=\"start\" x=\"7097\" y=\"-364.8\" font-family=\"Helvetica,sans-Serif\" font-size=\"14.00\">value = [10412, 23752, 26507, 19100, 14540]</text>\n<text text-anchor=\"start\" x=\"7230\" y=\"-349.8\" font-family=\"Helvetica,sans-Serif\" font-size=\"14.00\">class = g</text>\n</g>\n<!-- 32&#45;&gt;48 -->\n<g id=\"edge48\" class=\"edge\">\n<title>32&#45;&gt;48</title>\n<path fill=\"none\" stroke=\"black\" d=\"M5406.02,-491.5C5786.1,-469.59 6689.27,-417.54 7078.64,-395.1\"/>\n<polygon fill=\"black\" stroke=\"black\" points=\"7079.1,-398.58 7088.88,-394.51 7078.69,-391.59 7079.1,-398.58\"/>\n</g>\n<!-- 34 -->\n<g id=\"node35\" class=\"node\">\n<title>34</title>\n<path fill=\"#fafefe\" stroke=\"black\" d=\"M5215.5,-306C5215.5,-306 4937.5,-306 4937.5,-306 4931.5,-306 4925.5,-300 4925.5,-294 4925.5,-294 4925.5,-235 4925.5,-235 4925.5,-229 4931.5,-223 4937.5,-223 4937.5,-223 5215.5,-223 5215.5,-223 5221.5,-223 5227.5,-229 5227.5,-235 5227.5,-235 5227.5,-294 5227.5,-294 5227.5,-300 5221.5,-306 5215.5,-306\"/>\n<text text-anchor=\"start\" x=\"5029.5\" y=\"-290.8\" font-family=\"Helvetica,sans-Serif\" font-size=\"14.00\">answer ≤ 0.5</text>\n<text text-anchor=\"start\" x=\"5032.5\" y=\"-275.8\" font-family=\"Helvetica,sans-Serif\" font-size=\"14.00\">gini = 0.788</text>\n<text text-anchor=\"start\" x=\"5014.5\" y=\"-260.8\" font-family=\"Helvetica,sans-Serif\" font-size=\"14.00\">samples = 13340</text>\n<text text-anchor=\"start\" x=\"4933.5\" y=\"-245.8\" font-family=\"Helvetica,sans-Serif\" font-size=\"14.00\">value = [1874, 3325, 3558, 2417, 2166]</text>\n<text text-anchor=\"start\" x=\"5044\" y=\"-230.8\" font-family=\"Helvetica,sans-Serif\" font-size=\"14.00\">class = g</text>\n</g>\n<!-- 33&#45;&gt;34 -->\n<g id=\"edge34\" class=\"edge\">\n<title>33&#45;&gt;34</title>\n<path fill=\"none\" stroke=\"black\" d=\"M5178.38,-341.91C5165.55,-332.29 5151.77,-321.95 5138.62,-312.09\"/>\n<polygon fill=\"black\" stroke=\"black\" points=\"5140.63,-309.22 5130.53,-306.02 5136.43,-314.82 5140.63,-309.22\"/>\n</g>\n<!-- 41 -->\n<g id=\"node42\" class=\"node\">\n<title>41</title>\n<path fill=\"#f3fdfb\" stroke=\"black\" d=\"M5802.5,-306C5802.5,-306 5488.5,-306 5488.5,-306 5482.5,-306 5476.5,-300 5476.5,-294 5476.5,-294 5476.5,-235 5476.5,-235 5476.5,-229 5482.5,-223 5488.5,-223 5488.5,-223 5802.5,-223 5802.5,-223 5808.5,-223 5814.5,-229 5814.5,-235 5814.5,-235 5814.5,-294 5814.5,-294 5814.5,-300 5808.5,-306 5802.5,-306\"/>\n<text text-anchor=\"start\" x=\"5598.5\" y=\"-290.8\" font-family=\"Helvetica,sans-Serif\" font-size=\"14.00\">answer ≤ 1.5</text>\n<text text-anchor=\"start\" x=\"5601.5\" y=\"-275.8\" font-family=\"Helvetica,sans-Serif\" font-size=\"14.00\">gini = 0.782</text>\n<text text-anchor=\"start\" x=\"5583.5\" y=\"-260.8\" font-family=\"Helvetica,sans-Serif\" font-size=\"14.00\">samples = 77316</text>\n<text text-anchor=\"start\" x=\"5484.5\" y=\"-245.8\" font-family=\"Helvetica,sans-Serif\" font-size=\"14.00\">value = [7723, 17848, 21555, 16357, 13833]</text>\n<text text-anchor=\"start\" x=\"5613\" y=\"-230.8\" font-family=\"Helvetica,sans-Serif\" font-size=\"14.00\">class = g</text>\n</g>\n<!-- 33&#45;&gt;41 -->\n<g id=\"edge41\" class=\"edge\">\n<title>33&#45;&gt;41</title>\n<path fill=\"none\" stroke=\"black\" d=\"M5375.5,-341.99C5413.31,-331.28 5454.28,-319.67 5492.59,-308.82\"/>\n<polygon fill=\"black\" stroke=\"black\" points=\"5493.61,-312.17 5502.28,-306.07 5491.7,-305.43 5493.61,-312.17\"/>\n</g>\n<!-- 35 -->\n<g id=\"node36\" class=\"node\">\n<title>35</title>\n<path fill=\"#fcfffe\" stroke=\"black\" d=\"M4800.5,-187C4800.5,-187 4522.5,-187 4522.5,-187 4516.5,-187 4510.5,-181 4510.5,-175 4510.5,-175 4510.5,-116 4510.5,-116 4510.5,-110 4516.5,-104 4522.5,-104 4522.5,-104 4800.5,-104 4800.5,-104 4806.5,-104 4812.5,-110 4812.5,-116 4812.5,-116 4812.5,-175 4812.5,-175 4812.5,-181 4806.5,-187 4800.5,-187\"/>\n<text text-anchor=\"start\" x=\"4620\" y=\"-171.8\" font-family=\"Helvetica,sans-Serif\" font-size=\"14.00\">views ≤ 3.5</text>\n<text text-anchor=\"start\" x=\"4622\" y=\"-156.8\" font-family=\"Helvetica,sans-Serif\" font-size=\"14.00\">gini = 0.79</text>\n<text text-anchor=\"start\" x=\"4604\" y=\"-141.8\" font-family=\"Helvetica,sans-Serif\" font-size=\"14.00\">samples = 7717</text>\n<text text-anchor=\"start\" x=\"4518.5\" y=\"-126.8\" font-family=\"Helvetica,sans-Serif\" font-size=\"14.00\">value = [1282, 1925, 2000, 1288, 1222]</text>\n<text text-anchor=\"start\" x=\"4629\" y=\"-111.8\" font-family=\"Helvetica,sans-Serif\" font-size=\"14.00\">class = g</text>\n</g>\n<!-- 34&#45;&gt;35 -->\n<g id=\"edge35\" class=\"edge\">\n<title>34&#45;&gt;35</title>\n<path fill=\"none\" stroke=\"black\" d=\"M4932.81,-222.99C4894.81,-212.28 4853.65,-200.67 4815.15,-189.82\"/>\n<polygon fill=\"black\" stroke=\"black\" points=\"4815.99,-186.42 4805.42,-187.07 4814.09,-193.16 4815.99,-186.42\"/>\n</g>\n<!-- 38 -->\n<g id=\"node39\" class=\"node\">\n<title>38</title>\n<path fill=\"#f8fefd\" stroke=\"black\" d=\"M5206.5,-187C5206.5,-187 4946.5,-187 4946.5,-187 4940.5,-187 4934.5,-181 4934.5,-175 4934.5,-175 4934.5,-116 4934.5,-116 4934.5,-110 4940.5,-104 4946.5,-104 4946.5,-104 5206.5,-104 5206.5,-104 5212.5,-104 5218.5,-110 5218.5,-116 5218.5,-116 5218.5,-175 5218.5,-175 5218.5,-181 5212.5,-187 5206.5,-187\"/>\n<text text-anchor=\"start\" x=\"5003\" y=\"-171.8\" font-family=\"Helvetica,sans-Serif\" font-size=\"14.00\">days_in_queue ≤ 3.5</text>\n<text text-anchor=\"start\" x=\"5032.5\" y=\"-156.8\" font-family=\"Helvetica,sans-Serif\" font-size=\"14.00\">gini = 0.782</text>\n<text text-anchor=\"start\" x=\"5019\" y=\"-141.8\" font-family=\"Helvetica,sans-Serif\" font-size=\"14.00\">samples = 5623</text>\n<text text-anchor=\"start\" x=\"4942.5\" y=\"-126.8\" font-family=\"Helvetica,sans-Serif\" font-size=\"14.00\">value = [592, 1400, 1558, 1129, 944]</text>\n<text text-anchor=\"start\" x=\"5044\" y=\"-111.8\" font-family=\"Helvetica,sans-Serif\" font-size=\"14.00\">class = g</text>\n</g>\n<!-- 34&#45;&gt;38 -->\n<g id=\"edge38\" class=\"edge\">\n<title>34&#45;&gt;38</title>\n<path fill=\"none\" stroke=\"black\" d=\"M5076.5,-222.91C5076.5,-214.65 5076.5,-205.86 5076.5,-197.3\"/>\n<polygon fill=\"black\" stroke=\"black\" points=\"5080,-197.02 5076.5,-187.02 5073,-197.02 5080,-197.02\"/>\n</g>\n<!-- 36 -->\n<g id=\"node37\" class=\"node\">\n<title>36</title>\n<path fill=\"#fafefe\" stroke=\"black\" d=\"M4503,-68C4503,-68 4252,-68 4252,-68 4246,-68 4240,-62 4240,-56 4240,-56 4240,-12 4240,-12 4240,-6 4246,0 4252,0 4252,0 4503,0 4503,0 4509,0 4515,-6 4515,-12 4515,-12 4515,-56 4515,-56 4515,-62 4509,-68 4503,-68\"/>\n<text text-anchor=\"start\" x=\"4333.5\" y=\"-52.8\" font-family=\"Helvetica,sans-Serif\" font-size=\"14.00\">gini = 0.789</text>\n<text text-anchor=\"start\" x=\"4320\" y=\"-37.8\" font-family=\"Helvetica,sans-Serif\" font-size=\"14.00\">samples = 5487</text>\n<text text-anchor=\"start\" x=\"4248\" y=\"-22.8\" font-family=\"Helvetica,sans-Serif\" font-size=\"14.00\">value = [756, 1350, 1448, 974, 959]</text>\n<text text-anchor=\"start\" x=\"4345\" y=\"-7.8\" font-family=\"Helvetica,sans-Serif\" font-size=\"14.00\">class = g</text>\n</g>\n<!-- 35&#45;&gt;36 -->\n<g id=\"edge36\" class=\"edge\">\n<title>35&#45;&gt;36</title>\n<path fill=\"none\" stroke=\"black\" d=\"M4556.15,-103.88C4528.76,-93.32 4499.41,-82 4472.58,-71.66\"/>\n<polygon fill=\"black\" stroke=\"black\" points=\"4473.79,-68.38 4463.2,-68.04 4471.27,-74.91 4473.79,-68.38\"/>\n</g>\n<!-- 37 -->\n<g id=\"node38\" class=\"node\">\n<title>37</title>\n<path fill=\"#fdfffc\" stroke=\"black\" d=\"M4778,-68C4778,-68 4545,-68 4545,-68 4539,-68 4533,-62 4533,-56 4533,-56 4533,-12 4533,-12 4533,-6 4539,0 4545,0 4545,0 4778,0 4778,0 4784,0 4790,-6 4790,-12 4790,-12 4790,-56 4790,-56 4790,-62 4784,-68 4778,-68\"/>\n<text text-anchor=\"start\" x=\"4617.5\" y=\"-52.8\" font-family=\"Helvetica,sans-Serif\" font-size=\"14.00\">gini = 0.783</text>\n<text text-anchor=\"start\" x=\"4604\" y=\"-37.8\" font-family=\"Helvetica,sans-Serif\" font-size=\"14.00\">samples = 2230</text>\n<text text-anchor=\"start\" x=\"4541\" y=\"-22.8\" font-family=\"Helvetica,sans-Serif\" font-size=\"14.00\">value = [526, 575, 552, 314, 263]</text>\n<text text-anchor=\"start\" x=\"4629.5\" y=\"-7.8\" font-family=\"Helvetica,sans-Serif\" font-size=\"14.00\">class = a</text>\n</g>\n<!-- 35&#45;&gt;37 -->\n<g id=\"edge37\" class=\"edge\">\n<title>35&#45;&gt;37</title>\n<path fill=\"none\" stroke=\"black\" d=\"M4661.5,-103.73C4661.5,-95.52 4661.5,-86.86 4661.5,-78.56\"/>\n<polygon fill=\"black\" stroke=\"black\" points=\"4665,-78.3 4661.5,-68.3 4658,-78.3 4665,-78.3\"/>\n</g>\n<!-- 39 -->\n<g id=\"node40\" class=\"node\">\n<title>39</title>\n<path fill=\"#feffff\" stroke=\"black\" d=\"M5008.5,-68C5008.5,-68 4820.5,-68 4820.5,-68 4814.5,-68 4808.5,-62 4808.5,-56 4808.5,-56 4808.5,-12 4808.5,-12 4808.5,-6 4814.5,0 4820.5,0 4820.5,0 5008.5,0 5008.5,0 5014.5,0 5020.5,-6 5020.5,-12 5020.5,-12 5020.5,-56 5020.5,-56 5020.5,-62 5014.5,-68 5008.5,-68\"/>\n<text text-anchor=\"start\" x=\"4870.5\" y=\"-52.8\" font-family=\"Helvetica,sans-Serif\" font-size=\"14.00\">gini = 0.777</text>\n<text text-anchor=\"start\" x=\"4861.5\" y=\"-37.8\" font-family=\"Helvetica,sans-Serif\" font-size=\"14.00\">samples = 295</text>\n<text text-anchor=\"start\" x=\"4816.5\" y=\"-22.8\" font-family=\"Helvetica,sans-Serif\" font-size=\"14.00\">value = [49, 82, 83, 34, 47]</text>\n<text text-anchor=\"start\" x=\"4882\" y=\"-7.8\" font-family=\"Helvetica,sans-Serif\" font-size=\"14.00\">class = g</text>\n</g>\n<!-- 38&#45;&gt;39 -->\n<g id=\"edge39\" class=\"edge\">\n<title>38&#45;&gt;39</title>\n<path fill=\"none\" stroke=\"black\" d=\"M5016.18,-103.73C5001.66,-93.92 4986.2,-83.46 4971.83,-73.75\"/>\n<polygon fill=\"black\" stroke=\"black\" points=\"4973.75,-70.83 4963.51,-68.13 4969.83,-76.62 4973.75,-70.83\"/>\n</g>\n<!-- 40 -->\n<g id=\"node41\" class=\"node\">\n<title>40</title>\n<path fill=\"#f7fefd\" stroke=\"black\" d=\"M5310.5,-68C5310.5,-68 5050.5,-68 5050.5,-68 5044.5,-68 5038.5,-62 5038.5,-56 5038.5,-56 5038.5,-12 5038.5,-12 5038.5,-6 5044.5,0 5050.5,0 5050.5,0 5310.5,0 5310.5,0 5316.5,0 5322.5,-6 5322.5,-12 5322.5,-12 5322.5,-56 5322.5,-56 5322.5,-62 5316.5,-68 5310.5,-68\"/>\n<text text-anchor=\"start\" x=\"5136.5\" y=\"-52.8\" font-family=\"Helvetica,sans-Serif\" font-size=\"14.00\">gini = 0.781</text>\n<text text-anchor=\"start\" x=\"5123\" y=\"-37.8\" font-family=\"Helvetica,sans-Serif\" font-size=\"14.00\">samples = 5328</text>\n<text text-anchor=\"start\" x=\"5046.5\" y=\"-22.8\" font-family=\"Helvetica,sans-Serif\" font-size=\"14.00\">value = [543, 1318, 1475, 1095, 897]</text>\n<text text-anchor=\"start\" x=\"5148\" y=\"-7.8\" font-family=\"Helvetica,sans-Serif\" font-size=\"14.00\">class = g</text>\n</g>\n<!-- 38&#45;&gt;40 -->\n<g id=\"edge40\" class=\"edge\">\n<title>38&#45;&gt;40</title>\n<path fill=\"none\" stroke=\"black\" d=\"M5115.23,-103.73C5123.89,-94.61 5133.08,-84.93 5141.74,-75.81\"/>\n<polygon fill=\"black\" stroke=\"black\" points=\"5144.52,-77.96 5148.87,-68.3 5139.45,-73.14 5144.52,-77.96\"/>\n</g>\n<!-- 42 -->\n<g id=\"node43\" class=\"node\">\n<title>42</title>\n<path fill=\"#f1fdfb\" stroke=\"black\" d=\"M5802.5,-187C5802.5,-187 5488.5,-187 5488.5,-187 5482.5,-187 5476.5,-181 5476.5,-175 5476.5,-175 5476.5,-116 5476.5,-116 5476.5,-110 5482.5,-104 5488.5,-104 5488.5,-104 5802.5,-104 5802.5,-104 5808.5,-104 5814.5,-110 5814.5,-116 5814.5,-116 5814.5,-175 5814.5,-175 5814.5,-181 5808.5,-187 5802.5,-187\"/>\n<text text-anchor=\"start\" x=\"5604\" y=\"-171.8\" font-family=\"Helvetica,sans-Serif\" font-size=\"14.00\">views ≤ 1.5</text>\n<text text-anchor=\"start\" x=\"5601.5\" y=\"-156.8\" font-family=\"Helvetica,sans-Serif\" font-size=\"14.00\">gini = 0.783</text>\n<text text-anchor=\"start\" x=\"5583.5\" y=\"-141.8\" font-family=\"Helvetica,sans-Serif\" font-size=\"14.00\">samples = 58096</text>\n<text text-anchor=\"start\" x=\"5484.5\" y=\"-126.8\" font-family=\"Helvetica,sans-Serif\" font-size=\"14.00\">value = [5790, 13051, 16125, 12359, 10771]</text>\n<text text-anchor=\"start\" x=\"5613\" y=\"-111.8\" font-family=\"Helvetica,sans-Serif\" font-size=\"14.00\">class = g</text>\n</g>\n<!-- 41&#45;&gt;42 -->\n<g id=\"edge42\" class=\"edge\">\n<title>41&#45;&gt;42</title>\n<path fill=\"none\" stroke=\"black\" d=\"M5645.5,-222.91C5645.5,-214.65 5645.5,-205.86 5645.5,-197.3\"/>\n<polygon fill=\"black\" stroke=\"black\" points=\"5649,-197.02 5645.5,-187.02 5642,-197.02 5649,-197.02\"/>\n</g>\n<!-- 45 -->\n<g id=\"node46\" class=\"node\">\n<title>45</title>\n<path fill=\"#f6fefc\" stroke=\"black\" d=\"M6275.5,-187C6275.5,-187 5997.5,-187 5997.5,-187 5991.5,-187 5985.5,-181 5985.5,-175 5985.5,-175 5985.5,-116 5985.5,-116 5985.5,-110 5991.5,-104 5997.5,-104 5997.5,-104 6275.5,-104 6275.5,-104 6281.5,-104 6287.5,-110 6287.5,-116 6287.5,-116 6287.5,-175 6287.5,-175 6287.5,-181 6281.5,-187 6275.5,-187\"/>\n<text text-anchor=\"start\" x=\"6095.5\" y=\"-171.8\" font-family=\"Helvetica,sans-Serif\" font-size=\"14.00\">votes ≤ 0.5</text>\n<text text-anchor=\"start\" x=\"6092.5\" y=\"-156.8\" font-family=\"Helvetica,sans-Serif\" font-size=\"14.00\">gini = 0.779</text>\n<text text-anchor=\"start\" x=\"6074.5\" y=\"-141.8\" font-family=\"Helvetica,sans-Serif\" font-size=\"14.00\">samples = 19220</text>\n<text text-anchor=\"start\" x=\"5993.5\" y=\"-126.8\" font-family=\"Helvetica,sans-Serif\" font-size=\"14.00\">value = [1933, 4797, 5430, 3998, 3062]</text>\n<text text-anchor=\"start\" x=\"6104\" y=\"-111.8\" font-family=\"Helvetica,sans-Serif\" font-size=\"14.00\">class = g</text>\n</g>\n<!-- 41&#45;&gt;45 -->\n<g id=\"edge45\" class=\"edge\">\n<title>41&#45;&gt;45</title>\n<path fill=\"none\" stroke=\"black\" d=\"M5814.82,-223.15C5866.79,-210.77 5923.82,-197.18 5975.23,-184.93\"/>\n<polygon fill=\"black\" stroke=\"black\" points=\"5976.19,-188.3 5985.1,-182.58 5974.56,-181.49 5976.19,-188.3\"/>\n</g>\n<!-- 43 -->\n<g id=\"node44\" class=\"node\">\n<title>43</title>\n<path fill=\"#f3fdfc\" stroke=\"black\" d=\"M5630.5,-68C5630.5,-68 5352.5,-68 5352.5,-68 5346.5,-68 5340.5,-62 5340.5,-56 5340.5,-56 5340.5,-12 5340.5,-12 5340.5,-6 5346.5,0 5352.5,0 5352.5,0 5630.5,0 5630.5,0 5636.5,0 5642.5,-6 5642.5,-12 5642.5,-12 5642.5,-56 5642.5,-56 5642.5,-62 5636.5,-68 5630.5,-68\"/>\n<text text-anchor=\"start\" x=\"5447.5\" y=\"-52.8\" font-family=\"Helvetica,sans-Serif\" font-size=\"14.00\">gini = 0.783</text>\n<text text-anchor=\"start\" x=\"5429.5\" y=\"-37.8\" font-family=\"Helvetica,sans-Serif\" font-size=\"14.00\">samples = 19188</text>\n<text text-anchor=\"start\" x=\"5348.5\" y=\"-22.8\" font-family=\"Helvetica,sans-Serif\" font-size=\"14.00\">value = [2117, 4517, 5382, 3866, 3306]</text>\n<text text-anchor=\"start\" x=\"5459\" y=\"-7.8\" font-family=\"Helvetica,sans-Serif\" font-size=\"14.00\">class = g</text>\n</g>\n<!-- 42&#45;&gt;43 -->\n<g id=\"edge43\" class=\"edge\">\n<title>42&#45;&gt;43</title>\n<path fill=\"none\" stroke=\"black\" d=\"M5588.16,-103.73C5574.56,-94.06 5560.09,-83.77 5546.59,-74.17\"/>\n<polygon fill=\"black\" stroke=\"black\" points=\"5548.51,-71.24 5538.33,-68.3 5544.45,-76.95 5548.51,-71.24\"/>\n</g>\n<!-- 44 -->\n<g id=\"node45\" class=\"node\">\n<title>44</title>\n<path fill=\"#f1fdfb\" stroke=\"black\" d=\"M5960,-68C5960,-68 5673,-68 5673,-68 5667,-68 5661,-62 5661,-56 5661,-56 5661,-12 5661,-12 5661,-6 5667,0 5673,0 5673,0 5960,0 5960,0 5966,0 5972,-6 5972,-12 5972,-12 5972,-56 5972,-56 5972,-62 5966,-68 5960,-68\"/>\n<text text-anchor=\"start\" x=\"5772.5\" y=\"-52.8\" font-family=\"Helvetica,sans-Serif\" font-size=\"14.00\">gini = 0.782</text>\n<text text-anchor=\"start\" x=\"5754.5\" y=\"-37.8\" font-family=\"Helvetica,sans-Serif\" font-size=\"14.00\">samples = 38908</text>\n<text text-anchor=\"start\" x=\"5669\" y=\"-22.8\" font-family=\"Helvetica,sans-Serif\" font-size=\"14.00\">value = [3673, 8534, 10743, 8493, 7465]</text>\n<text text-anchor=\"start\" x=\"5784\" y=\"-7.8\" font-family=\"Helvetica,sans-Serif\" font-size=\"14.00\">class = g</text>\n</g>\n<!-- 42&#45;&gt;44 -->\n<g id=\"edge44\" class=\"edge\">\n<title>42&#45;&gt;44</title>\n<path fill=\"none\" stroke=\"black\" d=\"M5709.17,-103.73C5724.49,-93.92 5740.82,-83.46 5755.99,-73.75\"/>\n<polygon fill=\"black\" stroke=\"black\" points=\"5758.24,-76.47 5764.77,-68.13 5754.46,-70.57 5758.24,-76.47\"/>\n</g>\n<!-- 46 -->\n<g id=\"node47\" class=\"node\">\n<title>46</title>\n<path fill=\"#f9fefd\" stroke=\"black\" d=\"M6271,-68C6271,-68 6002,-68 6002,-68 5996,-68 5990,-62 5990,-56 5990,-56 5990,-12 5990,-12 5990,-6 5996,0 6002,0 6002,0 6271,0 6271,0 6277,0 6283,-6 6283,-12 6283,-12 6283,-56 6283,-56 6283,-62 6277,-68 6271,-68\"/>\n<text text-anchor=\"start\" x=\"6092.5\" y=\"-52.8\" font-family=\"Helvetica,sans-Serif\" font-size=\"14.00\">gini = 0.781</text>\n<text text-anchor=\"start\" x=\"6079\" y=\"-37.8\" font-family=\"Helvetica,sans-Serif\" font-size=\"14.00\">samples = 6761</text>\n<text text-anchor=\"start\" x=\"5998\" y=\"-22.8\" font-family=\"Helvetica,sans-Serif\" font-size=\"14.00\">value = [786, 1729, 1882, 1334, 1030]</text>\n<text text-anchor=\"start\" x=\"6104\" y=\"-7.8\" font-family=\"Helvetica,sans-Serif\" font-size=\"14.00\">class = g</text>\n</g>\n<!-- 45&#45;&gt;46 -->\n<g id=\"edge46\" class=\"edge\">\n<title>45&#45;&gt;46</title>\n<path fill=\"none\" stroke=\"black\" d=\"M6136.5,-103.73C6136.5,-95.52 6136.5,-86.86 6136.5,-78.56\"/>\n<polygon fill=\"black\" stroke=\"black\" points=\"6140,-78.3 6136.5,-68.3 6133,-78.3 6140,-78.3\"/>\n</g>\n<!-- 47 -->\n<g id=\"node48\" class=\"node\">\n<title>47</title>\n<path fill=\"#f5fefc\" stroke=\"black\" d=\"M6591.5,-68C6591.5,-68 6313.5,-68 6313.5,-68 6307.5,-68 6301.5,-62 6301.5,-56 6301.5,-56 6301.5,-12 6301.5,-12 6301.5,-6 6307.5,0 6313.5,0 6313.5,0 6591.5,0 6591.5,0 6597.5,0 6603.5,-6 6603.5,-12 6603.5,-12 6603.5,-56 6603.5,-56 6603.5,-62 6597.5,-68 6591.5,-68\"/>\n<text text-anchor=\"start\" x=\"6408.5\" y=\"-52.8\" font-family=\"Helvetica,sans-Serif\" font-size=\"14.00\">gini = 0.777</text>\n<text text-anchor=\"start\" x=\"6390.5\" y=\"-37.8\" font-family=\"Helvetica,sans-Serif\" font-size=\"14.00\">samples = 12459</text>\n<text text-anchor=\"start\" x=\"6309.5\" y=\"-22.8\" font-family=\"Helvetica,sans-Serif\" font-size=\"14.00\">value = [1147, 3068, 3548, 2664, 2032]</text>\n<text text-anchor=\"start\" x=\"6420\" y=\"-7.8\" font-family=\"Helvetica,sans-Serif\" font-size=\"14.00\">class = g</text>\n</g>\n<!-- 45&#45;&gt;47 -->\n<g id=\"edge47\" class=\"edge\">\n<title>45&#45;&gt;47</title>\n<path fill=\"none\" stroke=\"black\" d=\"M6253.72,-103.88C6284.47,-93.23 6317.42,-81.81 6347.49,-71.39\"/>\n<polygon fill=\"black\" stroke=\"black\" points=\"6348.84,-74.62 6357.14,-68.04 6346.55,-68.01 6348.84,-74.62\"/>\n</g>\n<!-- 49 -->\n<g id=\"node50\" class=\"node\">\n<title>49</title>\n<path fill=\"#f7fefd\" stroke=\"black\" d=\"M7424,-306C7424,-306 7101,-306 7101,-306 7095,-306 7089,-300 7089,-294 7089,-294 7089,-235 7089,-235 7089,-229 7095,-223 7101,-223 7101,-223 7424,-223 7424,-223 7430,-223 7436,-229 7436,-235 7436,-235 7436,-294 7436,-294 7436,-300 7430,-306 7424,-306\"/>\n<text text-anchor=\"start\" x=\"7142\" y=\"-290.8\" font-family=\"Helvetica,sans-Serif\" font-size=\"14.00\">user_reputation_score ≤ 421000.0</text>\n<text text-anchor=\"start\" x=\"7218.5\" y=\"-275.8\" font-family=\"Helvetica,sans-Serif\" font-size=\"14.00\">gini = 0.781</text>\n<text text-anchor=\"start\" x=\"7200.5\" y=\"-260.8\" font-family=\"Helvetica,sans-Serif\" font-size=\"14.00\">samples = 91609</text>\n<text text-anchor=\"start\" x=\"7097\" y=\"-245.8\" font-family=\"Helvetica,sans-Serif\" font-size=\"14.00\">value = [10080, 22898, 25781, 18611, 14239]</text>\n<text text-anchor=\"start\" x=\"7230\" y=\"-230.8\" font-family=\"Helvetica,sans-Serif\" font-size=\"14.00\">class = g</text>\n</g>\n<!-- 48&#45;&gt;49 -->\n<g id=\"edge49\" class=\"edge\">\n<title>48&#45;&gt;49</title>\n<path fill=\"none\" stroke=\"black\" d=\"M7262.5,-341.91C7262.5,-333.65 7262.5,-324.86 7262.5,-316.3\"/>\n<polygon fill=\"black\" stroke=\"black\" points=\"7266,-316.02 7262.5,-306.02 7259,-316.02 7266,-316.02\"/>\n</g>\n<!-- 56 -->\n<g id=\"node57\" class=\"node\">\n<title>56</title>\n<path fill=\"#f6fdf2\" stroke=\"black\" d=\"M8084,-306C8084,-306 7851,-306 7851,-306 7845,-306 7839,-300 7839,-294 7839,-294 7839,-235 7839,-235 7839,-229 7845,-223 7851,-223 7851,-223 8084,-223 8084,-223 8090,-223 8096,-229 8096,-235 8096,-235 8096,-294 8096,-294 8096,-300 8090,-306 8084,-306\"/>\n<text text-anchor=\"start\" x=\"7874\" y=\"-290.8\" font-family=\"Helvetica,sans-Serif\" font-size=\"14.00\">user_badge_number ≤ 1.5</text>\n<text text-anchor=\"start\" x=\"7923.5\" y=\"-275.8\" font-family=\"Helvetica,sans-Serif\" font-size=\"14.00\">gini = 0.768</text>\n<text text-anchor=\"start\" x=\"7910\" y=\"-260.8\" font-family=\"Helvetica,sans-Serif\" font-size=\"14.00\">samples = 2702</text>\n<text text-anchor=\"start\" x=\"7847\" y=\"-245.8\" font-family=\"Helvetica,sans-Serif\" font-size=\"14.00\">value = [332, 854, 726, 489, 301]</text>\n<text text-anchor=\"start\" x=\"7935.5\" y=\"-230.8\" font-family=\"Helvetica,sans-Serif\" font-size=\"14.00\">class = a</text>\n</g>\n<!-- 48&#45;&gt;56 -->\n<g id=\"edge56\" class=\"edge\">\n<title>48&#45;&gt;56</title>\n<path fill=\"none\" stroke=\"black\" d=\"M7436.32,-353.65C7557.23,-333.59 7716.27,-307.19 7828.72,-288.53\"/>\n<polygon fill=\"black\" stroke=\"black\" points=\"7829.47,-291.95 7838.77,-286.86 7828.33,-285.05 7829.47,-291.95\"/>\n</g>\n<!-- 50 -->\n<g id=\"node51\" class=\"node\">\n<title>50</title>\n<path fill=\"#f7fefd\" stroke=\"black\" d=\"M7275,-187C7275,-187 6952,-187 6952,-187 6946,-187 6940,-181 6940,-175 6940,-175 6940,-116 6940,-116 6940,-110 6946,-104 6952,-104 6952,-104 7275,-104 7275,-104 7281,-104 7287,-110 7287,-116 7287,-116 7287,-175 7287,-175 7287,-181 7281,-187 7275,-187\"/>\n<text text-anchor=\"start\" x=\"7072.5\" y=\"-171.8\" font-family=\"Helvetica,sans-Serif\" font-size=\"14.00\">votes ≤ 0.5</text>\n<text text-anchor=\"start\" x=\"7069.5\" y=\"-156.8\" font-family=\"Helvetica,sans-Serif\" font-size=\"14.00\">gini = 0.781</text>\n<text text-anchor=\"start\" x=\"7051.5\" y=\"-141.8\" font-family=\"Helvetica,sans-Serif\" font-size=\"14.00\">samples = 91314</text>\n<text text-anchor=\"start\" x=\"6948\" y=\"-126.8\" font-family=\"Helvetica,sans-Serif\" font-size=\"14.00\">value = [10077, 22875, 25663, 18513, 14186]</text>\n<text text-anchor=\"start\" x=\"7081\" y=\"-111.8\" font-family=\"Helvetica,sans-Serif\" font-size=\"14.00\">class = g</text>\n</g>\n<!-- 49&#45;&gt;50 -->\n<g id=\"edge50\" class=\"edge\">\n<title>49&#45;&gt;50</title>\n<path fill=\"none\" stroke=\"black\" d=\"M7210.81,-222.91C7198.67,-213.38 7185.64,-203.15 7173.19,-193.37\"/>\n<polygon fill=\"black\" stroke=\"black\" points=\"7175.13,-190.44 7165.1,-187.02 7170.81,-195.95 7175.13,-190.44\"/>\n</g>\n<!-- 53 -->\n<g id=\"node54\" class=\"node\">\n<title>53</title>\n<path fill=\"#ebfcf9\" stroke=\"black\" d=\"M7504.5,-187C7504.5,-187 7316.5,-187 7316.5,-187 7310.5,-187 7304.5,-181 7304.5,-175 7304.5,-175 7304.5,-116 7304.5,-116 7304.5,-110 7310.5,-104 7316.5,-104 7316.5,-104 7504.5,-104 7504.5,-104 7510.5,-104 7516.5,-110 7516.5,-116 7516.5,-116 7516.5,-175 7516.5,-175 7516.5,-181 7510.5,-187 7504.5,-187\"/>\n<text text-anchor=\"start\" x=\"7369\" y=\"-171.8\" font-family=\"Helvetica,sans-Serif\" font-size=\"14.00\">views ≤ 2.5</text>\n<text text-anchor=\"start\" x=\"7366.5\" y=\"-156.8\" font-family=\"Helvetica,sans-Serif\" font-size=\"14.00\">gini = 0.691</text>\n<text text-anchor=\"start\" x=\"7357.5\" y=\"-141.8\" font-family=\"Helvetica,sans-Serif\" font-size=\"14.00\">samples = 295</text>\n<text text-anchor=\"start\" x=\"7312.5\" y=\"-126.8\" font-family=\"Helvetica,sans-Serif\" font-size=\"14.00\">value = [3, 23, 118, 98, 53]</text>\n<text text-anchor=\"start\" x=\"7378\" y=\"-111.8\" font-family=\"Helvetica,sans-Serif\" font-size=\"14.00\">class = g</text>\n</g>\n<!-- 49&#45;&gt;53 -->\n<g id=\"edge53\" class=\"edge\">\n<title>49&#45;&gt;53</title>\n<path fill=\"none\" stroke=\"black\" d=\"M7313.85,-222.91C7325.9,-213.38 7338.84,-203.15 7351.21,-193.37\"/>\n<polygon fill=\"black\" stroke=\"black\" points=\"7353.57,-195.97 7359.24,-187.02 7349.23,-190.48 7353.57,-195.97\"/>\n</g>\n<!-- 51 -->\n<g id=\"node52\" class=\"node\">\n<title>51</title>\n<path fill=\"#f9fefd\" stroke=\"black\" d=\"M6939,-68C6939,-68 6634,-68 6634,-68 6628,-68 6622,-62 6622,-56 6622,-56 6622,-12 6622,-12 6622,-6 6628,0 6634,0 6634,0 6939,0 6939,0 6945,0 6951,-6 6951,-12 6951,-12 6951,-56 6951,-56 6951,-62 6945,-68 6939,-68\"/>\n<text text-anchor=\"start\" x=\"6742.5\" y=\"-52.8\" font-family=\"Helvetica,sans-Serif\" font-size=\"14.00\">gini = 0.781</text>\n<text text-anchor=\"start\" x=\"6724.5\" y=\"-37.8\" font-family=\"Helvetica,sans-Serif\" font-size=\"14.00\">samples = 51552</text>\n<text text-anchor=\"start\" x=\"6630\" y=\"-22.8\" font-family=\"Helvetica,sans-Serif\" font-size=\"14.00\">value = [6093, 13194, 14394, 10227, 7644]</text>\n<text text-anchor=\"start\" x=\"6754\" y=\"-7.8\" font-family=\"Helvetica,sans-Serif\" font-size=\"14.00\">class = g</text>\n</g>\n<!-- 50&#45;&gt;51 -->\n<g id=\"edge51\" class=\"edge\">\n<title>50&#45;&gt;51</title>\n<path fill=\"none\" stroke=\"black\" d=\"M6992.2,-103.88C6960.25,-93.18 6925.98,-81.71 6894.76,-71.25\"/>\n<polygon fill=\"black\" stroke=\"black\" points=\"6895.77,-67.9 6885.18,-68.04 6893.55,-74.54 6895.77,-67.9\"/>\n</g>\n<!-- 52 -->\n<g id=\"node53\" class=\"node\">\n<title>52</title>\n<path fill=\"#f5fefc\" stroke=\"black\" d=\"M7268,-68C7268,-68 6981,-68 6981,-68 6975,-68 6969,-62 6969,-56 6969,-56 6969,-12 6969,-12 6969,-6 6975,0 6981,0 6981,0 7268,0 7268,0 7274,0 7280,-6 7280,-12 7280,-12 7280,-56 7280,-56 7280,-62 7274,-68 7268,-68\"/>\n<text text-anchor=\"start\" x=\"7085\" y=\"-52.8\" font-family=\"Helvetica,sans-Serif\" font-size=\"14.00\">gini = 0.78</text>\n<text text-anchor=\"start\" x=\"7062.5\" y=\"-37.8\" font-family=\"Helvetica,sans-Serif\" font-size=\"14.00\">samples = 39762</text>\n<text text-anchor=\"start\" x=\"6977\" y=\"-22.8\" font-family=\"Helvetica,sans-Serif\" font-size=\"14.00\">value = [3984, 9681, 11269, 8286, 6542]</text>\n<text text-anchor=\"start\" x=\"7092\" y=\"-7.8\" font-family=\"Helvetica,sans-Serif\" font-size=\"14.00\">class = g</text>\n</g>\n<!-- 50&#45;&gt;52 -->\n<g id=\"edge52\" class=\"edge\">\n<title>50&#45;&gt;52</title>\n<path fill=\"none\" stroke=\"black\" d=\"M7117.6,-103.73C7118.43,-95.43 7119.31,-86.67 7120.15,-78.28\"/>\n<polygon fill=\"black\" stroke=\"black\" points=\"7123.64,-78.6 7121.15,-68.3 7116.67,-77.9 7123.64,-78.6\"/>\n</g>\n<!-- 54 -->\n<g id=\"node55\" class=\"node\">\n<title>54</title>\n<path fill=\"#d6faf3\" stroke=\"black\" d=\"M7489,-68C7489,-68 7310,-68 7310,-68 7304,-68 7298,-62 7298,-56 7298,-56 7298,-12 7298,-12 7298,-6 7304,0 7310,0 7310,0 7489,0 7489,0 7495,0 7501,-6 7501,-12 7501,-12 7501,-56 7501,-56 7501,-62 7495,-68 7489,-68\"/>\n<text text-anchor=\"start\" x=\"7355.5\" y=\"-52.8\" font-family=\"Helvetica,sans-Serif\" font-size=\"14.00\">gini = 0.685</text>\n<text text-anchor=\"start\" x=\"7346.5\" y=\"-37.8\" font-family=\"Helvetica,sans-Serif\" font-size=\"14.00\">samples = 190</text>\n<text text-anchor=\"start\" x=\"7306\" y=\"-22.8\" font-family=\"Helvetica,sans-Serif\" font-size=\"14.00\">value = [3, 18, 84, 56, 29]</text>\n<text text-anchor=\"start\" x=\"7367\" y=\"-7.8\" font-family=\"Helvetica,sans-Serif\" font-size=\"14.00\">class = g</text>\n</g>\n<!-- 53&#45;&gt;54 -->\n<g id=\"edge54\" class=\"edge\">\n<title>53&#45;&gt;54</title>\n<path fill=\"none\" stroke=\"black\" d=\"M7406.4,-103.73C7405.57,-95.43 7404.69,-86.67 7403.85,-78.28\"/>\n<polygon fill=\"black\" stroke=\"black\" points=\"7407.33,-77.9 7402.85,-68.3 7400.36,-78.6 7407.33,-77.9\"/>\n</g>\n<!-- 55 -->\n<g id=\"node56\" class=\"node\">\n<title>55</title>\n<path fill=\"#e9e9fc\" stroke=\"black\" d=\"M7700.5,-68C7700.5,-68 7530.5,-68 7530.5,-68 7524.5,-68 7518.5,-62 7518.5,-56 7518.5,-56 7518.5,-12 7518.5,-12 7518.5,-6 7524.5,0 7530.5,0 7530.5,0 7700.5,0 7700.5,0 7706.5,0 7712.5,-6 7712.5,-12 7712.5,-12 7712.5,-56 7712.5,-56 7712.5,-62 7706.5,-68 7700.5,-68\"/>\n<text text-anchor=\"start\" x=\"7571.5\" y=\"-52.8\" font-family=\"Helvetica,sans-Serif\" font-size=\"14.00\">gini = 0.681</text>\n<text text-anchor=\"start\" x=\"7562.5\" y=\"-37.8\" font-family=\"Helvetica,sans-Serif\" font-size=\"14.00\">samples = 105</text>\n<text text-anchor=\"start\" x=\"7526.5\" y=\"-22.8\" font-family=\"Helvetica,sans-Serif\" font-size=\"14.00\">value = [0, 5, 34, 42, 24]</text>\n<text text-anchor=\"start\" x=\"7583.5\" y=\"-7.8\" font-family=\"Helvetica,sans-Serif\" font-size=\"14.00\">class = s</text>\n</g>\n<!-- 53&#45;&gt;55 -->\n<g id=\"edge55\" class=\"edge\">\n<title>53&#45;&gt;55</title>\n<path fill=\"none\" stroke=\"black\" d=\"M7486.54,-103.88C7505.54,-93.73 7525.84,-82.89 7544.58,-72.88\"/>\n<polygon fill=\"black\" stroke=\"black\" points=\"7546.47,-75.84 7553.64,-68.04 7543.17,-69.67 7546.47,-75.84\"/>\n</g>\n<!-- 57 -->\n<g id=\"node58\" class=\"node\">\n<title>57</title>\n<path fill=\"#fdfffc\" stroke=\"black\" d=\"M8084,-187C8084,-187 7851,-187 7851,-187 7845,-187 7839,-181 7839,-175 7839,-175 7839,-116 7839,-116 7839,-110 7845,-104 7851,-104 7851,-104 8084,-104 8084,-104 8090,-104 8096,-110 8096,-116 8096,-116 8096,-175 8096,-175 8096,-181 8090,-187 8084,-187\"/>\n<text text-anchor=\"start\" x=\"7879\" y=\"-171.8\" font-family=\"Helvetica,sans-Serif\" font-size=\"14.00\">User Badge bronze ≤ 0.5</text>\n<text text-anchor=\"start\" x=\"7923.5\" y=\"-156.8\" font-family=\"Helvetica,sans-Serif\" font-size=\"14.00\">gini = 0.778</text>\n<text text-anchor=\"start\" x=\"7914.5\" y=\"-141.8\" font-family=\"Helvetica,sans-Serif\" font-size=\"14.00\">samples = 977</text>\n<text text-anchor=\"start\" x=\"7847\" y=\"-126.8\" font-family=\"Helvetica,sans-Serif\" font-size=\"14.00\">value = [100, 268, 257, 208, 144]</text>\n<text text-anchor=\"start\" x=\"7935.5\" y=\"-111.8\" font-family=\"Helvetica,sans-Serif\" font-size=\"14.00\">class = a</text>\n</g>\n<!-- 56&#45;&gt;57 -->\n<g id=\"edge57\" class=\"edge\">\n<title>56&#45;&gt;57</title>\n<path fill=\"none\" stroke=\"black\" d=\"M7967.5,-222.91C7967.5,-214.65 7967.5,-205.86 7967.5,-197.3\"/>\n<polygon fill=\"black\" stroke=\"black\" points=\"7971,-197.02 7967.5,-187.02 7964,-197.02 7971,-197.02\"/>\n</g>\n<!-- 60 -->\n<g id=\"node61\" class=\"node\">\n<title>60</title>\n<path fill=\"#f3fded\" stroke=\"black\" d=\"M8472,-187C8472,-187 8239,-187 8239,-187 8233,-187 8227,-181 8227,-175 8227,-175 8227,-116 8227,-116 8227,-110 8233,-104 8239,-104 8239,-104 8472,-104 8472,-104 8478,-104 8484,-110 8484,-116 8484,-116 8484,-175 8484,-175 8484,-181 8478,-187 8472,-187\"/>\n<text text-anchor=\"start\" x=\"8235\" y=\"-171.8\" font-family=\"Helvetica,sans-Serif\" font-size=\"14.00\">user_reputation_score ≤ 734500.0</text>\n<text text-anchor=\"start\" x=\"8311.5\" y=\"-156.8\" font-family=\"Helvetica,sans-Serif\" font-size=\"14.00\">gini = 0.758</text>\n<text text-anchor=\"start\" x=\"8298\" y=\"-141.8\" font-family=\"Helvetica,sans-Serif\" font-size=\"14.00\">samples = 1725</text>\n<text text-anchor=\"start\" x=\"8235\" y=\"-126.8\" font-family=\"Helvetica,sans-Serif\" font-size=\"14.00\">value = [232, 586, 469, 281, 157]</text>\n<text text-anchor=\"start\" x=\"8323.5\" y=\"-111.8\" font-family=\"Helvetica,sans-Serif\" font-size=\"14.00\">class = a</text>\n</g>\n<!-- 56&#45;&gt;60 -->\n<g id=\"edge60\" class=\"edge\">\n<title>56&#45;&gt;60</title>\n<path fill=\"none\" stroke=\"black\" d=\"M8096.16,-224.7C8134.9,-213.02 8177.57,-200.15 8216.93,-188.29\"/>\n<polygon fill=\"black\" stroke=\"black\" points=\"8218.29,-191.53 8226.86,-185.29 8216.27,-184.83 8218.29,-191.53\"/>\n</g>\n<!-- 58 -->\n<g id=\"node59\" class=\"node\">\n<title>58</title>\n<path fill=\"#f9fef6\" stroke=\"black\" d=\"M7966.5,-68C7966.5,-68 7742.5,-68 7742.5,-68 7736.5,-68 7730.5,-62 7730.5,-56 7730.5,-56 7730.5,-12 7730.5,-12 7730.5,-6 7736.5,0 7742.5,0 7742.5,0 7966.5,0 7966.5,0 7972.5,0 7978.5,-6 7978.5,-12 7978.5,-12 7978.5,-56 7978.5,-56 7978.5,-62 7972.5,-68 7966.5,-68\"/>\n<text text-anchor=\"start\" x=\"7810.5\" y=\"-52.8\" font-family=\"Helvetica,sans-Serif\" font-size=\"14.00\">gini = 0.784</text>\n<text text-anchor=\"start\" x=\"7801.5\" y=\"-37.8\" font-family=\"Helvetica,sans-Serif\" font-size=\"14.00\">samples = 665</text>\n<text text-anchor=\"start\" x=\"7738.5\" y=\"-22.8\" font-family=\"Helvetica,sans-Serif\" font-size=\"14.00\">value = [78, 182, 159, 140, 106]</text>\n<text text-anchor=\"start\" x=\"7822.5\" y=\"-7.8\" font-family=\"Helvetica,sans-Serif\" font-size=\"14.00\">class = a</text>\n</g>\n<!-- 57&#45;&gt;58 -->\n<g id=\"edge58\" class=\"edge\">\n<title>57&#45;&gt;58</title>\n<path fill=\"none\" stroke=\"black\" d=\"M7925.42,-103.73C7915.82,-94.42 7905.63,-84.54 7896.05,-75.26\"/>\n<polygon fill=\"black\" stroke=\"black\" points=\"7898.48,-72.75 7888.86,-68.3 7893.61,-77.77 7898.48,-72.75\"/>\n</g>\n<!-- 59 -->\n<g id=\"node60\" class=\"node\">\n<title>59</title>\n<path fill=\"#f4fefc\" stroke=\"black\" d=\"M8196.5,-68C8196.5,-68 8008.5,-68 8008.5,-68 8002.5,-68 7996.5,-62 7996.5,-56 7996.5,-56 7996.5,-12 7996.5,-12 7996.5,-6 8002.5,0 8008.5,0 8008.5,0 8196.5,0 8196.5,0 8202.5,0 8208.5,-6 8208.5,-12 8208.5,-12 8208.5,-56 8208.5,-56 8208.5,-62 8202.5,-68 8196.5,-68\"/>\n<text text-anchor=\"start\" x=\"8058.5\" y=\"-52.8\" font-family=\"Helvetica,sans-Serif\" font-size=\"14.00\">gini = 0.758</text>\n<text text-anchor=\"start\" x=\"8049.5\" y=\"-37.8\" font-family=\"Helvetica,sans-Serif\" font-size=\"14.00\">samples = 312</text>\n<text text-anchor=\"start\" x=\"8004.5\" y=\"-22.8\" font-family=\"Helvetica,sans-Serif\" font-size=\"14.00\">value = [22, 86, 98, 68, 38]</text>\n<text text-anchor=\"start\" x=\"8070\" y=\"-7.8\" font-family=\"Helvetica,sans-Serif\" font-size=\"14.00\">class = g</text>\n</g>\n<!-- 57&#45;&gt;59 -->\n<g id=\"edge59\" class=\"edge\">\n<title>57&#45;&gt;59</title>\n<path fill=\"none\" stroke=\"black\" d=\"M8017.77,-103.73C8029.46,-94.24 8041.9,-84.16 8053.54,-74.72\"/>\n<polygon fill=\"black\" stroke=\"black\" points=\"8055.88,-77.32 8061.45,-68.3 8051.47,-71.88 8055.88,-77.32\"/>\n</g>\n<!-- 61 -->\n<g id=\"node62\" class=\"node\">\n<title>61</title>\n<path fill=\"#f8fef4\" stroke=\"black\" d=\"M8472,-68C8472,-68 8239,-68 8239,-68 8233,-68 8227,-62 8227,-56 8227,-56 8227,-12 8227,-12 8227,-6 8233,0 8239,0 8239,0 8472,0 8472,0 8478,0 8484,-6 8484,-12 8484,-12 8484,-56 8484,-56 8484,-62 8478,-68 8472,-68\"/>\n<text text-anchor=\"start\" x=\"8311.5\" y=\"-52.8\" font-family=\"Helvetica,sans-Serif\" font-size=\"14.00\">gini = 0.765</text>\n<text text-anchor=\"start\" x=\"8298\" y=\"-37.8\" font-family=\"Helvetica,sans-Serif\" font-size=\"14.00\">samples = 1138</text>\n<text text-anchor=\"start\" x=\"8235\" y=\"-22.8\" font-family=\"Helvetica,sans-Serif\" font-size=\"14.00\">value = [174, 361, 315, 181, 107]</text>\n<text text-anchor=\"start\" x=\"8323.5\" y=\"-7.8\" font-family=\"Helvetica,sans-Serif\" font-size=\"14.00\">class = a</text>\n</g>\n<!-- 60&#45;&gt;61 -->\n<g id=\"edge61\" class=\"edge\">\n<title>60&#45;&gt;61</title>\n<path fill=\"none\" stroke=\"black\" d=\"M8355.5,-103.73C8355.5,-95.52 8355.5,-86.86 8355.5,-78.56\"/>\n<polygon fill=\"black\" stroke=\"black\" points=\"8359,-78.3 8355.5,-68.3 8352,-78.3 8359,-78.3\"/>\n</g>\n<!-- 62 -->\n<g id=\"node63\" class=\"node\">\n<title>62</title>\n<path fill=\"#e9fbdf\" stroke=\"black\" d=\"M8729,-68C8729,-68 8514,-68 8514,-68 8508,-68 8502,-62 8502,-56 8502,-56 8502,-12 8502,-12 8502,-6 8508,0 8514,0 8514,0 8729,0 8729,0 8735,0 8741,-6 8741,-12 8741,-12 8741,-56 8741,-56 8741,-62 8735,-68 8729,-68\"/>\n<text text-anchor=\"start\" x=\"8577.5\" y=\"-52.8\" font-family=\"Helvetica,sans-Serif\" font-size=\"14.00\">gini = 0.738</text>\n<text text-anchor=\"start\" x=\"8568.5\" y=\"-37.8\" font-family=\"Helvetica,sans-Serif\" font-size=\"14.00\">samples = 587</text>\n<text text-anchor=\"start\" x=\"8510\" y=\"-22.8\" font-family=\"Helvetica,sans-Serif\" font-size=\"14.00\">value = [58, 225, 154, 100, 50]</text>\n<text text-anchor=\"start\" x=\"8589.5\" y=\"-7.8\" font-family=\"Helvetica,sans-Serif\" font-size=\"14.00\">class = a</text>\n</g>\n<!-- 60&#45;&gt;62 -->\n<g id=\"edge62\" class=\"edge\">\n<title>60&#45;&gt;62</title>\n<path fill=\"none\" stroke=\"black\" d=\"M8454.17,-103.88C8479.6,-93.41 8506.84,-82.2 8531.79,-71.93\"/>\n<polygon fill=\"black\" stroke=\"black\" points=\"8533.32,-75.09 8541.23,-68.04 8530.65,-68.61 8533.32,-75.09\"/>\n</g>\n</g>\n</svg>\n"
     },
     "metadata": {},
     "execution_count": 161
    }
   ],
   "metadata": {}
  },
  {
   "cell_type": "code",
   "execution_count": 162,
   "source": [
    "dt_model.classes_"
   ],
   "outputs": [
    {
     "output_type": "execute_result",
     "data": {
      "text/plain": [
       "array([1, 2, 3, 4, 5])"
      ]
     },
     "metadata": {},
     "execution_count": 162
    }
   ],
   "metadata": {}
  },
  {
   "cell_type": "code",
   "execution_count": 163,
   "source": [
    "dt_feature_knn = stack_features.copy().drop(columns=['user_badge_type','encoded_user_badge'])\n",
    "distortions = []\n",
    "K = range(1,10)\n",
    "for k in K:\n",
    "    kmeanModel = KMeans(n_clusters=k)\n",
    "    kmeanModel.fit(dt_feature_knn)\n",
    "    distortions.append(kmeanModel.inertia_)"
   ],
   "outputs": [],
   "metadata": {}
  },
  {
   "cell_type": "code",
   "execution_count": 164,
   "source": [
    "plt.figure(figsize=(16,8))\n",
    "plt.plot(K, distortions, 'bx-')\n",
    "plt.xlabel('k')\n",
    "plt.ylabel('Distortion')\n",
    "plt.title('The Elbow Method showing the optimal k')\n",
    "plt.show()"
   ],
   "outputs": [
    {
     "output_type": "display_data",
     "data": {
      "text/plain": [
       "<Figure size 1152x576 with 1 Axes>"
      ],
      "image/png": "[encoded data removed]"
     },
     "metadata": {
      "needs_background": "light"
     }
    }
   ],
   "metadata": {}
  },
  {
   "cell_type": "code",
   "execution_count": 165,
   "source": [
    "km = KMeans(n_clusters = 3, random_state=0)\n",
    "cluster_labels = km.fit_predict(dt_feature_knn)\n",
    "centroids = km.cluster_centers_"
   ],
   "outputs": [],
   "metadata": {}
  },
  {
   "cell_type": "code",
   "execution_count": 166,
   "source": [
    "\n",
    "#silhouette_score_avg = silhouette_score(dt_feature_knn, cluster_labels)\n",
    "#silhouette_score_each = silhouette_samples(dt_feature_knn, cluster_labels)\n",
    "\n",
    "model_filename = 'api/model/kmeans_3_clusters.pkl'\n",
    "with open(model_filename, 'wb') as f:\n",
    "    pickle.dump(km, f)"
   ],
   "outputs": [],
   "metadata": {}
  },
  {
   "cell_type": "code",
   "execution_count": 167,
   "source": [
    "cluster_info = pd.concat([dt_feature_knn, pd.DataFrame({'label_class':cluster_labels})], axis = 1)\n"
   ],
   "outputs": [],
   "metadata": {}
  },
  {
   "cell_type": "code",
   "execution_count": 168,
   "source": [
    "cluster_info.label_class.value_counts()"
   ],
   "outputs": [
    {
     "output_type": "execute_result",
     "data": {
      "text/plain": [
       "0    200557\n",
       "1      7273\n",
       "2      2468\n",
       "Name: label_class, dtype: int64"
      ]
     },
     "metadata": {},
     "execution_count": 168
    }
   ],
   "metadata": {}
  },
  {
   "cell_type": "code",
   "execution_count": 169,
   "source": [
    "silhouette_score_avg = silhouette_score(dt_feature_knn, cluster_labels)\n",
    "silhouette_score_avg"
   ],
   "outputs": [],
   "metadata": {}
  }
 ],
 "metadata": {
  "orig_nbformat": 4,
  "language_info": {
   "name": "python"
  }
 },
 "nbformat": 4,
 "nbformat_minor": 2
}