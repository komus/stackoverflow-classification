{
 "cells": [
  {
   "cell_type": "code",
   "execution_count": 80,
   "source": [
    "import pandas as pd\n",
    "import os\n",
    "import re\n",
    "import datetime\n",
    "import numpy as np\n",
    "from sklearn.preprocessing import OneHotEncoder, LabelEncoder\n",
    "from sklearn.tree import DecisionTreeClassifier\n",
    "import pickle\n",
    "from matplotlib import pyplot as plt\n",
    "from sklearn import tree\n",
    "import graphviz\n",
    "from sklearn.cluster import KMeans\n",
    "from sklearn.metrics import silhouette_score, silhouette_samples\n",
    "import plotly.express as px"
   ],
   "outputs": [],
   "metadata": {}
  },
  {
   "cell_type": "code",
   "execution_count": 81,
   "source": [
    "main1 = pd.read_csv('/home/oyindolapo/Documents/PythonProjects/stackoverflow/model/stackoverflow_main.csv')\n",
    "main2 = pd.read_csv('/home/oyindolapo/Documents/PythonProjects/stackoverflow/model/stackoverflow_main_2.csv')"
   ],
   "outputs": [],
   "metadata": {}
  },
  {
   "cell_type": "code",
   "execution_count": 82,
   "source": [
    "data = main1.append(main2)"
   ],
   "outputs": [],
   "metadata": {}
  },
  {
   "cell_type": "code",
   "execution_count": 83,
   "source": [
    "data = data.reset_index()"
   ],
   "outputs": [],
   "metadata": {}
  },
  {
   "cell_type": "markdown",
   "source": [
    "--------------DATA CLEANUP------------------"
   ],
   "metadata": {}
  },
  {
   "cell_type": "code",
   "execution_count": 84,
   "source": [
    "data = data.drop(columns='Unnamed: 0')"
   ],
   "outputs": [],
   "metadata": {}
  },
  {
   "cell_type": "code",
   "execution_count": 85,
   "source": [
    "data['id'] = data['id'].apply(lambda x: x[x.find('question-summary-') + 17:]).astype(int)"
   ],
   "outputs": [],
   "metadata": {}
  },
  {
   "cell_type": "code",
   "execution_count": 86,
   "source": [
    "data['answer']=data['answer'].str.extract(r'(\\d)').astype(int)"
   ],
   "outputs": [],
   "metadata": {}
  },
  {
   "cell_type": "code",
   "execution_count": 87,
   "source": [
    "data['views']=data['views'].str.extract(r'(\\d)').astype(int)"
   ],
   "outputs": [],
   "metadata": {}
  },
  {
   "cell_type": "code",
   "execution_count": 88,
   "source": [
    "data['user_reputation_score']= data.user_reputation_score.replace(',','', regex=True)\n",
    "data['user_reputation_score']= (data.user_reputation_score.replace(r'[km]+$', '', regex=True).astype(float) * data.user_reputation_score.str.extract(r'[\\d\\.]+([km]+)', expand=False).fillna(1).replace(['k','m'], [10**3, 10**6]).astype(int))"
   ],
   "outputs": [],
   "metadata": {}
  },
  {
   "cell_type": "code",
   "execution_count": 89,
   "source": [
    "data['user_badge_number'] = data.user_badge.str.extract(r'(\\d)')"
   ],
   "outputs": [],
   "metadata": {}
  },
  {
   "cell_type": "code",
   "execution_count": 90,
   "source": [
    "data['user_badge_type'] = data.user_badge.str.extract('([a-zA-Z]+)', expand=True)"
   ],
   "outputs": [],
   "metadata": {}
  },
  {
   "cell_type": "code",
   "execution_count": 91,
   "source": [
    "data['tags_count'] = data.tags.str.split(':').str.len()-1"
   ],
   "outputs": [],
   "metadata": {}
  },
  {
   "cell_type": "code",
   "execution_count": 92,
   "source": [
    "max_date = pd.to_datetime(data.question_time.max())"
   ],
   "outputs": [],
   "metadata": {}
  },
  {
   "cell_type": "code",
   "execution_count": 93,
   "source": [
    "def days_in_batch(max_date, questiondate ):\n",
    "\n",
    "    x = max_date - questiondate\n",
    "    x = x.days\n",
    "    if x == 0:\n",
    "        return 1\n",
    "    return x"
   ],
   "outputs": [],
   "metadata": {}
  },
  {
   "cell_type": "code",
   "execution_count": 94,
   "source": [
    "data['question_time'] = pd.to_datetime(data['question_time'])\n",
    "data['days_in_queue'] = data['question_time'].apply(lambda x: days_in_batch(max_date, x))"
   ],
   "outputs": [],
   "metadata": {}
  },
  {
   "cell_type": "code",
   "execution_count": 95,
   "source": [
    "stack_features = data[['user_reputation_score', 'votes','answer', 'views', 'accepted_answer', 'user_badge_number','user_badge_type', 'tags_count', 'days_in_queue']]\n",
    "stack_features"
   ],
   "outputs": [
    {
     "output_type": "execute_result",
     "data": {
      "text/plain": [
       "        user_reputation_score  votes  answer  views  accepted_answer  \\\n",
       "0                        11.0      0       0      2                0   \n",
       "1                     63500.0      0       2      1                1   \n",
       "2                       119.0      0       0      2                0   \n",
       "3                       751.0      1       1      1                0   \n",
       "4                       252.0      0       1      2                0   \n",
       "...                       ...    ...     ...    ...              ...   \n",
       "199994               214000.0      3       3      4                1   \n",
       "199995                  129.0      0       0      1                0   \n",
       "199996                   41.0      1       2      8                1   \n",
       "199997                 3211.0      0       1      1                0   \n",
       "199998                   91.0      0       0      1                0   \n",
       "\n",
       "       user_badge_number user_badge_type  tags_count  days_in_queue  \n",
       "0                      2          bronze           5              1  \n",
       "1                      1            gold           4              1  \n",
       "2                      6          bronze           3              1  \n",
       "3                      3          silver           3              1  \n",
       "4                      1            gold           2              1  \n",
       "...                  ...             ...         ...            ...  \n",
       "199994                 1            gold           2             24  \n",
       "199995                 1          silver           2             24  \n",
       "199996                 2          bronze           3             24  \n",
       "199997                 2            gold           4             24  \n",
       "199998                 5          bronze           1             24  \n",
       "\n",
       "[199999 rows x 9 columns]"
      ],
      "text/html": [
       "<div>\n",
       "<style scoped>\n",
       "    .dataframe tbody tr th:only-of-type {\n",
       "        vertical-align: middle;\n",
       "    }\n",
       "\n",
       "    .dataframe tbody tr th {\n",
       "        vertical-align: top;\n",
       "    }\n",
       "\n",
       "    .dataframe thead th {\n",
       "        text-align: right;\n",
       "    }\n",
       "</style>\n",
       "<table border=\"1\" class=\"dataframe\">\n",
       "  <thead>\n",
       "    <tr style=\"text-align: right;\">\n",
       "      <th></th>\n",
       "      <th>user_reputation_score</th>\n",
       "      <th>votes</th>\n",
       "      <th>answer</th>\n",
       "      <th>views</th>\n",
       "      <th>accepted_answer</th>\n",
       "      <th>user_badge_number</th>\n",
       "      <th>user_badge_type</th>\n",
       "      <th>tags_count</th>\n",
       "      <th>days_in_queue</th>\n",
       "    </tr>\n",
       "  </thead>\n",
       "  <tbody>\n",
       "    <tr>\n",
       "      <th>0</th>\n",
       "      <td>11.0</td>\n",
       "      <td>0</td>\n",
       "      <td>0</td>\n",
       "      <td>2</td>\n",
       "      <td>0</td>\n",
       "      <td>2</td>\n",
       "      <td>bronze</td>\n",
       "      <td>5</td>\n",
       "      <td>1</td>\n",
       "    </tr>\n",
       "    <tr>\n",
       "      <th>1</th>\n",
       "      <td>63500.0</td>\n",
       "      <td>0</td>\n",
       "      <td>2</td>\n",
       "      <td>1</td>\n",
       "      <td>1</td>\n",
       "      <td>1</td>\n",
       "      <td>gold</td>\n",
       "      <td>4</td>\n",
       "      <td>1</td>\n",
       "    </tr>\n",
       "    <tr>\n",
       "      <th>2</th>\n",
       "      <td>119.0</td>\n",
       "      <td>0</td>\n",
       "      <td>0</td>\n",
       "      <td>2</td>\n",
       "      <td>0</td>\n",
       "      <td>6</td>\n",
       "      <td>bronze</td>\n",
       "      <td>3</td>\n",
       "      <td>1</td>\n",
       "    </tr>\n",
       "    <tr>\n",
       "      <th>3</th>\n",
       "      <td>751.0</td>\n",
       "      <td>1</td>\n",
       "      <td>1</td>\n",
       "      <td>1</td>\n",
       "      <td>0</td>\n",
       "      <td>3</td>\n",
       "      <td>silver</td>\n",
       "      <td>3</td>\n",
       "      <td>1</td>\n",
       "    </tr>\n",
       "    <tr>\n",
       "      <th>4</th>\n",
       "      <td>252.0</td>\n",
       "      <td>0</td>\n",
       "      <td>1</td>\n",
       "      <td>2</td>\n",
       "      <td>0</td>\n",
       "      <td>1</td>\n",
       "      <td>gold</td>\n",
       "      <td>2</td>\n",
       "      <td>1</td>\n",
       "    </tr>\n",
       "    <tr>\n",
       "      <th>...</th>\n",
       "      <td>...</td>\n",
       "      <td>...</td>\n",
       "      <td>...</td>\n",
       "      <td>...</td>\n",
       "      <td>...</td>\n",
       "      <td>...</td>\n",
       "      <td>...</td>\n",
       "      <td>...</td>\n",
       "      <td>...</td>\n",
       "    </tr>\n",
       "    <tr>\n",
       "      <th>199994</th>\n",
       "      <td>214000.0</td>\n",
       "      <td>3</td>\n",
       "      <td>3</td>\n",
       "      <td>4</td>\n",
       "      <td>1</td>\n",
       "      <td>1</td>\n",
       "      <td>gold</td>\n",
       "      <td>2</td>\n",
       "      <td>24</td>\n",
       "    </tr>\n",
       "    <tr>\n",
       "      <th>199995</th>\n",
       "      <td>129.0</td>\n",
       "      <td>0</td>\n",
       "      <td>0</td>\n",
       "      <td>1</td>\n",
       "      <td>0</td>\n",
       "      <td>1</td>\n",
       "      <td>silver</td>\n",
       "      <td>2</td>\n",
       "      <td>24</td>\n",
       "    </tr>\n",
       "    <tr>\n",
       "      <th>199996</th>\n",
       "      <td>41.0</td>\n",
       "      <td>1</td>\n",
       "      <td>2</td>\n",
       "      <td>8</td>\n",
       "      <td>1</td>\n",
       "      <td>2</td>\n",
       "      <td>bronze</td>\n",
       "      <td>3</td>\n",
       "      <td>24</td>\n",
       "    </tr>\n",
       "    <tr>\n",
       "      <th>199997</th>\n",
       "      <td>3211.0</td>\n",
       "      <td>0</td>\n",
       "      <td>1</td>\n",
       "      <td>1</td>\n",
       "      <td>0</td>\n",
       "      <td>2</td>\n",
       "      <td>gold</td>\n",
       "      <td>4</td>\n",
       "      <td>24</td>\n",
       "    </tr>\n",
       "    <tr>\n",
       "      <th>199998</th>\n",
       "      <td>91.0</td>\n",
       "      <td>0</td>\n",
       "      <td>0</td>\n",
       "      <td>1</td>\n",
       "      <td>0</td>\n",
       "      <td>5</td>\n",
       "      <td>bronze</td>\n",
       "      <td>1</td>\n",
       "      <td>24</td>\n",
       "    </tr>\n",
       "  </tbody>\n",
       "</table>\n",
       "<p>199999 rows × 9 columns</p>\n",
       "</div>"
      ]
     },
     "metadata": {},
     "execution_count": 95
    }
   ],
   "metadata": {}
  },
  {
   "cell_type": "code",
   "execution_count": 96,
   "source": [
    "stack_features.columns"
   ],
   "outputs": [
    {
     "output_type": "execute_result",
     "data": {
      "text/plain": [
       "Index(['user_reputation_score', 'votes', 'answer', 'views', 'accepted_answer',\n",
       "       'user_badge_number', 'user_badge_type', 'tags_count', 'days_in_queue'],\n",
       "      dtype='object')"
      ]
     },
     "metadata": {},
     "execution_count": 96
    }
   ],
   "metadata": {}
  },
  {
   "cell_type": "code",
   "execution_count": 97,
   "source": [
    "categorical = ['user_badge_type']\n",
    "numerical = ['user_reputation_score', 'votes', 'answer', 'views', 'accepted_answer','user_badge_number',  'tags_count', 'days_in_queue']"
   ],
   "outputs": [],
   "metadata": {}
  },
  {
   "cell_type": "code",
   "execution_count": 98,
   "source": [
    "\n",
    "\n",
    "for col in categorical:\n",
    "    stack_features[col] = stack_features[col].replace(r'^\\s*$', 'NaN', regex=True)\n",
    "    \n",
    "for col in numerical:\n",
    "    stack_features[col] = stack_features[col].fillna(0)\n"
   ],
   "outputs": [
    {
     "output_type": "stream",
     "name": "stderr",
     "text": [
      "/home/oyindolapo/Documents/PythonProjects/stackoverflow/vstack/lib/python3.8/site-packages/pandas/core/frame.py:3607: SettingWithCopyWarning:\n",
      "\n",
      "\n",
      "A value is trying to be set on a copy of a slice from a DataFrame.\n",
      "Try using .loc[row_indexer,col_indexer] = value instead\n",
      "\n",
      "See the caveats in the documentation: https://pandas.pydata.org/pandas-docs/stable/user_guide/indexing.html#returning-a-view-versus-a-copy\n",
      "\n"
     ]
    }
   ],
   "metadata": {}
  },
  {
   "cell_type": "code",
   "execution_count": 99,
   "source": [
    "def labelEncode(feature):\n",
    "    lbl = LabelEncoder()\n",
    "    lbl.fit(feature)\n",
    "    model_filename = 'api/model/labelencoding.pkl'\n",
    "    with open(model_filename, 'wb') as f:\n",
    "        pickle.dump(lbl, f)\n",
    "\n",
    "def oneHotEncodeLabel(feature):\n",
    "    ohe = OneHotEncoder(handle_unknown='ignore')\n",
    "    ohe.fit(feature)\n",
    "    model_filename = 'api/model/onehotencoding.pkl'\n",
    "    with open(model_filename, 'wb') as f:\n",
    "        pickle.dump(ohe, f)"
   ],
   "outputs": [],
   "metadata": {}
  },
  {
   "cell_type": "code",
   "execution_count": 100,
   "source": [
    "labelEncode(feature = stack_features['user_badge_type'])"
   ],
   "outputs": [],
   "metadata": {}
  },
  {
   "cell_type": "code",
   "execution_count": 101,
   "source": [
    "lb_name = 'model/labelencoding.pkl'\n",
    "model = open(lb_name, 'rb')\n",
    "lb_encode = pickle.load(model)"
   ],
   "outputs": [],
   "metadata": {}
  },
  {
   "cell_type": "code",
   "execution_count": 102,
   "source": [
    "stack_features['encoded_user_badge'] = lb_encode.transform(stack_features['user_badge_type'])"
   ],
   "outputs": [],
   "metadata": {}
  },
  {
   "cell_type": "code",
   "execution_count": 103,
   "source": [
    "oneHotEncodeLabel(stack_features[['encoded_user_badge']])\n",
    "\n",
    "#enc_df = pd.DataFrame(enc.fit_transform(bridge_df[['Bridge_Types_Cat']]).toarray())"
   ],
   "outputs": [],
   "metadata": {}
  },
  {
   "cell_type": "code",
   "execution_count": 104,
   "source": [
    "\n",
    "\n",
    "\n",
    "lb_name = 'api/model/onehotencoding.pkl'\n",
    "model = open(lb_name, 'rb')\n",
    "ohe_encode = pickle.load(model)"
   ],
   "outputs": [],
   "metadata": {}
  },
  {
   "cell_type": "code",
   "execution_count": 105,
   "source": [
    "lb_encode.classes_"
   ],
   "outputs": [
    {
     "output_type": "execute_result",
     "data": {
      "text/plain": [
       "array(['bronze', 'gold', 'silver', nan], dtype=object)"
      ]
     },
     "metadata": {},
     "execution_count": 105
    }
   ],
   "metadata": {}
  },
  {
   "cell_type": "code",
   "execution_count": 106,
   "source": [
    "encoded_badge = ohe_encode.transform(stack_features[['encoded_user_badge']]).toarray()\n",
    "\n",
    "encoded_badge = pd.DataFrame(encoded_badge)"
   ],
   "outputs": [],
   "metadata": {}
  },
  {
   "cell_type": "code",
   "execution_count": 107,
   "source": [
    "stack_features = pd.merge(stack_features, encoded_badge, left_index=True, right_index=True)"
   ],
   "outputs": [],
   "metadata": {}
  },
  {
   "cell_type": "code",
   "execution_count": 108,
   "source": [
    "dt_feature = stack_features.copy().drop(columns=['user_badge_type', 'tags_count', 'encoded_user_badge'])"
   ],
   "outputs": [],
   "metadata": {}
  },
  {
   "cell_type": "code",
   "execution_count": 109,
   "source": [
    "feature_y = stack_features['tags_count']"
   ],
   "outputs": [],
   "metadata": {}
  },
  {
   "cell_type": "code",
   "execution_count": 110,
   "source": [
    "column_name = ['user_reputation_score', 'votes','answer', 'views','accepted_answer',  'user_badge_number','days_in_queue', 'User Badge bronze','User Badge gold','User Badge silver', 'No User Badge']\n"
   ],
   "outputs": [],
   "metadata": {}
  },
  {
   "cell_type": "code",
   "execution_count": 111,
   "source": [
    "dt_feature"
   ],
   "outputs": [
    {
     "output_type": "execute_result",
     "data": {
      "text/plain": [
       "        user_reputation_score  votes  answer  views  accepted_answer  \\\n",
       "0                        11.0      0       0      2                0   \n",
       "1                     63500.0      0       2      1                1   \n",
       "2                       119.0      0       0      2                0   \n",
       "3                       751.0      1       1      1                0   \n",
       "4                       252.0      0       1      2                0   \n",
       "...                       ...    ...     ...    ...              ...   \n",
       "199994               214000.0      3       3      4                1   \n",
       "199995                  129.0      0       0      1                0   \n",
       "199996                   41.0      1       2      8                1   \n",
       "199997                 3211.0      0       1      1                0   \n",
       "199998                   91.0      0       0      1                0   \n",
       "\n",
       "       user_badge_number  days_in_queue    0    1    2    3  \n",
       "0                      2              1  1.0  0.0  0.0  0.0  \n",
       "1                      1              1  0.0  1.0  0.0  0.0  \n",
       "2                      6              1  1.0  0.0  0.0  0.0  \n",
       "3                      3              1  0.0  0.0  1.0  0.0  \n",
       "4                      1              1  0.0  1.0  0.0  0.0  \n",
       "...                  ...            ...  ...  ...  ...  ...  \n",
       "199994                 1             24  0.0  1.0  0.0  0.0  \n",
       "199995                 1             24  0.0  0.0  1.0  0.0  \n",
       "199996                 2             24  1.0  0.0  0.0  0.0  \n",
       "199997                 2             24  0.0  1.0  0.0  0.0  \n",
       "199998                 5             24  1.0  0.0  0.0  0.0  \n",
       "\n",
       "[199999 rows x 11 columns]"
      ],
      "text/html": [
       "<div>\n",
       "<style scoped>\n",
       "    .dataframe tbody tr th:only-of-type {\n",
       "        vertical-align: middle;\n",
       "    }\n",
       "\n",
       "    .dataframe tbody tr th {\n",
       "        vertical-align: top;\n",
       "    }\n",
       "\n",
       "    .dataframe thead th {\n",
       "        text-align: right;\n",
       "    }\n",
       "</style>\n",
       "<table border=\"1\" class=\"dataframe\">\n",
       "  <thead>\n",
       "    <tr style=\"text-align: right;\">\n",
       "      <th></th>\n",
       "      <th>user_reputation_score</th>\n",
       "      <th>votes</th>\n",
       "      <th>answer</th>\n",
       "      <th>views</th>\n",
       "      <th>accepted_answer</th>\n",
       "      <th>user_badge_number</th>\n",
       "      <th>days_in_queue</th>\n",
       "      <th>0</th>\n",
       "      <th>1</th>\n",
       "      <th>2</th>\n",
       "      <th>3</th>\n",
       "    </tr>\n",
       "  </thead>\n",
       "  <tbody>\n",
       "    <tr>\n",
       "      <th>0</th>\n",
       "      <td>11.0</td>\n",
       "      <td>0</td>\n",
       "      <td>0</td>\n",
       "      <td>2</td>\n",
       "      <td>0</td>\n",
       "      <td>2</td>\n",
       "      <td>1</td>\n",
       "      <td>1.0</td>\n",
       "      <td>0.0</td>\n",
       "      <td>0.0</td>\n",
       "      <td>0.0</td>\n",
       "    </tr>\n",
       "    <tr>\n",
       "      <th>1</th>\n",
       "      <td>63500.0</td>\n",
       "      <td>0</td>\n",
       "      <td>2</td>\n",
       "      <td>1</td>\n",
       "      <td>1</td>\n",
       "      <td>1</td>\n",
       "      <td>1</td>\n",
       "      <td>0.0</td>\n",
       "      <td>1.0</td>\n",
       "      <td>0.0</td>\n",
       "      <td>0.0</td>\n",
       "    </tr>\n",
       "    <tr>\n",
       "      <th>2</th>\n",
       "      <td>119.0</td>\n",
       "      <td>0</td>\n",
       "      <td>0</td>\n",
       "      <td>2</td>\n",
       "      <td>0</td>\n",
       "      <td>6</td>\n",
       "      <td>1</td>\n",
       "      <td>1.0</td>\n",
       "      <td>0.0</td>\n",
       "      <td>0.0</td>\n",
       "      <td>0.0</td>\n",
       "    </tr>\n",
       "    <tr>\n",
       "      <th>3</th>\n",
       "      <td>751.0</td>\n",
       "      <td>1</td>\n",
       "      <td>1</td>\n",
       "      <td>1</td>\n",
       "      <td>0</td>\n",
       "      <td>3</td>\n",
       "      <td>1</td>\n",
       "      <td>0.0</td>\n",
       "      <td>0.0</td>\n",
       "      <td>1.0</td>\n",
       "      <td>0.0</td>\n",
       "    </tr>\n",
       "    <tr>\n",
       "      <th>4</th>\n",
       "      <td>252.0</td>\n",
       "      <td>0</td>\n",
       "      <td>1</td>\n",
       "      <td>2</td>\n",
       "      <td>0</td>\n",
       "      <td>1</td>\n",
       "      <td>1</td>\n",
       "      <td>0.0</td>\n",
       "      <td>1.0</td>\n",
       "      <td>0.0</td>\n",
       "      <td>0.0</td>\n",
       "    </tr>\n",
       "    <tr>\n",
       "      <th>...</th>\n",
       "      <td>...</td>\n",
       "      <td>...</td>\n",
       "      <td>...</td>\n",
       "      <td>...</td>\n",
       "      <td>...</td>\n",
       "      <td>...</td>\n",
       "      <td>...</td>\n",
       "      <td>...</td>\n",
       "      <td>...</td>\n",
       "      <td>...</td>\n",
       "      <td>...</td>\n",
       "    </tr>\n",
       "    <tr>\n",
       "      <th>199994</th>\n",
       "      <td>214000.0</td>\n",
       "      <td>3</td>\n",
       "      <td>3</td>\n",
       "      <td>4</td>\n",
       "      <td>1</td>\n",
       "      <td>1</td>\n",
       "      <td>24</td>\n",
       "      <td>0.0</td>\n",
       "      <td>1.0</td>\n",
       "      <td>0.0</td>\n",
       "      <td>0.0</td>\n",
       "    </tr>\n",
       "    <tr>\n",
       "      <th>199995</th>\n",
       "      <td>129.0</td>\n",
       "      <td>0</td>\n",
       "      <td>0</td>\n",
       "      <td>1</td>\n",
       "      <td>0</td>\n",
       "      <td>1</td>\n",
       "      <td>24</td>\n",
       "      <td>0.0</td>\n",
       "      <td>0.0</td>\n",
       "      <td>1.0</td>\n",
       "      <td>0.0</td>\n",
       "    </tr>\n",
       "    <tr>\n",
       "      <th>199996</th>\n",
       "      <td>41.0</td>\n",
       "      <td>1</td>\n",
       "      <td>2</td>\n",
       "      <td>8</td>\n",
       "      <td>1</td>\n",
       "      <td>2</td>\n",
       "      <td>24</td>\n",
       "      <td>1.0</td>\n",
       "      <td>0.0</td>\n",
       "      <td>0.0</td>\n",
       "      <td>0.0</td>\n",
       "    </tr>\n",
       "    <tr>\n",
       "      <th>199997</th>\n",
       "      <td>3211.0</td>\n",
       "      <td>0</td>\n",
       "      <td>1</td>\n",
       "      <td>1</td>\n",
       "      <td>0</td>\n",
       "      <td>2</td>\n",
       "      <td>24</td>\n",
       "      <td>0.0</td>\n",
       "      <td>1.0</td>\n",
       "      <td>0.0</td>\n",
       "      <td>0.0</td>\n",
       "    </tr>\n",
       "    <tr>\n",
       "      <th>199998</th>\n",
       "      <td>91.0</td>\n",
       "      <td>0</td>\n",
       "      <td>0</td>\n",
       "      <td>1</td>\n",
       "      <td>0</td>\n",
       "      <td>5</td>\n",
       "      <td>24</td>\n",
       "      <td>1.0</td>\n",
       "      <td>0.0</td>\n",
       "      <td>0.0</td>\n",
       "      <td>0.0</td>\n",
       "    </tr>\n",
       "  </tbody>\n",
       "</table>\n",
       "<p>199999 rows × 11 columns</p>\n",
       "</div>"
      ]
     },
     "metadata": {},
     "execution_count": 111
    }
   ],
   "metadata": {}
  },
  {
   "cell_type": "code",
   "execution_count": 112,
   "source": [
    "dt_model = DecisionTreeClassifier( max_depth=5, min_samples_leaf=100, random_state=0)\n",
    "dt_model.fit(dt_feature, feature_y)\n",
    "\n",
    "model_filename = 'api/model/decisiontree.pkl'\n",
    "with open(model_filename, 'wb') as f:\n",
    "    pickle.dump(dt_model, f)\n"
   ],
   "outputs": [],
   "metadata": {}
  },
  {
   "cell_type": "code",
   "execution_count": 113,
   "source": [
    "dot_data = tree.export_graphviz(dt_model, out_file=None,  feature_names=column_name,  \n",
    "                   class_names='accepted_answer',  \n",
    "   filled=True, rounded=True,  \n",
    "               special_characters=True)  \n",
    "graph = graphviz.Source(dot_data)\n",
    "graph.render('stackoverflow')\n",
    "graph"
   ],
   "outputs": [
    {
     "output_type": "execute_result",
     "data": {
      "text/plain": [
       "<graphviz.files.Source at 0x7f6792912340>"
      ],
      "image/svg+xml": "<?xml version=\"1.0\" encoding=\"UTF-8\" standalone=\"no\"?>\n<!DOCTYPE svg PUBLIC \"-//W3C//DTD SVG 1.1//EN\"\n \"http://www.w3.org/Graphics/SVG/1.1/DTD/svg11.dtd\">\n<!-- Generated by graphviz version 2.43.0 (0)\n -->\n<!-- Title: Tree Pages: 1 -->\n<svg width=\"8697pt\" height=\"671pt\"\n viewBox=\"0.00 0.00 8697.00 671.00\" xmlns=\"http://www.w3.org/2000/svg\" xmlns:xlink=\"http://www.w3.org/1999/xlink\">\n<g id=\"graph0\" class=\"graph\" transform=\"scale(1 1) rotate(0) translate(4 667)\">\n<title>Tree</title>\n<polygon fill=\"white\" stroke=\"transparent\" points=\"-4,4 -4,-667 8693,-667 8693,4 -4,4\"/>\n<!-- 0 -->\n<g id=\"node1\" class=\"node\">\n<title>0</title>\n<path fill=\"#f7fefd\" stroke=\"black\" d=\"M4920,-663C4920,-663 4597,-663 4597,-663 4591,-663 4585,-657 4585,-651 4585,-651 4585,-592 4585,-592 4585,-586 4591,-580 4597,-580 4597,-580 4920,-580 4920,-580 4926,-580 4932,-586 4932,-592 4932,-592 4932,-651 4932,-651 4932,-657 4926,-663 4920,-663\"/>\n<text text-anchor=\"start\" x=\"4715\" y=\"-647.8\" font-family=\"Helvetica,sans-Serif\" font-size=\"14.00\">votes ≤ &#45;0.5</text>\n<text text-anchor=\"start\" x=\"4714.5\" y=\"-632.8\" font-family=\"Helvetica,sans-Serif\" font-size=\"14.00\">gini = 0.783</text>\n<text text-anchor=\"start\" x=\"4692\" y=\"-617.8\" font-family=\"Helvetica,sans-Serif\" font-size=\"14.00\">samples = 199999</text>\n<text text-anchor=\"start\" x=\"4593\" y=\"-602.8\" font-family=\"Helvetica,sans-Serif\" font-size=\"14.00\">value = [22813, 49488, 55350, 40195, 32153]</text>\n<text text-anchor=\"start\" x=\"4726.5\" y=\"-587.8\" font-family=\"Helvetica,sans-Serif\" font-size=\"14.00\">class = c</text>\n</g>\n<!-- 1 -->\n<g id=\"node2\" class=\"node\">\n<title>1</title>\n<path fill=\"#fbfefa\" stroke=\"black\" d=\"M3325.5,-544C3325.5,-544 3047.5,-544 3047.5,-544 3041.5,-544 3035.5,-538 3035.5,-532 3035.5,-532 3035.5,-473 3035.5,-473 3035.5,-467 3041.5,-461 3047.5,-461 3047.5,-461 3325.5,-461 3325.5,-461 3331.5,-461 3337.5,-467 3337.5,-473 3337.5,-473 3337.5,-532 3337.5,-532 3337.5,-538 3331.5,-544 3325.5,-544\"/>\n<text text-anchor=\"start\" x=\"3143\" y=\"-528.8\" font-family=\"Helvetica,sans-Serif\" font-size=\"14.00\">votes ≤ &#45;1.5</text>\n<text text-anchor=\"start\" x=\"3142.5\" y=\"-513.8\" font-family=\"Helvetica,sans-Serif\" font-size=\"14.00\">gini = 0.783</text>\n<text text-anchor=\"start\" x=\"3124.5\" y=\"-498.8\" font-family=\"Helvetica,sans-Serif\" font-size=\"14.00\">samples = 23404</text>\n<text text-anchor=\"start\" x=\"3043.5\" y=\"-483.8\" font-family=\"Helvetica,sans-Serif\" font-size=\"14.00\">value = [3793, 6518, 6052, 4006, 3035]</text>\n<text text-anchor=\"start\" x=\"3154.5\" y=\"-468.8\" font-family=\"Helvetica,sans-Serif\" font-size=\"14.00\">class = c</text>\n</g>\n<!-- 0&#45;&gt;1 -->\n<g id=\"edge1\" class=\"edge\">\n<title>0&#45;&gt;1</title>\n<path fill=\"none\" stroke=\"black\" d=\"M4584.64,-607.56C4277.93,-584.73 3645.15,-537.64 3347.69,-515.5\"/>\n<polygon fill=\"black\" stroke=\"black\" points=\"3347.92,-512 3337.69,-514.75 3347.4,-518.99 3347.92,-512\"/>\n<text text-anchor=\"middle\" x=\"3354\" y=\"-529.99\" font-family=\"Helvetica,sans-Serif\" font-size=\"14.00\">True</text>\n</g>\n<!-- 32 -->\n<g id=\"node33\" class=\"node\">\n<title>32</title>\n<path fill=\"#f6fefc\" stroke=\"black\" d=\"M5441,-544C5441,-544 5118,-544 5118,-544 5112,-544 5106,-538 5106,-532 5106,-532 5106,-473 5106,-473 5106,-467 5112,-461 5118,-461 5118,-461 5441,-461 5441,-461 5447,-461 5453,-467 5453,-473 5453,-473 5453,-532 5453,-532 5453,-538 5447,-544 5441,-544\"/>\n<text text-anchor=\"start\" x=\"5172.5\" y=\"-528.8\" font-family=\"Helvetica,sans-Serif\" font-size=\"14.00\">user_reputation_score ≤ 364.5</text>\n<text text-anchor=\"start\" x=\"5235.5\" y=\"-513.8\" font-family=\"Helvetica,sans-Serif\" font-size=\"14.00\">gini = 0.782</text>\n<text text-anchor=\"start\" x=\"5213\" y=\"-498.8\" font-family=\"Helvetica,sans-Serif\" font-size=\"14.00\">samples = 176595</text>\n<text text-anchor=\"start\" x=\"5114\" y=\"-483.8\" font-family=\"Helvetica,sans-Serif\" font-size=\"14.00\">value = [19020, 42970, 49298, 36189, 29118]</text>\n<text text-anchor=\"start\" x=\"5247.5\" y=\"-468.8\" font-family=\"Helvetica,sans-Serif\" font-size=\"14.00\">class = c</text>\n</g>\n<!-- 0&#45;&gt;32 -->\n<g id=\"edge32\" class=\"edge\">\n<title>0&#45;&gt;32</title>\n<path fill=\"none\" stroke=\"black\" d=\"M4932.35,-581.46C4984.86,-569.67 5042.67,-556.68 5095.8,-544.75\"/>\n<polygon fill=\"black\" stroke=\"black\" points=\"5096.68,-548.14 5105.67,-542.54 5095.15,-541.31 5096.68,-548.14\"/>\n<text text-anchor=\"middle\" x=\"5092.29\" y=\"-559.96\" font-family=\"Helvetica,sans-Serif\" font-size=\"14.00\">False</text>\n</g>\n<!-- 2 -->\n<g id=\"node3\" class=\"node\">\n<title>2</title>\n<path fill=\"#f7fef4\" stroke=\"black\" d=\"M1684.5,-425C1684.5,-425 1406.5,-425 1406.5,-425 1400.5,-425 1394.5,-419 1394.5,-413 1394.5,-413 1394.5,-354 1394.5,-354 1394.5,-348 1400.5,-342 1406.5,-342 1406.5,-342 1684.5,-342 1684.5,-342 1690.5,-342 1696.5,-348 1696.5,-354 1696.5,-354 1696.5,-413 1696.5,-413 1696.5,-419 1690.5,-425 1684.5,-425\"/>\n<text text-anchor=\"start\" x=\"1438.5\" y=\"-409.8\" font-family=\"Helvetica,sans-Serif\" font-size=\"14.00\">user_reputation_score ≤ 123.5</text>\n<text text-anchor=\"start\" x=\"1501.5\" y=\"-394.8\" font-family=\"Helvetica,sans-Serif\" font-size=\"14.00\">gini = 0.781</text>\n<text text-anchor=\"start\" x=\"1488\" y=\"-379.8\" font-family=\"Helvetica,sans-Serif\" font-size=\"14.00\">samples = 8535</text>\n<text text-anchor=\"start\" x=\"1402.5\" y=\"-364.8\" font-family=\"Helvetica,sans-Serif\" font-size=\"14.00\">value = [1698, 2459, 2090, 1285, 1003]</text>\n<text text-anchor=\"start\" x=\"1513.5\" y=\"-349.8\" font-family=\"Helvetica,sans-Serif\" font-size=\"14.00\">class = c</text>\n</g>\n<!-- 1&#45;&gt;2 -->\n<g id=\"edge2\" class=\"edge\">\n<title>1&#45;&gt;2</title>\n<path fill=\"none\" stroke=\"black\" d=\"M3035.43,-490.73C2726.38,-468.69 2024.42,-418.65 1706.87,-396.01\"/>\n<polygon fill=\"black\" stroke=\"black\" points=\"1706.88,-392.5 1696.66,-395.28 1706.38,-399.48 1706.88,-392.5\"/>\n</g>\n<!-- 17 -->\n<g id=\"node18\" class=\"node\">\n<title>17</title>\n<path fill=\"#fefffd\" stroke=\"black\" d=\"M3325.5,-425C3325.5,-425 3047.5,-425 3047.5,-425 3041.5,-425 3035.5,-419 3035.5,-413 3035.5,-413 3035.5,-354 3035.5,-354 3035.5,-348 3041.5,-342 3047.5,-342 3047.5,-342 3325.5,-342 3325.5,-342 3331.5,-342 3337.5,-348 3337.5,-354 3337.5,-354 3337.5,-413 3337.5,-413 3337.5,-419 3331.5,-425 3325.5,-425\"/>\n<text text-anchor=\"start\" x=\"3093\" y=\"-409.8\" font-family=\"Helvetica,sans-Serif\" font-size=\"14.00\">user_badge_number ≤ 0.5</text>\n<text text-anchor=\"start\" x=\"3142.5\" y=\"-394.8\" font-family=\"Helvetica,sans-Serif\" font-size=\"14.00\">gini = 0.782</text>\n<text text-anchor=\"start\" x=\"3124.5\" y=\"-379.8\" font-family=\"Helvetica,sans-Serif\" font-size=\"14.00\">samples = 14869</text>\n<text text-anchor=\"start\" x=\"3043.5\" y=\"-364.8\" font-family=\"Helvetica,sans-Serif\" font-size=\"14.00\">value = [2095, 4059, 3962, 2721, 2032]</text>\n<text text-anchor=\"start\" x=\"3154.5\" y=\"-349.8\" font-family=\"Helvetica,sans-Serif\" font-size=\"14.00\">class = c</text>\n</g>\n<!-- 1&#45;&gt;17 -->\n<g id=\"edge17\" class=\"edge\">\n<title>1&#45;&gt;17</title>\n<path fill=\"none\" stroke=\"black\" d=\"M3186.5,-460.91C3186.5,-452.65 3186.5,-443.86 3186.5,-435.3\"/>\n<polygon fill=\"black\" stroke=\"black\" points=\"3190,-435.02 3186.5,-425.02 3183,-435.02 3190,-435.02\"/>\n</g>\n<!-- 3 -->\n<g id=\"node4\" class=\"node\">\n<title>3</title>\n<path fill=\"#fcfffb\" stroke=\"black\" d=\"M919,-306C919,-306 668,-306 668,-306 662,-306 656,-300 656,-294 656,-294 656,-235 656,-235 656,-229 662,-223 668,-223 668,-223 919,-223 919,-223 925,-223 931,-229 931,-235 931,-235 931,-294 931,-294 931,-300 925,-306 919,-306\"/>\n<text text-anchor=\"start\" x=\"700\" y=\"-290.8\" font-family=\"Helvetica,sans-Serif\" font-size=\"14.00\">user_badge_number ≤ 2.5</text>\n<text text-anchor=\"start\" x=\"749.5\" y=\"-275.8\" font-family=\"Helvetica,sans-Serif\" font-size=\"14.00\">gini = 0.788</text>\n<text text-anchor=\"start\" x=\"736\" y=\"-260.8\" font-family=\"Helvetica,sans-Serif\" font-size=\"14.00\">samples = 4238</text>\n<text text-anchor=\"start\" x=\"664\" y=\"-245.8\" font-family=\"Helvetica,sans-Serif\" font-size=\"14.00\">value = [863, 1102, 1041, 653, 579]</text>\n<text text-anchor=\"start\" x=\"761.5\" y=\"-230.8\" font-family=\"Helvetica,sans-Serif\" font-size=\"14.00\">class = c</text>\n</g>\n<!-- 2&#45;&gt;3 -->\n<g id=\"edge3\" class=\"edge\">\n<title>2&#45;&gt;3</title>\n<path fill=\"none\" stroke=\"black\" d=\"M1394.23,-358.96C1262.34,-338.45 1072.2,-308.86 941.34,-288.5\"/>\n<polygon fill=\"black\" stroke=\"black\" points=\"941.66,-285.01 931.24,-286.93 940.58,-291.93 941.66,-285.01\"/>\n</g>\n<!-- 10 -->\n<g id=\"node11\" class=\"node\">\n<title>10</title>\n<path fill=\"#f2fdec\" stroke=\"black\" d=\"M1671,-306C1671,-306 1420,-306 1420,-306 1414,-306 1408,-300 1408,-294 1408,-294 1408,-235 1408,-235 1408,-229 1414,-223 1420,-223 1420,-223 1671,-223 1671,-223 1677,-223 1683,-229 1683,-235 1683,-235 1683,-294 1683,-294 1683,-300 1677,-306 1671,-306\"/>\n<text text-anchor=\"start\" x=\"1502\" y=\"-290.8\" font-family=\"Helvetica,sans-Serif\" font-size=\"14.00\">votes ≤ &#45;3.5</text>\n<text text-anchor=\"start\" x=\"1501.5\" y=\"-275.8\" font-family=\"Helvetica,sans-Serif\" font-size=\"14.00\">gini = 0.772</text>\n<text text-anchor=\"start\" x=\"1488\" y=\"-260.8\" font-family=\"Helvetica,sans-Serif\" font-size=\"14.00\">samples = 4297</text>\n<text text-anchor=\"start\" x=\"1416\" y=\"-245.8\" font-family=\"Helvetica,sans-Serif\" font-size=\"14.00\">value = [835, 1357, 1049, 632, 424]</text>\n<text text-anchor=\"start\" x=\"1513.5\" y=\"-230.8\" font-family=\"Helvetica,sans-Serif\" font-size=\"14.00\">class = c</text>\n</g>\n<!-- 2&#45;&gt;10 -->\n<g id=\"edge10\" class=\"edge\">\n<title>2&#45;&gt;10</title>\n<path fill=\"none\" stroke=\"black\" d=\"M1545.5,-341.91C1545.5,-333.65 1545.5,-324.86 1545.5,-316.3\"/>\n<polygon fill=\"black\" stroke=\"black\" points=\"1549,-316.02 1545.5,-306.02 1542,-316.02 1549,-316.02\"/>\n</g>\n<!-- 4 -->\n<g id=\"node5\" class=\"node\">\n<title>4</title>\n<path fill=\"#fafef8\" stroke=\"black\" d=\"M520,-187C520,-187 287,-187 287,-187 281,-187 275,-181 275,-175 275,-175 275,-116 275,-116 275,-110 281,-104 287,-104 287,-104 520,-104 520,-104 526,-104 532,-110 532,-116 532,-116 532,-175 532,-175 532,-181 526,-187 520,-187\"/>\n<text text-anchor=\"start\" x=\"329.5\" y=\"-171.8\" font-family=\"Helvetica,sans-Serif\" font-size=\"14.00\">No User Badge ≤ 0.5</text>\n<text text-anchor=\"start\" x=\"359.5\" y=\"-156.8\" font-family=\"Helvetica,sans-Serif\" font-size=\"14.00\">gini = 0.789</text>\n<text text-anchor=\"start\" x=\"346\" y=\"-141.8\" font-family=\"Helvetica,sans-Serif\" font-size=\"14.00\">samples = 2963</text>\n<text text-anchor=\"start\" x=\"283\" y=\"-126.8\" font-family=\"Helvetica,sans-Serif\" font-size=\"14.00\">value = [675, 759, 680, 453, 396]</text>\n<text text-anchor=\"start\" x=\"371.5\" y=\"-111.8\" font-family=\"Helvetica,sans-Serif\" font-size=\"14.00\">class = c</text>\n</g>\n<!-- 3&#45;&gt;4 -->\n<g id=\"edge4\" class=\"edge\">\n<title>3&#45;&gt;4</title>\n<path fill=\"none\" stroke=\"black\" d=\"M658.46,-222.99C620.89,-211.72 580.02,-199.46 542.23,-188.12\"/>\n<polygon fill=\"black\" stroke=\"black\" points=\"542.76,-184.62 532.18,-185.1 540.75,-191.33 542.76,-184.62\"/>\n</g>\n<!-- 7 -->\n<g id=\"node8\" class=\"node\">\n<title>7</title>\n<path fill=\"#fbfefe\" stroke=\"black\" d=\"M910,-187C910,-187 677,-187 677,-187 671,-187 665,-181 665,-175 665,-175 665,-116 665,-116 665,-110 671,-104 677,-104 677,-104 910,-104 910,-104 916,-104 922,-110 922,-116 922,-116 922,-175 922,-175 922,-181 916,-187 910,-187\"/>\n<text text-anchor=\"start\" x=\"750\" y=\"-171.8\" font-family=\"Helvetica,sans-Serif\" font-size=\"14.00\">votes ≤ &#45;3.5</text>\n<text text-anchor=\"start\" x=\"749.5\" y=\"-156.8\" font-family=\"Helvetica,sans-Serif\" font-size=\"14.00\">gini = 0.781</text>\n<text text-anchor=\"start\" x=\"736\" y=\"-141.8\" font-family=\"Helvetica,sans-Serif\" font-size=\"14.00\">samples = 1275</text>\n<text text-anchor=\"start\" x=\"673\" y=\"-126.8\" font-family=\"Helvetica,sans-Serif\" font-size=\"14.00\">value = [188, 343, 361, 200, 183]</text>\n<text text-anchor=\"start\" x=\"761.5\" y=\"-111.8\" font-family=\"Helvetica,sans-Serif\" font-size=\"14.00\">class = c</text>\n</g>\n<!-- 3&#45;&gt;7 -->\n<g id=\"edge7\" class=\"edge\">\n<title>3&#45;&gt;7</title>\n<path fill=\"none\" stroke=\"black\" d=\"M793.5,-222.91C793.5,-214.65 793.5,-205.86 793.5,-197.3\"/>\n<polygon fill=\"black\" stroke=\"black\" points=\"797,-197.02 793.5,-187.02 790,-197.02 797,-197.02\"/>\n</g>\n<!-- 5 -->\n<g id=\"node6\" class=\"node\">\n<title>5</title>\n<path fill=\"#fbfefa\" stroke=\"black\" d=\"M245,-68C245,-68 12,-68 12,-68 6,-68 0,-62 0,-56 0,-56 0,-12 0,-12 0,-6 6,0 12,0 12,0 245,0 245,0 251,0 257,-6 257,-12 257,-12 257,-56 257,-56 257,-62 251,-68 245,-68\"/>\n<text text-anchor=\"start\" x=\"84.5\" y=\"-52.8\" font-family=\"Helvetica,sans-Serif\" font-size=\"14.00\">gini = 0.791</text>\n<text text-anchor=\"start\" x=\"71\" y=\"-37.8\" font-family=\"Helvetica,sans-Serif\" font-size=\"14.00\">samples = 1774</text>\n<text text-anchor=\"start\" x=\"8\" y=\"-22.8\" font-family=\"Helvetica,sans-Serif\" font-size=\"14.00\">value = [364, 452, 415, 286, 257]</text>\n<text text-anchor=\"start\" x=\"96.5\" y=\"-7.8\" font-family=\"Helvetica,sans-Serif\" font-size=\"14.00\">class = c</text>\n</g>\n<!-- 4&#45;&gt;5 -->\n<g id=\"edge5\" class=\"edge\">\n<title>4&#45;&gt;5</title>\n<path fill=\"none\" stroke=\"black\" d=\"M301.49,-103.88C275.08,-93.37 246.79,-82.1 220.91,-71.79\"/>\n<polygon fill=\"black\" stroke=\"black\" points=\"222.07,-68.49 211.49,-68.04 219.48,-74.99 222.07,-68.49\"/>\n</g>\n<!-- 6 -->\n<g id=\"node7\" class=\"node\">\n<title>6</title>\n<path fill=\"#fffefe\" stroke=\"black\" d=\"M520,-68C520,-68 287,-68 287,-68 281,-68 275,-62 275,-56 275,-56 275,-12 275,-12 275,-6 281,0 287,0 287,0 520,0 520,0 526,0 532,-6 532,-12 532,-12 532,-56 532,-56 532,-62 526,-68 520,-68\"/>\n<text text-anchor=\"start\" x=\"359.5\" y=\"-52.8\" font-family=\"Helvetica,sans-Serif\" font-size=\"14.00\">gini = 0.782</text>\n<text text-anchor=\"start\" x=\"346\" y=\"-37.8\" font-family=\"Helvetica,sans-Serif\" font-size=\"14.00\">samples = 1189</text>\n<text text-anchor=\"start\" x=\"283\" y=\"-22.8\" font-family=\"Helvetica,sans-Serif\" font-size=\"14.00\">value = [311, 307, 265, 167, 139]</text>\n<text text-anchor=\"start\" x=\"371.5\" y=\"-7.8\" font-family=\"Helvetica,sans-Serif\" font-size=\"14.00\">class = a</text>\n</g>\n<!-- 4&#45;&gt;6 -->\n<g id=\"edge6\" class=\"edge\">\n<title>4&#45;&gt;6</title>\n<path fill=\"none\" stroke=\"black\" d=\"M403.5,-103.73C403.5,-95.52 403.5,-86.86 403.5,-78.56\"/>\n<polygon fill=\"black\" stroke=\"black\" points=\"407,-78.3 403.5,-68.3 400,-78.3 407,-78.3\"/>\n</g>\n<!-- 8 -->\n<g id=\"node9\" class=\"node\">\n<title>8</title>\n<path fill=\"#f4fdef\" stroke=\"black\" d=\"M750.5,-68C750.5,-68 562.5,-68 562.5,-68 556.5,-68 550.5,-62 550.5,-56 550.5,-56 550.5,-12 550.5,-12 550.5,-6 556.5,0 562.5,0 562.5,0 750.5,0 750.5,0 756.5,0 762.5,-6 762.5,-12 762.5,-12 762.5,-56 762.5,-56 762.5,-62 756.5,-68 750.5,-68\"/>\n<text text-anchor=\"start\" x=\"617\" y=\"-52.8\" font-family=\"Helvetica,sans-Serif\" font-size=\"14.00\">gini = 0.79</text>\n<text text-anchor=\"start\" x=\"603.5\" y=\"-37.8\" font-family=\"Helvetica,sans-Serif\" font-size=\"14.00\">samples = 169</text>\n<text text-anchor=\"start\" x=\"558.5\" y=\"-22.8\" font-family=\"Helvetica,sans-Serif\" font-size=\"14.00\">value = [30, 46, 35, 35, 23]</text>\n<text text-anchor=\"start\" x=\"624.5\" y=\"-7.8\" font-family=\"Helvetica,sans-Serif\" font-size=\"14.00\">class = c</text>\n</g>\n<!-- 7&#45;&gt;8 -->\n<g id=\"edge8\" class=\"edge\">\n<title>7&#45;&gt;8</title>\n<path fill=\"none\" stroke=\"black\" d=\"M742.49,-103.73C730.62,-94.24 718,-84.16 706.19,-74.72\"/>\n<polygon fill=\"black\" stroke=\"black\" points=\"708.16,-71.81 698.16,-68.3 703.79,-77.28 708.16,-71.81\"/>\n</g>\n<!-- 9 -->\n<g id=\"node10\" class=\"node\">\n<title>9</title>\n<path fill=\"#f8fefd\" stroke=\"black\" d=\"M1026,-68C1026,-68 793,-68 793,-68 787,-68 781,-62 781,-56 781,-56 781,-12 781,-12 781,-6 787,0 793,0 793,0 1026,0 1026,0 1032,0 1038,-6 1038,-12 1038,-12 1038,-56 1038,-56 1038,-62 1032,-68 1026,-68\"/>\n<text text-anchor=\"start\" x=\"865.5\" y=\"-52.8\" font-family=\"Helvetica,sans-Serif\" font-size=\"14.00\">gini = 0.777</text>\n<text text-anchor=\"start\" x=\"852\" y=\"-37.8\" font-family=\"Helvetica,sans-Serif\" font-size=\"14.00\">samples = 1106</text>\n<text text-anchor=\"start\" x=\"789\" y=\"-22.8\" font-family=\"Helvetica,sans-Serif\" font-size=\"14.00\">value = [158, 297, 326, 165, 160]</text>\n<text text-anchor=\"start\" x=\"877.5\" y=\"-7.8\" font-family=\"Helvetica,sans-Serif\" font-size=\"14.00\">class = c</text>\n</g>\n<!-- 7&#45;&gt;9 -->\n<g id=\"edge9\" class=\"edge\">\n<title>7&#45;&gt;9</title>\n<path fill=\"none\" stroke=\"black\" d=\"M836.69,-103.73C846.55,-94.42 857.02,-84.54 866.85,-75.26\"/>\n<polygon fill=\"black\" stroke=\"black\" points=\"869.35,-77.71 874.22,-68.3 864.55,-72.62 869.35,-77.71\"/>\n</g>\n<!-- 11 -->\n<g id=\"node12\" class=\"node\">\n<title>11</title>\n<path fill=\"#fafef7\" stroke=\"black\" d=\"M1520.5,-187C1520.5,-187 1296.5,-187 1296.5,-187 1290.5,-187 1284.5,-181 1284.5,-175 1284.5,-175 1284.5,-116 1284.5,-116 1284.5,-110 1290.5,-104 1296.5,-104 1296.5,-104 1520.5,-104 1520.5,-104 1526.5,-104 1532.5,-110 1532.5,-116 1532.5,-116 1532.5,-175 1532.5,-175 1532.5,-181 1526.5,-187 1520.5,-187\"/>\n<text text-anchor=\"start\" x=\"1292.5\" y=\"-171.8\" font-family=\"Helvetica,sans-Serif\" font-size=\"14.00\">user_reputation_score ≤ 40650.0</text>\n<text text-anchor=\"start\" x=\"1364.5\" y=\"-156.8\" font-family=\"Helvetica,sans-Serif\" font-size=\"14.00\">gini = 0.759</text>\n<text text-anchor=\"start\" x=\"1355.5\" y=\"-141.8\" font-family=\"Helvetica,sans-Serif\" font-size=\"14.00\">samples = 600</text>\n<text text-anchor=\"start\" x=\"1297\" y=\"-126.8\" font-family=\"Helvetica,sans-Serif\" font-size=\"14.00\">value = [160, 177, 153, 66, 44]</text>\n<text text-anchor=\"start\" x=\"1376.5\" y=\"-111.8\" font-family=\"Helvetica,sans-Serif\" font-size=\"14.00\">class = c</text>\n</g>\n<!-- 10&#45;&gt;11 -->\n<g id=\"edge11\" class=\"edge\">\n<title>10&#45;&gt;11</title>\n<path fill=\"none\" stroke=\"black\" d=\"M1497.97,-222.91C1486.92,-213.47 1475.06,-203.34 1463.71,-193.65\"/>\n<polygon fill=\"black\" stroke=\"black\" points=\"1465.82,-190.85 1455.95,-187.02 1461.28,-196.18 1465.82,-190.85\"/>\n</g>\n<!-- 14 -->\n<g id=\"node15\" class=\"node\">\n<title>14</title>\n<path fill=\"#f2fceb\" stroke=\"black\" d=\"M1804.5,-187C1804.5,-187 1562.5,-187 1562.5,-187 1556.5,-187 1550.5,-181 1550.5,-175 1550.5,-175 1550.5,-116 1550.5,-116 1550.5,-110 1556.5,-104 1562.5,-104 1562.5,-104 1804.5,-104 1804.5,-104 1810.5,-104 1816.5,-110 1816.5,-116 1816.5,-116 1816.5,-175 1816.5,-175 1816.5,-181 1810.5,-187 1804.5,-187\"/>\n<text text-anchor=\"start\" x=\"1642\" y=\"-171.8\" font-family=\"Helvetica,sans-Serif\" font-size=\"14.00\">views ≤ 3.5</text>\n<text text-anchor=\"start\" x=\"1639.5\" y=\"-156.8\" font-family=\"Helvetica,sans-Serif\" font-size=\"14.00\">gini = 0.772</text>\n<text text-anchor=\"start\" x=\"1626\" y=\"-141.8\" font-family=\"Helvetica,sans-Serif\" font-size=\"14.00\">samples = 3697</text>\n<text text-anchor=\"start\" x=\"1558.5\" y=\"-126.8\" font-family=\"Helvetica,sans-Serif\" font-size=\"14.00\">value = [675, 1180, 896, 566, 380]</text>\n<text text-anchor=\"start\" x=\"1651.5\" y=\"-111.8\" font-family=\"Helvetica,sans-Serif\" font-size=\"14.00\">class = c</text>\n</g>\n<!-- 10&#45;&gt;14 -->\n<g id=\"edge14\" class=\"edge\">\n<title>10&#45;&gt;14</title>\n<path fill=\"none\" stroke=\"black\" d=\"M1593.38,-222.91C1604.51,-213.47 1616.45,-203.34 1627.89,-193.65\"/>\n<polygon fill=\"black\" stroke=\"black\" points=\"1630.34,-196.16 1635.71,-187.02 1625.82,-190.82 1630.34,-196.16\"/>\n</g>\n<!-- 12 -->\n<g id=\"node13\" class=\"node\">\n<title>12</title>\n<path fill=\"#effce7\" stroke=\"black\" d=\"M1283,-68C1283,-68 1068,-68 1068,-68 1062,-68 1056,-62 1056,-56 1056,-56 1056,-12 1056,-12 1056,-6 1062,0 1068,0 1068,0 1283,0 1283,0 1289,0 1295,-6 1295,-12 1295,-12 1295,-56 1295,-56 1295,-62 1289,-68 1283,-68\"/>\n<text text-anchor=\"start\" x=\"1131.5\" y=\"-52.8\" font-family=\"Helvetica,sans-Serif\" font-size=\"14.00\">gini = 0.758</text>\n<text text-anchor=\"start\" x=\"1122.5\" y=\"-37.8\" font-family=\"Helvetica,sans-Serif\" font-size=\"14.00\">samples = 439</text>\n<text text-anchor=\"start\" x=\"1064\" y=\"-22.8\" font-family=\"Helvetica,sans-Serif\" font-size=\"14.00\">value = [106, 146, 102, 51, 34]</text>\n<text text-anchor=\"start\" x=\"1143.5\" y=\"-7.8\" font-family=\"Helvetica,sans-Serif\" font-size=\"14.00\">class = c</text>\n</g>\n<!-- 11&#45;&gt;12 -->\n<g id=\"edge12\" class=\"edge\">\n<title>11&#45;&gt;12</title>\n<path fill=\"none\" stroke=\"black\" d=\"M1322.07,-103.88C1300.09,-93.55 1276.57,-82.5 1254.95,-72.34\"/>\n<polygon fill=\"black\" stroke=\"black\" points=\"1256.35,-69.13 1245.81,-68.04 1253.37,-75.46 1256.35,-69.13\"/>\n</g>\n<!-- 13 -->\n<g id=\"node14\" class=\"node\">\n<title>13</title>\n<path fill=\"#fefcfa\" stroke=\"black\" d=\"M1513.5,-68C1513.5,-68 1325.5,-68 1325.5,-68 1319.5,-68 1313.5,-62 1313.5,-56 1313.5,-56 1313.5,-12 1313.5,-12 1313.5,-6 1319.5,0 1325.5,0 1325.5,0 1513.5,0 1513.5,0 1519.5,0 1525.5,-6 1525.5,-12 1525.5,-12 1525.5,-56 1525.5,-56 1525.5,-62 1519.5,-68 1513.5,-68\"/>\n<text text-anchor=\"start\" x=\"1375.5\" y=\"-52.8\" font-family=\"Helvetica,sans-Serif\" font-size=\"14.00\">gini = 0.738</text>\n<text text-anchor=\"start\" x=\"1366.5\" y=\"-37.8\" font-family=\"Helvetica,sans-Serif\" font-size=\"14.00\">samples = 161</text>\n<text text-anchor=\"start\" x=\"1321.5\" y=\"-22.8\" font-family=\"Helvetica,sans-Serif\" font-size=\"14.00\">value = [54, 31, 51, 15, 10]</text>\n<text text-anchor=\"start\" x=\"1387.5\" y=\"-7.8\" font-family=\"Helvetica,sans-Serif\" font-size=\"14.00\">class = a</text>\n</g>\n<!-- 11&#45;&gt;13 -->\n<g id=\"edge13\" class=\"edge\">\n<title>11&#45;&gt;13</title>\n<path fill=\"none\" stroke=\"black\" d=\"M1412.6,-103.73C1413.43,-95.43 1414.31,-86.67 1415.15,-78.28\"/>\n<polygon fill=\"black\" stroke=\"black\" points=\"1418.64,-78.6 1416.15,-68.3 1411.67,-77.9 1418.64,-78.6\"/>\n</g>\n<!-- 15 -->\n<g id=\"node16\" class=\"node\">\n<title>15</title>\n<path fill=\"#f1fcea\" stroke=\"black\" d=\"M1789,-68C1789,-68 1556,-68 1556,-68 1550,-68 1544,-62 1544,-56 1544,-56 1544,-12 1544,-12 1544,-6 1550,0 1556,0 1556,0 1789,0 1789,0 1795,0 1801,-6 1801,-12 1801,-12 1801,-56 1801,-56 1801,-62 1795,-68 1789,-68\"/>\n<text text-anchor=\"start\" x=\"1628.5\" y=\"-52.8\" font-family=\"Helvetica,sans-Serif\" font-size=\"14.00\">gini = 0.766</text>\n<text text-anchor=\"start\" x=\"1615\" y=\"-37.8\" font-family=\"Helvetica,sans-Serif\" font-size=\"14.00\">samples = 2458</text>\n<text text-anchor=\"start\" x=\"1552\" y=\"-22.8\" font-family=\"Helvetica,sans-Serif\" font-size=\"14.00\">value = [435, 812, 615, 365, 231]</text>\n<text text-anchor=\"start\" x=\"1640.5\" y=\"-7.8\" font-family=\"Helvetica,sans-Serif\" font-size=\"14.00\">class = c</text>\n</g>\n<!-- 14&#45;&gt;15 -->\n<g id=\"edge15\" class=\"edge\">\n<title>14&#45;&gt;15</title>\n<path fill=\"none\" stroke=\"black\" d=\"M1679.4,-103.73C1678.57,-95.43 1677.69,-86.67 1676.85,-78.28\"/>\n<polygon fill=\"black\" stroke=\"black\" points=\"1680.33,-77.9 1675.85,-68.3 1673.36,-78.6 1680.33,-77.9\"/>\n</g>\n<!-- 16 -->\n<g id=\"node17\" class=\"node\">\n<title>16</title>\n<path fill=\"#f3fded\" stroke=\"black\" d=\"M2064,-68C2064,-68 1831,-68 1831,-68 1825,-68 1819,-62 1819,-56 1819,-56 1819,-12 1819,-12 1819,-6 1825,0 1831,0 1831,0 2064,0 2064,0 2070,0 2076,-6 2076,-12 2076,-12 2076,-56 2076,-56 2076,-62 2070,-68 2064,-68\"/>\n<text text-anchor=\"start\" x=\"1903.5\" y=\"-52.8\" font-family=\"Helvetica,sans-Serif\" font-size=\"14.00\">gini = 0.782</text>\n<text text-anchor=\"start\" x=\"1890\" y=\"-37.8\" font-family=\"Helvetica,sans-Serif\" font-size=\"14.00\">samples = 1239</text>\n<text text-anchor=\"start\" x=\"1827\" y=\"-22.8\" font-family=\"Helvetica,sans-Serif\" font-size=\"14.00\">value = [240, 368, 281, 201, 149]</text>\n<text text-anchor=\"start\" x=\"1915.5\" y=\"-7.8\" font-family=\"Helvetica,sans-Serif\" font-size=\"14.00\">class = c</text>\n</g>\n<!-- 14&#45;&gt;16 -->\n<g id=\"edge16\" class=\"edge\">\n<title>14&#45;&gt;16</title>\n<path fill=\"none\" stroke=\"black\" d=\"M1781.43,-103.88C1806.67,-93.41 1833.7,-82.2 1858.46,-71.93\"/>\n<polygon fill=\"black\" stroke=\"black\" points=\"1859.94,-75.11 1867.83,-68.04 1857.26,-68.64 1859.94,-75.11\"/>\n</g>\n<!-- 18 -->\n<g id=\"node19\" class=\"node\">\n<title>18</title>\n<path fill=\"#fefffd\" stroke=\"black\" d=\"M2926,-306C2926,-306 2693,-306 2693,-306 2687,-306 2681,-300 2681,-294 2681,-294 2681,-235 2681,-235 2681,-229 2687,-223 2693,-223 2693,-223 2926,-223 2926,-223 2932,-223 2938,-229 2938,-235 2938,-235 2938,-294 2938,-294 2938,-300 2932,-306 2926,-306\"/>\n<text text-anchor=\"start\" x=\"2736\" y=\"-290.8\" font-family=\"Helvetica,sans-Serif\" font-size=\"14.00\">days_in_queue ≤ 3.5</text>\n<text text-anchor=\"start\" x=\"2765.5\" y=\"-275.8\" font-family=\"Helvetica,sans-Serif\" font-size=\"14.00\">gini = 0.793</text>\n<text text-anchor=\"start\" x=\"2752\" y=\"-260.8\" font-family=\"Helvetica,sans-Serif\" font-size=\"14.00\">samples = 1587</text>\n<text text-anchor=\"start\" x=\"2689\" y=\"-245.8\" font-family=\"Helvetica,sans-Serif\" font-size=\"14.00\">value = [318, 387, 374, 268, 240]</text>\n<text text-anchor=\"start\" x=\"2777.5\" y=\"-230.8\" font-family=\"Helvetica,sans-Serif\" font-size=\"14.00\">class = c</text>\n</g>\n<!-- 17&#45;&gt;18 -->\n<g id=\"edge18\" class=\"edge\">\n<title>17&#45;&gt;18</title>\n<path fill=\"none\" stroke=\"black\" d=\"M3055.97,-341.99C3021.06,-331.16 2983.21,-319.41 2947.9,-308.45\"/>\n<polygon fill=\"black\" stroke=\"black\" points=\"2948.6,-305 2938.01,-305.38 2946.52,-311.69 2948.6,-305\"/>\n</g>\n<!-- 25 -->\n<g id=\"node26\" class=\"node\">\n<title>25</title>\n<path fill=\"#fefffd\" stroke=\"black\" d=\"M3457.5,-306C3457.5,-306 3179.5,-306 3179.5,-306 3173.5,-306 3167.5,-300 3167.5,-294 3167.5,-294 3167.5,-235 3167.5,-235 3167.5,-229 3173.5,-223 3179.5,-223 3179.5,-223 3457.5,-223 3457.5,-223 3463.5,-223 3469.5,-229 3469.5,-235 3469.5,-235 3469.5,-294 3469.5,-294 3469.5,-300 3463.5,-306 3457.5,-306\"/>\n<text text-anchor=\"start\" x=\"3216\" y=\"-290.8\" font-family=\"Helvetica,sans-Serif\" font-size=\"14.00\">user_reputation_score ≤ 99.5</text>\n<text text-anchor=\"start\" x=\"3279\" y=\"-275.8\" font-family=\"Helvetica,sans-Serif\" font-size=\"14.00\">gini = 0.78</text>\n<text text-anchor=\"start\" x=\"3256.5\" y=\"-260.8\" font-family=\"Helvetica,sans-Serif\" font-size=\"14.00\">samples = 13282</text>\n<text text-anchor=\"start\" x=\"3175.5\" y=\"-245.8\" font-family=\"Helvetica,sans-Serif\" font-size=\"14.00\">value = [1777, 3672, 3588, 2453, 1792]</text>\n<text text-anchor=\"start\" x=\"3286.5\" y=\"-230.8\" font-family=\"Helvetica,sans-Serif\" font-size=\"14.00\">class = c</text>\n</g>\n<!-- 17&#45;&gt;25 -->\n<g id=\"edge25\" class=\"edge\">\n<title>17&#45;&gt;25</title>\n<path fill=\"none\" stroke=\"black\" d=\"M3232.3,-341.91C3242.84,-332.56 3254.15,-322.54 3264.99,-312.93\"/>\n<polygon fill=\"black\" stroke=\"black\" points=\"3267.62,-315.27 3272.78,-306.02 3262.98,-310.03 3267.62,-315.27\"/>\n</g>\n<!-- 19 -->\n<g id=\"node20\" class=\"node\">\n<title>19</title>\n<path fill=\"#fffdfc\" stroke=\"black\" d=\"M2524.5,-187C2524.5,-187 2336.5,-187 2336.5,-187 2330.5,-187 2324.5,-181 2324.5,-175 2324.5,-175 2324.5,-116 2324.5,-116 2324.5,-110 2330.5,-104 2336.5,-104 2336.5,-104 2524.5,-104 2524.5,-104 2530.5,-104 2536.5,-110 2536.5,-116 2536.5,-116 2536.5,-175 2536.5,-175 2536.5,-181 2530.5,-187 2524.5,-187\"/>\n<text text-anchor=\"start\" x=\"2389\" y=\"-171.8\" font-family=\"Helvetica,sans-Serif\" font-size=\"14.00\">views ≤ 1.5</text>\n<text text-anchor=\"start\" x=\"2386.5\" y=\"-156.8\" font-family=\"Helvetica,sans-Serif\" font-size=\"14.00\">gini = 0.798</text>\n<text text-anchor=\"start\" x=\"2377.5\" y=\"-141.8\" font-family=\"Helvetica,sans-Serif\" font-size=\"14.00\">samples = 316</text>\n<text text-anchor=\"start\" x=\"2332.5\" y=\"-126.8\" font-family=\"Helvetica,sans-Serif\" font-size=\"14.00\">value = [72, 68, 60, 62, 54]</text>\n<text text-anchor=\"start\" x=\"2398.5\" y=\"-111.8\" font-family=\"Helvetica,sans-Serif\" font-size=\"14.00\">class = a</text>\n</g>\n<!-- 18&#45;&gt;19 -->\n<g id=\"edge19\" class=\"edge\">\n<title>18&#45;&gt;19</title>\n<path fill=\"none\" stroke=\"black\" d=\"M2680.92,-223.81C2637.41,-210.37 2589.09,-195.46 2546.6,-182.34\"/>\n<polygon fill=\"black\" stroke=\"black\" points=\"2547.37,-178.92 2536.79,-179.31 2545.31,-185.61 2547.37,-178.92\"/>\n</g>\n<!-- 22 -->\n<g id=\"node23\" class=\"node\">\n<title>22</title>\n<path fill=\"#fefffe\" stroke=\"black\" d=\"M2926,-187C2926,-187 2693,-187 2693,-187 2687,-187 2681,-181 2681,-175 2681,-175 2681,-116 2681,-116 2681,-110 2687,-104 2693,-104 2693,-104 2926,-104 2926,-104 2932,-104 2938,-110 2938,-116 2938,-116 2938,-175 2938,-175 2938,-181 2932,-187 2926,-187\"/>\n<text text-anchor=\"start\" x=\"2768\" y=\"-171.8\" font-family=\"Helvetica,sans-Serif\" font-size=\"14.00\">views ≤ 5.5</text>\n<text text-anchor=\"start\" x=\"2765.5\" y=\"-156.8\" font-family=\"Helvetica,sans-Serif\" font-size=\"14.00\">gini = 0.791</text>\n<text text-anchor=\"start\" x=\"2752\" y=\"-141.8\" font-family=\"Helvetica,sans-Serif\" font-size=\"14.00\">samples = 1271</text>\n<text text-anchor=\"start\" x=\"2689\" y=\"-126.8\" font-family=\"Helvetica,sans-Serif\" font-size=\"14.00\">value = [246, 319, 314, 206, 186]</text>\n<text text-anchor=\"start\" x=\"2777.5\" y=\"-111.8\" font-family=\"Helvetica,sans-Serif\" font-size=\"14.00\">class = c</text>\n</g>\n<!-- 18&#45;&gt;22 -->\n<g id=\"edge22\" class=\"edge\">\n<title>18&#45;&gt;22</title>\n<path fill=\"none\" stroke=\"black\" d=\"M2809.5,-222.91C2809.5,-214.65 2809.5,-205.86 2809.5,-197.3\"/>\n<polygon fill=\"black\" stroke=\"black\" points=\"2813,-197.02 2809.5,-187.02 2806,-197.02 2813,-197.02\"/>\n</g>\n<!-- 20 -->\n<g id=\"node21\" class=\"node\">\n<title>20</title>\n<path fill=\"#fefcfa\" stroke=\"black\" d=\"M2294.5,-68C2294.5,-68 2106.5,-68 2106.5,-68 2100.5,-68 2094.5,-62 2094.5,-56 2094.5,-56 2094.5,-12 2094.5,-12 2094.5,-6 2100.5,0 2106.5,0 2106.5,0 2294.5,0 2294.5,0 2300.5,0 2306.5,-6 2306.5,-12 2306.5,-12 2306.5,-56 2306.5,-56 2306.5,-62 2300.5,-68 2294.5,-68\"/>\n<text text-anchor=\"start\" x=\"2161\" y=\"-52.8\" font-family=\"Helvetica,sans-Serif\" font-size=\"14.00\">gini = 0.79</text>\n<text text-anchor=\"start\" x=\"2147.5\" y=\"-37.8\" font-family=\"Helvetica,sans-Serif\" font-size=\"14.00\">samples = 144</text>\n<text text-anchor=\"start\" x=\"2102.5\" y=\"-22.8\" font-family=\"Helvetica,sans-Serif\" font-size=\"14.00\">value = [37, 30, 24, 34, 19]</text>\n<text text-anchor=\"start\" x=\"2168.5\" y=\"-7.8\" font-family=\"Helvetica,sans-Serif\" font-size=\"14.00\">class = a</text>\n</g>\n<!-- 19&#45;&gt;20 -->\n<g id=\"edge20\" class=\"edge\">\n<title>19&#45;&gt;20</title>\n<path fill=\"none\" stroke=\"black\" d=\"M2345.18,-103.88C2323.58,-93.6 2300.47,-82.6 2279.21,-72.47\"/>\n<polygon fill=\"black\" stroke=\"black\" points=\"2280.44,-69.18 2269.91,-68.04 2277.43,-75.5 2280.44,-69.18\"/>\n</g>\n<!-- 21 -->\n<g id=\"node22\" class=\"node\">\n<title>21</title>\n<path fill=\"#fdfffc\" stroke=\"black\" d=\"M2524.5,-68C2524.5,-68 2336.5,-68 2336.5,-68 2330.5,-68 2324.5,-62 2324.5,-56 2324.5,-56 2324.5,-12 2324.5,-12 2324.5,-6 2330.5,0 2336.5,0 2336.5,0 2524.5,0 2524.5,0 2530.5,0 2536.5,-6 2536.5,-12 2536.5,-12 2536.5,-56 2536.5,-56 2536.5,-62 2530.5,-68 2524.5,-68\"/>\n<text text-anchor=\"start\" x=\"2386.5\" y=\"-52.8\" font-family=\"Helvetica,sans-Serif\" font-size=\"14.00\">gini = 0.798</text>\n<text text-anchor=\"start\" x=\"2377.5\" y=\"-37.8\" font-family=\"Helvetica,sans-Serif\" font-size=\"14.00\">samples = 172</text>\n<text text-anchor=\"start\" x=\"2332.5\" y=\"-22.8\" font-family=\"Helvetica,sans-Serif\" font-size=\"14.00\">value = [35, 38, 36, 28, 35]</text>\n<text text-anchor=\"start\" x=\"2398.5\" y=\"-7.8\" font-family=\"Helvetica,sans-Serif\" font-size=\"14.00\">class = c</text>\n</g>\n<!-- 19&#45;&gt;21 -->\n<g id=\"edge21\" class=\"edge\">\n<title>19&#45;&gt;21</title>\n<path fill=\"none\" stroke=\"black\" d=\"M2430.5,-103.73C2430.5,-95.52 2430.5,-86.86 2430.5,-78.56\"/>\n<polygon fill=\"black\" stroke=\"black\" points=\"2434,-78.3 2430.5,-68.3 2427,-78.3 2434,-78.3\"/>\n</g>\n<!-- 23 -->\n<g id=\"node24\" class=\"node\">\n<title>23</title>\n<path fill=\"#fefffe\" stroke=\"black\" d=\"M2800,-68C2800,-68 2567,-68 2567,-68 2561,-68 2555,-62 2555,-56 2555,-56 2555,-12 2555,-12 2555,-6 2561,0 2567,0 2567,0 2800,0 2800,0 2806,0 2812,-6 2812,-12 2812,-12 2812,-56 2812,-56 2812,-62 2806,-68 2800,-68\"/>\n<text text-anchor=\"start\" x=\"2639.5\" y=\"-52.8\" font-family=\"Helvetica,sans-Serif\" font-size=\"14.00\">gini = 0.791</text>\n<text text-anchor=\"start\" x=\"2626\" y=\"-37.8\" font-family=\"Helvetica,sans-Serif\" font-size=\"14.00\">samples = 1053</text>\n<text text-anchor=\"start\" x=\"2563\" y=\"-22.8\" font-family=\"Helvetica,sans-Serif\" font-size=\"14.00\">value = [185, 266, 262, 175, 165]</text>\n<text text-anchor=\"start\" x=\"2651.5\" y=\"-7.8\" font-family=\"Helvetica,sans-Serif\" font-size=\"14.00\">class = c</text>\n</g>\n<!-- 22&#45;&gt;23 -->\n<g id=\"edge23\" class=\"edge\">\n<title>22&#45;&gt;23</title>\n<path fill=\"none\" stroke=\"black\" d=\"M2762.58,-103.73C2751.77,-94.33 2740.29,-84.35 2729.51,-74.99\"/>\n<polygon fill=\"black\" stroke=\"black\" points=\"2731.66,-72.22 2721.82,-68.3 2727.07,-77.5 2731.66,-72.22\"/>\n</g>\n<!-- 24 -->\n<g id=\"node25\" class=\"node\">\n<title>24</title>\n<path fill=\"#fef9f5\" stroke=\"black\" d=\"M3030.5,-68C3030.5,-68 2842.5,-68 2842.5,-68 2836.5,-68 2830.5,-62 2830.5,-56 2830.5,-56 2830.5,-12 2830.5,-12 2830.5,-6 2836.5,0 2842.5,0 2842.5,0 3030.5,0 3030.5,0 3036.5,0 3042.5,-6 3042.5,-12 3042.5,-12 3042.5,-56 3042.5,-56 3042.5,-62 3036.5,-68 3030.5,-68\"/>\n<text text-anchor=\"start\" x=\"2892.5\" y=\"-52.8\" font-family=\"Helvetica,sans-Serif\" font-size=\"14.00\">gini = 0.776</text>\n<text text-anchor=\"start\" x=\"2883.5\" y=\"-37.8\" font-family=\"Helvetica,sans-Serif\" font-size=\"14.00\">samples = 218</text>\n<text text-anchor=\"start\" x=\"2838.5\" y=\"-22.8\" font-family=\"Helvetica,sans-Serif\" font-size=\"14.00\">value = [61, 53, 52, 31, 21]</text>\n<text text-anchor=\"start\" x=\"2904.5\" y=\"-7.8\" font-family=\"Helvetica,sans-Serif\" font-size=\"14.00\">class = a</text>\n</g>\n<!-- 22&#45;&gt;24 -->\n<g id=\"edge24\" class=\"edge\">\n<title>22&#45;&gt;24</title>\n<path fill=\"none\" stroke=\"black\" d=\"M2856.79,-103.73C2867.69,-94.33 2879.26,-84.35 2890.12,-74.99\"/>\n<polygon fill=\"black\" stroke=\"black\" points=\"2892.59,-77.48 2897.88,-68.3 2888.02,-72.18 2892.59,-77.48\"/>\n</g>\n<!-- 26 -->\n<g id=\"node27\" class=\"node\">\n<title>26</title>\n<path fill=\"#fdffff\" stroke=\"black\" d=\"M3444,-187C3444,-187 3193,-187 3193,-187 3187,-187 3181,-181 3181,-175 3181,-175 3181,-116 3181,-116 3181,-110 3187,-104 3193,-104 3193,-104 3444,-104 3444,-104 3450,-104 3456,-110 3456,-116 3456,-116 3456,-175 3456,-175 3456,-181 3450,-187 3444,-187\"/>\n<text text-anchor=\"start\" x=\"3271.5\" y=\"-171.8\" font-family=\"Helvetica,sans-Serif\" font-size=\"14.00\">answer ≤ 1.5</text>\n<text text-anchor=\"start\" x=\"3274.5\" y=\"-156.8\" font-family=\"Helvetica,sans-Serif\" font-size=\"14.00\">gini = 0.784</text>\n<text text-anchor=\"start\" x=\"3261\" y=\"-141.8\" font-family=\"Helvetica,sans-Serif\" font-size=\"14.00\">samples = 5153</text>\n<text text-anchor=\"start\" x=\"3189\" y=\"-126.8\" font-family=\"Helvetica,sans-Serif\" font-size=\"14.00\">value = [661, 1350, 1381, 985, 776]</text>\n<text text-anchor=\"start\" x=\"3286.5\" y=\"-111.8\" font-family=\"Helvetica,sans-Serif\" font-size=\"14.00\">class = c</text>\n</g>\n<!-- 25&#45;&gt;26 -->\n<g id=\"edge26\" class=\"edge\">\n<title>25&#45;&gt;26</title>\n<path fill=\"none\" stroke=\"black\" d=\"M3318.5,-222.91C3318.5,-214.65 3318.5,-205.86 3318.5,-197.3\"/>\n<polygon fill=\"black\" stroke=\"black\" points=\"3322,-197.02 3318.5,-187.02 3315,-197.02 3322,-197.02\"/>\n</g>\n<!-- 29 -->\n<g id=\"node30\" class=\"node\">\n<title>29</title>\n<path fill=\"#fcfefb\" stroke=\"black\" d=\"M3883.5,-187C3883.5,-187 3605.5,-187 3605.5,-187 3599.5,-187 3593.5,-181 3593.5,-175 3593.5,-175 3593.5,-116 3593.5,-116 3593.5,-110 3599.5,-104 3605.5,-104 3605.5,-104 3883.5,-104 3883.5,-104 3889.5,-104 3895.5,-110 3895.5,-116 3895.5,-116 3895.5,-175 3895.5,-175 3895.5,-181 3889.5,-187 3883.5,-187\"/>\n<text text-anchor=\"start\" x=\"3651\" y=\"-171.8\" font-family=\"Helvetica,sans-Serif\" font-size=\"14.00\">user_badge_number ≤ 6.5</text>\n<text text-anchor=\"start\" x=\"3700.5\" y=\"-156.8\" font-family=\"Helvetica,sans-Serif\" font-size=\"14.00\">gini = 0.778</text>\n<text text-anchor=\"start\" x=\"3687\" y=\"-141.8\" font-family=\"Helvetica,sans-Serif\" font-size=\"14.00\">samples = 8129</text>\n<text text-anchor=\"start\" x=\"3601.5\" y=\"-126.8\" font-family=\"Helvetica,sans-Serif\" font-size=\"14.00\">value = [1116, 2322, 2207, 1468, 1016]</text>\n<text text-anchor=\"start\" x=\"3712.5\" y=\"-111.8\" font-family=\"Helvetica,sans-Serif\" font-size=\"14.00\">class = c</text>\n</g>\n<!-- 25&#45;&gt;29 -->\n<g id=\"edge29\" class=\"edge\">\n<title>25&#45;&gt;29</title>\n<path fill=\"none\" stroke=\"black\" d=\"M3466,-222.99C3505.09,-212.25 3547.44,-200.62 3587.03,-189.75\"/>\n<polygon fill=\"black\" stroke=\"black\" points=\"3588.05,-193.1 3596.77,-187.07 3586.2,-186.35 3588.05,-193.1\"/>\n</g>\n<!-- 27 -->\n<g id=\"node28\" class=\"node\">\n<title>27</title>\n<path fill=\"#fcfffe\" stroke=\"black\" d=\"M3324,-68C3324,-68 3073,-68 3073,-68 3067,-68 3061,-62 3061,-56 3061,-56 3061,-12 3061,-12 3061,-6 3067,0 3073,0 3073,0 3324,0 3324,0 3330,0 3336,-6 3336,-12 3336,-12 3336,-56 3336,-56 3336,-62 3330,-68 3324,-68\"/>\n<text text-anchor=\"start\" x=\"3154.5\" y=\"-52.8\" font-family=\"Helvetica,sans-Serif\" font-size=\"14.00\">gini = 0.783</text>\n<text text-anchor=\"start\" x=\"3141\" y=\"-37.8\" font-family=\"Helvetica,sans-Serif\" font-size=\"14.00\">samples = 4557</text>\n<text text-anchor=\"start\" x=\"3069\" y=\"-22.8\" font-family=\"Helvetica,sans-Serif\" font-size=\"14.00\">value = [567, 1182, 1231, 894, 683]</text>\n<text text-anchor=\"start\" x=\"3166.5\" y=\"-7.8\" font-family=\"Helvetica,sans-Serif\" font-size=\"14.00\">class = c</text>\n</g>\n<!-- 26&#45;&gt;27 -->\n<g id=\"edge27\" class=\"edge\">\n<title>26&#45;&gt;27</title>\n<path fill=\"none\" stroke=\"black\" d=\"M3273.82,-103.73C3263.62,-94.42 3252.79,-84.54 3242.62,-75.26\"/>\n<polygon fill=\"black\" stroke=\"black\" points=\"3244.74,-72.45 3234.99,-68.3 3240.02,-77.63 3244.74,-72.45\"/>\n</g>\n<!-- 28 -->\n<g id=\"node29\" class=\"node\">\n<title>28</title>\n<path fill=\"#fafef7\" stroke=\"black\" d=\"M3572.5,-68C3572.5,-68 3366.5,-68 3366.5,-68 3360.5,-68 3354.5,-62 3354.5,-56 3354.5,-56 3354.5,-12 3354.5,-12 3354.5,-6 3360.5,0 3366.5,0 3366.5,0 3572.5,0 3572.5,0 3578.5,0 3584.5,-6 3584.5,-12 3584.5,-12 3584.5,-56 3584.5,-56 3584.5,-62 3578.5,-68 3572.5,-68\"/>\n<text text-anchor=\"start\" x=\"3425.5\" y=\"-52.8\" font-family=\"Helvetica,sans-Serif\" font-size=\"14.00\">gini = 0.785</text>\n<text text-anchor=\"start\" x=\"3416.5\" y=\"-37.8\" font-family=\"Helvetica,sans-Serif\" font-size=\"14.00\">samples = 596</text>\n<text text-anchor=\"start\" x=\"3362.5\" y=\"-22.8\" font-family=\"Helvetica,sans-Serif\" font-size=\"14.00\">value = [94, 168, 150, 91, 93]</text>\n<text text-anchor=\"start\" x=\"3437.5\" y=\"-7.8\" font-family=\"Helvetica,sans-Serif\" font-size=\"14.00\">class = c</text>\n</g>\n<!-- 26&#45;&gt;28 -->\n<g id=\"edge28\" class=\"edge\">\n<title>26&#45;&gt;28</title>\n<path fill=\"none\" stroke=\"black\" d=\"M3374.73,-103.73C3388.06,-94.06 3402.25,-83.77 3415.48,-74.17\"/>\n<polygon fill=\"black\" stroke=\"black\" points=\"3417.54,-77 3423.58,-68.3 3413.43,-71.34 3417.54,-77\"/>\n</g>\n<!-- 30 -->\n<g id=\"node31\" class=\"node\">\n<title>30</title>\n<path fill=\"#fefffd\" stroke=\"black\" d=\"M3874.5,-68C3874.5,-68 3614.5,-68 3614.5,-68 3608.5,-68 3602.5,-62 3602.5,-56 3602.5,-56 3602.5,-12 3602.5,-12 3602.5,-6 3608.5,0 3614.5,0 3614.5,0 3874.5,0 3874.5,0 3880.5,0 3886.5,-6 3886.5,-12 3886.5,-12 3886.5,-56 3886.5,-56 3886.5,-62 3880.5,-68 3874.5,-68\"/>\n<text text-anchor=\"start\" x=\"3700.5\" y=\"-52.8\" font-family=\"Helvetica,sans-Serif\" font-size=\"14.00\">gini = 0.779</text>\n<text text-anchor=\"start\" x=\"3687\" y=\"-37.8\" font-family=\"Helvetica,sans-Serif\" font-size=\"14.00\">samples = 7110</text>\n<text text-anchor=\"start\" x=\"3610.5\" y=\"-22.8\" font-family=\"Helvetica,sans-Serif\" font-size=\"14.00\">value = [981, 1988, 1936, 1314, 891]</text>\n<text text-anchor=\"start\" x=\"3712.5\" y=\"-7.8\" font-family=\"Helvetica,sans-Serif\" font-size=\"14.00\">class = c</text>\n</g>\n<!-- 29&#45;&gt;30 -->\n<g id=\"edge30\" class=\"edge\">\n<title>29&#45;&gt;30</title>\n<path fill=\"none\" stroke=\"black\" d=\"M3744.5,-103.73C3744.5,-95.52 3744.5,-86.86 3744.5,-78.56\"/>\n<polygon fill=\"black\" stroke=\"black\" points=\"3748,-78.3 3744.5,-68.3 3741,-78.3 3748,-78.3\"/>\n</g>\n<!-- 31 -->\n<g id=\"node32\" class=\"node\">\n<title>31</title>\n<path fill=\"#f4fdee\" stroke=\"black\" d=\"M4150,-68C4150,-68 3917,-68 3917,-68 3911,-68 3905,-62 3905,-56 3905,-56 3905,-12 3905,-12 3905,-6 3911,0 3917,0 3917,0 4150,0 4150,0 4156,0 4162,-6 4162,-12 4162,-12 4162,-56 4162,-56 4162,-62 4156,-68 4150,-68\"/>\n<text text-anchor=\"start\" x=\"3989.5\" y=\"-52.8\" font-family=\"Helvetica,sans-Serif\" font-size=\"14.00\">gini = 0.766</text>\n<text text-anchor=\"start\" x=\"3976\" y=\"-37.8\" font-family=\"Helvetica,sans-Serif\" font-size=\"14.00\">samples = 1019</text>\n<text text-anchor=\"start\" x=\"3913\" y=\"-22.8\" font-family=\"Helvetica,sans-Serif\" font-size=\"14.00\">value = [135, 334, 271, 154, 125]</text>\n<text text-anchor=\"start\" x=\"4001.5\" y=\"-7.8\" font-family=\"Helvetica,sans-Serif\" font-size=\"14.00\">class = c</text>\n</g>\n<!-- 29&#45;&gt;31 -->\n<g id=\"edge31\" class=\"edge\">\n<title>29&#45;&gt;31</title>\n<path fill=\"none\" stroke=\"black\" d=\"M3851.7,-103.88C3879.58,-93.32 3909.44,-82 3936.75,-71.66\"/>\n<polygon fill=\"black\" stroke=\"black\" points=\"3938.18,-74.86 3946.29,-68.04 3935.7,-68.31 3938.18,-74.86\"/>\n</g>\n<!-- 33 -->\n<g id=\"node34\" class=\"node\">\n<title>33</title>\n<path fill=\"#f4fefc\" stroke=\"black\" d=\"M5436.5,-425C5436.5,-425 5122.5,-425 5122.5,-425 5116.5,-425 5110.5,-419 5110.5,-413 5110.5,-413 5110.5,-354 5110.5,-354 5110.5,-348 5116.5,-342 5122.5,-342 5122.5,-342 5436.5,-342 5436.5,-342 5442.5,-342 5448.5,-348 5448.5,-354 5448.5,-354 5448.5,-413 5448.5,-413 5448.5,-419 5442.5,-425 5436.5,-425\"/>\n<text text-anchor=\"start\" x=\"5205.5\" y=\"-409.8\" font-family=\"Helvetica,sans-Serif\" font-size=\"14.00\">No User Badge ≤ 0.5</text>\n<text text-anchor=\"start\" x=\"5235.5\" y=\"-394.8\" font-family=\"Helvetica,sans-Serif\" font-size=\"14.00\">gini = 0.783</text>\n<text text-anchor=\"start\" x=\"5217.5\" y=\"-379.8\" font-family=\"Helvetica,sans-Serif\" font-size=\"14.00\">samples = 84132</text>\n<text text-anchor=\"start\" x=\"5118.5\" y=\"-364.8\" font-family=\"Helvetica,sans-Serif\" font-size=\"14.00\">value = [8829, 19683, 23306, 17481, 14833]</text>\n<text text-anchor=\"start\" x=\"5247.5\" y=\"-349.8\" font-family=\"Helvetica,sans-Serif\" font-size=\"14.00\">class = c</text>\n</g>\n<!-- 32&#45;&gt;33 -->\n<g id=\"edge33\" class=\"edge\">\n<title>32&#45;&gt;33</title>\n<path fill=\"none\" stroke=\"black\" d=\"M5279.5,-460.91C5279.5,-452.65 5279.5,-443.86 5279.5,-435.3\"/>\n<polygon fill=\"black\" stroke=\"black\" points=\"5283,-435.02 5279.5,-425.02 5276,-435.02 5283,-435.02\"/>\n</g>\n<!-- 48 -->\n<g id=\"node49\" class=\"node\">\n<title>48</title>\n<path fill=\"#f7fefd\" stroke=\"black\" d=\"M7355,-425C7355,-425 7032,-425 7032,-425 7026,-425 7020,-419 7020,-413 7020,-413 7020,-354 7020,-354 7020,-348 7026,-342 7032,-342 7032,-342 7355,-342 7355,-342 7361,-342 7367,-348 7367,-354 7367,-354 7367,-413 7367,-413 7367,-419 7361,-425 7355,-425\"/>\n<text text-anchor=\"start\" x=\"7073\" y=\"-409.8\" font-family=\"Helvetica,sans-Serif\" font-size=\"14.00\">user_reputation_score ≤ 440500.0</text>\n<text text-anchor=\"start\" x=\"7149.5\" y=\"-394.8\" font-family=\"Helvetica,sans-Serif\" font-size=\"14.00\">gini = 0.781</text>\n<text text-anchor=\"start\" x=\"7131.5\" y=\"-379.8\" font-family=\"Helvetica,sans-Serif\" font-size=\"14.00\">samples = 92463</text>\n<text text-anchor=\"start\" x=\"7028\" y=\"-364.8\" font-family=\"Helvetica,sans-Serif\" font-size=\"14.00\">value = [10191, 23287, 25992, 18708, 14285]</text>\n<text text-anchor=\"start\" x=\"7161.5\" y=\"-349.8\" font-family=\"Helvetica,sans-Serif\" font-size=\"14.00\">class = c</text>\n</g>\n<!-- 32&#45;&gt;48 -->\n<g id=\"edge48\" class=\"edge\">\n<title>32&#45;&gt;48</title>\n<path fill=\"none\" stroke=\"black\" d=\"M5453.15,-490.88C5813.64,-468.85 6640.24,-418.32 7009.47,-395.75\"/>\n<polygon fill=\"black\" stroke=\"black\" points=\"7009.96,-399.23 7019.72,-395.12 7009.53,-392.24 7009.96,-399.23\"/>\n</g>\n<!-- 34 -->\n<g id=\"node35\" class=\"node\">\n<title>34</title>\n<path fill=\"#f3fdfb\" stroke=\"black\" d=\"M5288.5,-306C5288.5,-306 4974.5,-306 4974.5,-306 4968.5,-306 4962.5,-300 4962.5,-294 4962.5,-294 4962.5,-235 4962.5,-235 4962.5,-229 4968.5,-223 4974.5,-223 4974.5,-223 5288.5,-223 5288.5,-223 5294.5,-223 5300.5,-229 5300.5,-235 5300.5,-235 5300.5,-294 5300.5,-294 5300.5,-300 5294.5,-306 5288.5,-306\"/>\n<text text-anchor=\"start\" x=\"5084.5\" y=\"-290.8\" font-family=\"Helvetica,sans-Serif\" font-size=\"14.00\">answer ≤ 1.5</text>\n<text text-anchor=\"start\" x=\"5087.5\" y=\"-275.8\" font-family=\"Helvetica,sans-Serif\" font-size=\"14.00\">gini = 0.782</text>\n<text text-anchor=\"start\" x=\"5069.5\" y=\"-260.8\" font-family=\"Helvetica,sans-Serif\" font-size=\"14.00\">samples = 71780</text>\n<text text-anchor=\"start\" x=\"4970.5\" y=\"-245.8\" font-family=\"Helvetica,sans-Serif\" font-size=\"14.00\">value = [7129, 16603, 20015, 15206, 12827]</text>\n<text text-anchor=\"start\" x=\"5099.5\" y=\"-230.8\" font-family=\"Helvetica,sans-Serif\" font-size=\"14.00\">class = c</text>\n</g>\n<!-- 33&#45;&gt;34 -->\n<g id=\"edge34\" class=\"edge\">\n<title>33&#45;&gt;34</title>\n<path fill=\"none\" stroke=\"black\" d=\"M5228.15,-341.91C5216.1,-332.38 5203.16,-322.15 5190.79,-312.37\"/>\n<polygon fill=\"black\" stroke=\"black\" points=\"5192.77,-309.48 5182.76,-306.02 5188.43,-314.97 5192.77,-309.48\"/>\n</g>\n<!-- 41 -->\n<g id=\"node42\" class=\"node\">\n<title>41</title>\n<path fill=\"#fafefe\" stroke=\"black\" d=\"M5839.5,-306C5839.5,-306 5561.5,-306 5561.5,-306 5555.5,-306 5549.5,-300 5549.5,-294 5549.5,-294 5549.5,-235 5549.5,-235 5549.5,-229 5555.5,-223 5561.5,-223 5561.5,-223 5839.5,-223 5839.5,-223 5845.5,-223 5851.5,-229 5851.5,-235 5851.5,-235 5851.5,-294 5851.5,-294 5851.5,-300 5845.5,-306 5839.5,-306\"/>\n<text text-anchor=\"start\" x=\"5653.5\" y=\"-290.8\" font-family=\"Helvetica,sans-Serif\" font-size=\"14.00\">answer ≤ 0.5</text>\n<text text-anchor=\"start\" x=\"5656.5\" y=\"-275.8\" font-family=\"Helvetica,sans-Serif\" font-size=\"14.00\">gini = 0.788</text>\n<text text-anchor=\"start\" x=\"5638.5\" y=\"-260.8\" font-family=\"Helvetica,sans-Serif\" font-size=\"14.00\">samples = 12352</text>\n<text text-anchor=\"start\" x=\"5557.5\" y=\"-245.8\" font-family=\"Helvetica,sans-Serif\" font-size=\"14.00\">value = [1700, 3080, 3291, 2275, 2006]</text>\n<text text-anchor=\"start\" x=\"5668.5\" y=\"-230.8\" font-family=\"Helvetica,sans-Serif\" font-size=\"14.00\">class = c</text>\n</g>\n<!-- 33&#45;&gt;41 -->\n<g id=\"edge41\" class=\"edge\">\n<title>33&#45;&gt;41</title>\n<path fill=\"none\" stroke=\"black\" d=\"M5425.27,-341.99C5463.82,-331.28 5505.57,-319.67 5544.63,-308.82\"/>\n<polygon fill=\"black\" stroke=\"black\" points=\"5545.8,-312.12 5554.5,-306.07 5543.93,-305.38 5545.8,-312.12\"/>\n</g>\n<!-- 35 -->\n<g id=\"node36\" class=\"node\">\n<title>35</title>\n<path fill=\"#f2fdfb\" stroke=\"black\" d=\"M4804,-187C4804,-187 4499,-187 4499,-187 4493,-187 4487,-181 4487,-175 4487,-175 4487,-116 4487,-116 4487,-110 4493,-104 4499,-104 4499,-104 4804,-104 4804,-104 4810,-104 4816,-110 4816,-116 4816,-116 4816,-175 4816,-175 4816,-181 4810,-187 4804,-187\"/>\n<text text-anchor=\"start\" x=\"4610\" y=\"-171.8\" font-family=\"Helvetica,sans-Serif\" font-size=\"14.00\">views ≤ 1.5</text>\n<text text-anchor=\"start\" x=\"4607.5\" y=\"-156.8\" font-family=\"Helvetica,sans-Serif\" font-size=\"14.00\">gini = 0.783</text>\n<text text-anchor=\"start\" x=\"4589.5\" y=\"-141.8\" font-family=\"Helvetica,sans-Serif\" font-size=\"14.00\">samples = 53278</text>\n<text text-anchor=\"start\" x=\"4495\" y=\"-126.8\" font-family=\"Helvetica,sans-Serif\" font-size=\"14.00\">value = [5289, 11995, 14782, 11351, 9861]</text>\n<text text-anchor=\"start\" x=\"4619.5\" y=\"-111.8\" font-family=\"Helvetica,sans-Serif\" font-size=\"14.00\">class = c</text>\n</g>\n<!-- 34&#45;&gt;35 -->\n<g id=\"edge35\" class=\"edge\">\n<title>34&#45;&gt;35</title>\n<path fill=\"none\" stroke=\"black\" d=\"M4965.3,-222.99C4920.38,-212.04 4871.64,-200.16 4826.27,-189.1\"/>\n<polygon fill=\"black\" stroke=\"black\" points=\"4826.88,-185.65 4816.34,-186.68 4825.22,-192.45 4826.88,-185.65\"/>\n</g>\n<!-- 38 -->\n<g id=\"node39\" class=\"node\">\n<title>38</title>\n<path fill=\"#f6fefc\" stroke=\"black\" d=\"M5270.5,-187C5270.5,-187 4992.5,-187 4992.5,-187 4986.5,-187 4980.5,-181 4980.5,-175 4980.5,-175 4980.5,-116 4980.5,-116 4980.5,-110 4986.5,-104 4992.5,-104 4992.5,-104 5270.5,-104 5270.5,-104 5276.5,-104 5282.5,-110 5282.5,-116 5282.5,-116 5282.5,-175 5282.5,-175 5282.5,-181 5276.5,-187 5270.5,-187\"/>\n<text text-anchor=\"start\" x=\"5084.5\" y=\"-171.8\" font-family=\"Helvetica,sans-Serif\" font-size=\"14.00\">answer ≤ 3.5</text>\n<text text-anchor=\"start\" x=\"5087.5\" y=\"-156.8\" font-family=\"Helvetica,sans-Serif\" font-size=\"14.00\">gini = 0.779</text>\n<text text-anchor=\"start\" x=\"5069.5\" y=\"-141.8\" font-family=\"Helvetica,sans-Serif\" font-size=\"14.00\">samples = 18502</text>\n<text text-anchor=\"start\" x=\"4988.5\" y=\"-126.8\" font-family=\"Helvetica,sans-Serif\" font-size=\"14.00\">value = [1840, 4608, 5233, 3855, 2966]</text>\n<text text-anchor=\"start\" x=\"5099.5\" y=\"-111.8\" font-family=\"Helvetica,sans-Serif\" font-size=\"14.00\">class = c</text>\n</g>\n<!-- 34&#45;&gt;38 -->\n<g id=\"edge38\" class=\"edge\">\n<title>34&#45;&gt;38</title>\n<path fill=\"none\" stroke=\"black\" d=\"M5131.5,-222.91C5131.5,-214.65 5131.5,-205.86 5131.5,-197.3\"/>\n<polygon fill=\"black\" stroke=\"black\" points=\"5135,-197.02 5131.5,-187.02 5128,-197.02 5135,-197.02\"/>\n</g>\n<!-- 36 -->\n<g id=\"node37\" class=\"node\">\n<title>36</title>\n<path fill=\"#f4fefc\" stroke=\"black\" d=\"M4470.5,-68C4470.5,-68 4192.5,-68 4192.5,-68 4186.5,-68 4180.5,-62 4180.5,-56 4180.5,-56 4180.5,-12 4180.5,-12 4180.5,-6 4186.5,0 4192.5,0 4192.5,0 4470.5,0 4470.5,0 4476.5,0 4482.5,-6 4482.5,-12 4482.5,-12 4482.5,-56 4482.5,-56 4482.5,-62 4476.5,-68 4470.5,-68\"/>\n<text text-anchor=\"start\" x=\"4287.5\" y=\"-52.8\" font-family=\"Helvetica,sans-Serif\" font-size=\"14.00\">gini = 0.783</text>\n<text text-anchor=\"start\" x=\"4269.5\" y=\"-37.8\" font-family=\"Helvetica,sans-Serif\" font-size=\"14.00\">samples = 17274</text>\n<text text-anchor=\"start\" x=\"4188.5\" y=\"-22.8\" font-family=\"Helvetica,sans-Serif\" font-size=\"14.00\">value = [1924, 4109, 4837, 3466, 2938]</text>\n<text text-anchor=\"start\" x=\"4299.5\" y=\"-7.8\" font-family=\"Helvetica,sans-Serif\" font-size=\"14.00\">class = c</text>\n</g>\n<!-- 35&#45;&gt;36 -->\n<g id=\"edge36\" class=\"edge\">\n<title>35&#45;&gt;36</title>\n<path fill=\"none\" stroke=\"black\" d=\"M4532.8,-103.88C4501.66,-93.23 4468.29,-81.81 4437.84,-71.39\"/>\n<polygon fill=\"black\" stroke=\"black\" points=\"4438.66,-67.97 4428.06,-68.04 4436.39,-74.59 4438.66,-67.97\"/>\n</g>\n<!-- 37 -->\n<g id=\"node38\" class=\"node\">\n<title>37</title>\n<path fill=\"#f1fdfb\" stroke=\"black\" d=\"M4790.5,-68C4790.5,-68 4512.5,-68 4512.5,-68 4506.5,-68 4500.5,-62 4500.5,-56 4500.5,-56 4500.5,-12 4500.5,-12 4500.5,-6 4506.5,0 4512.5,0 4512.5,0 4790.5,0 4790.5,0 4796.5,0 4802.5,-6 4802.5,-12 4802.5,-12 4802.5,-56 4802.5,-56 4802.5,-62 4796.5,-68 4790.5,-68\"/>\n<text text-anchor=\"start\" x=\"4607.5\" y=\"-52.8\" font-family=\"Helvetica,sans-Serif\" font-size=\"14.00\">gini = 0.782</text>\n<text text-anchor=\"start\" x=\"4589.5\" y=\"-37.8\" font-family=\"Helvetica,sans-Serif\" font-size=\"14.00\">samples = 36004</text>\n<text text-anchor=\"start\" x=\"4508.5\" y=\"-22.8\" font-family=\"Helvetica,sans-Serif\" font-size=\"14.00\">value = [3365, 7886, 9945, 7885, 6923]</text>\n<text text-anchor=\"start\" x=\"4619.5\" y=\"-7.8\" font-family=\"Helvetica,sans-Serif\" font-size=\"14.00\">class = c</text>\n</g>\n<!-- 35&#45;&gt;37 -->\n<g id=\"edge37\" class=\"edge\">\n<title>35&#45;&gt;37</title>\n<path fill=\"none\" stroke=\"black\" d=\"M4651.5,-103.73C4651.5,-95.52 4651.5,-86.86 4651.5,-78.56\"/>\n<polygon fill=\"black\" stroke=\"black\" points=\"4655,-78.3 4651.5,-68.3 4648,-78.3 4655,-78.3\"/>\n</g>\n<!-- 39 -->\n<g id=\"node40\" class=\"node\">\n<title>39</title>\n<path fill=\"#f7fefd\" stroke=\"black\" d=\"M5110.5,-68C5110.5,-68 4832.5,-68 4832.5,-68 4826.5,-68 4820.5,-62 4820.5,-56 4820.5,-56 4820.5,-12 4820.5,-12 4820.5,-6 4826.5,0 4832.5,0 4832.5,0 5110.5,0 5110.5,0 5116.5,0 5122.5,-6 5122.5,-12 5122.5,-12 5122.5,-56 5122.5,-56 5122.5,-62 5116.5,-68 5110.5,-68\"/>\n<text text-anchor=\"start\" x=\"4927.5\" y=\"-52.8\" font-family=\"Helvetica,sans-Serif\" font-size=\"14.00\">gini = 0.781</text>\n<text text-anchor=\"start\" x=\"4909.5\" y=\"-37.8\" font-family=\"Helvetica,sans-Serif\" font-size=\"14.00\">samples = 13683</text>\n<text text-anchor=\"start\" x=\"4828.5\" y=\"-22.8\" font-family=\"Helvetica,sans-Serif\" font-size=\"14.00\">value = [1404, 3355, 3786, 2880, 2258]</text>\n<text text-anchor=\"start\" x=\"4939.5\" y=\"-7.8\" font-family=\"Helvetica,sans-Serif\" font-size=\"14.00\">class = c</text>\n</g>\n<!-- 38&#45;&gt;39 -->\n<g id=\"edge39\" class=\"edge\">\n<title>38&#45;&gt;39</title>\n<path fill=\"none\" stroke=\"black\" d=\"M5071.92,-103.73C5057.72,-94.01 5042.6,-83.66 5028.52,-74.02\"/>\n<polygon fill=\"black\" stroke=\"black\" points=\"5030.13,-70.88 5019.9,-68.13 5026.18,-76.66 5030.13,-70.88\"/>\n</g>\n<!-- 40 -->\n<g id=\"node41\" class=\"node\">\n<title>40</title>\n<path fill=\"#f4fefc\" stroke=\"black\" d=\"M5404,-68C5404,-68 5153,-68 5153,-68 5147,-68 5141,-62 5141,-56 5141,-56 5141,-12 5141,-12 5141,-6 5147,0 5153,0 5153,0 5404,0 5404,0 5410,0 5416,-6 5416,-12 5416,-12 5416,-56 5416,-56 5416,-62 5410,-68 5404,-68\"/>\n<text text-anchor=\"start\" x=\"5234.5\" y=\"-52.8\" font-family=\"Helvetica,sans-Serif\" font-size=\"14.00\">gini = 0.772</text>\n<text text-anchor=\"start\" x=\"5221\" y=\"-37.8\" font-family=\"Helvetica,sans-Serif\" font-size=\"14.00\">samples = 4819</text>\n<text text-anchor=\"start\" x=\"5149\" y=\"-22.8\" font-family=\"Helvetica,sans-Serif\" font-size=\"14.00\">value = [436, 1253, 1447, 975, 708]</text>\n<text text-anchor=\"start\" x=\"5246.5\" y=\"-7.8\" font-family=\"Helvetica,sans-Serif\" font-size=\"14.00\">class = c</text>\n</g>\n<!-- 38&#45;&gt;40 -->\n<g id=\"edge40\" class=\"edge\">\n<title>38&#45;&gt;40</title>\n<path fill=\"none\" stroke=\"black\" d=\"M5186.24,-103.73C5199.09,-94.15 5212.77,-83.96 5225.55,-74.44\"/>\n<polygon fill=\"black\" stroke=\"black\" points=\"5227.87,-77.08 5233.8,-68.3 5223.69,-71.47 5227.87,-77.08\"/>\n</g>\n<!-- 42 -->\n<g id=\"node43\" class=\"node\">\n<title>42</title>\n<path fill=\"#fdfffe\" stroke=\"black\" d=\"M5839.5,-187C5839.5,-187 5561.5,-187 5561.5,-187 5555.5,-187 5549.5,-181 5549.5,-175 5549.5,-175 5549.5,-116 5549.5,-116 5549.5,-110 5555.5,-104 5561.5,-104 5561.5,-104 5839.5,-104 5839.5,-104 5845.5,-104 5851.5,-110 5851.5,-116 5851.5,-116 5851.5,-175 5851.5,-175 5851.5,-181 5845.5,-187 5839.5,-187\"/>\n<text text-anchor=\"start\" x=\"5659\" y=\"-171.8\" font-family=\"Helvetica,sans-Serif\" font-size=\"14.00\">views ≤ 3.5</text>\n<text text-anchor=\"start\" x=\"5661\" y=\"-156.8\" font-family=\"Helvetica,sans-Serif\" font-size=\"14.00\">gini = 0.79</text>\n<text text-anchor=\"start\" x=\"5643\" y=\"-141.8\" font-family=\"Helvetica,sans-Serif\" font-size=\"14.00\">samples = 7024</text>\n<text text-anchor=\"start\" x=\"5557.5\" y=\"-126.8\" font-family=\"Helvetica,sans-Serif\" font-size=\"14.00\">value = [1157, 1762, 1816, 1180, 1109]</text>\n<text text-anchor=\"start\" x=\"5668.5\" y=\"-111.8\" font-family=\"Helvetica,sans-Serif\" font-size=\"14.00\">class = c</text>\n</g>\n<!-- 41&#45;&gt;42 -->\n<g id=\"edge42\" class=\"edge\">\n<title>41&#45;&gt;42</title>\n<path fill=\"none\" stroke=\"black\" d=\"M5700.5,-222.91C5700.5,-214.65 5700.5,-205.86 5700.5,-197.3\"/>\n<polygon fill=\"black\" stroke=\"black\" points=\"5704,-197.02 5700.5,-187.02 5697,-197.02 5704,-197.02\"/>\n</g>\n<!-- 45 -->\n<g id=\"node46\" class=\"node\">\n<title>45</title>\n<path fill=\"#f7fefd\" stroke=\"black\" d=\"M6269.5,-187C6269.5,-187 6009.5,-187 6009.5,-187 6003.5,-187 5997.5,-181 5997.5,-175 5997.5,-175 5997.5,-116 5997.5,-116 5997.5,-110 6003.5,-104 6009.5,-104 6009.5,-104 6269.5,-104 6269.5,-104 6275.5,-104 6281.5,-110 6281.5,-116 6281.5,-116 6281.5,-175 6281.5,-175 6281.5,-181 6275.5,-187 6269.5,-187\"/>\n<text text-anchor=\"start\" x=\"6094\" y=\"-171.8\" font-family=\"Helvetica,sans-Serif\" font-size=\"14.00\">votes ≤ 11.5</text>\n<text text-anchor=\"start\" x=\"6095.5\" y=\"-156.8\" font-family=\"Helvetica,sans-Serif\" font-size=\"14.00\">gini = 0.781</text>\n<text text-anchor=\"start\" x=\"6082\" y=\"-141.8\" font-family=\"Helvetica,sans-Serif\" font-size=\"14.00\">samples = 5328</text>\n<text text-anchor=\"start\" x=\"6005.5\" y=\"-126.8\" font-family=\"Helvetica,sans-Serif\" font-size=\"14.00\">value = [543, 1318, 1475, 1095, 897]</text>\n<text text-anchor=\"start\" x=\"6107.5\" y=\"-111.8\" font-family=\"Helvetica,sans-Serif\" font-size=\"14.00\">class = c</text>\n</g>\n<!-- 41&#45;&gt;45 -->\n<g id=\"edge45\" class=\"edge\">\n<title>41&#45;&gt;45</title>\n<path fill=\"none\" stroke=\"black\" d=\"M5851.58,-223.24C5895.5,-211.53 5943.49,-198.74 5987.48,-187.02\"/>\n<polygon fill=\"black\" stroke=\"black\" points=\"5988.62,-190.33 5997.38,-184.38 5986.82,-183.57 5988.62,-190.33\"/>\n</g>\n<!-- 43 -->\n<g id=\"node44\" class=\"node\">\n<title>43</title>\n<path fill=\"#fbfefe\" stroke=\"black\" d=\"M5697,-68C5697,-68 5446,-68 5446,-68 5440,-68 5434,-62 5434,-56 5434,-56 5434,-12 5434,-12 5434,-6 5440,0 5446,0 5446,0 5697,0 5697,0 5703,0 5709,-6 5709,-12 5709,-12 5709,-56 5709,-56 5709,-62 5703,-68 5697,-68\"/>\n<text text-anchor=\"start\" x=\"5527.5\" y=\"-52.8\" font-family=\"Helvetica,sans-Serif\" font-size=\"14.00\">gini = 0.789</text>\n<text text-anchor=\"start\" x=\"5514\" y=\"-37.8\" font-family=\"Helvetica,sans-Serif\" font-size=\"14.00\">samples = 5040</text>\n<text text-anchor=\"start\" x=\"5442\" y=\"-22.8\" font-family=\"Helvetica,sans-Serif\" font-size=\"14.00\">value = [688, 1244, 1329, 908, 871]</text>\n<text text-anchor=\"start\" x=\"5539.5\" y=\"-7.8\" font-family=\"Helvetica,sans-Serif\" font-size=\"14.00\">class = c</text>\n</g>\n<!-- 42&#45;&gt;43 -->\n<g id=\"edge43\" class=\"edge\">\n<title>42&#45;&gt;43</title>\n<path fill=\"none\" stroke=\"black\" d=\"M5652.47,-103.73C5641.4,-94.33 5629.64,-84.35 5618.61,-74.99\"/>\n<polygon fill=\"black\" stroke=\"black\" points=\"5620.62,-72.1 5610.73,-68.3 5616.09,-77.44 5620.62,-72.1\"/>\n</g>\n<!-- 44 -->\n<g id=\"node45\" class=\"node\">\n<title>44</title>\n<path fill=\"#fcfefb\" stroke=\"black\" d=\"M5972,-68C5972,-68 5739,-68 5739,-68 5733,-68 5727,-62 5727,-56 5727,-56 5727,-12 5727,-12 5727,-6 5733,0 5739,0 5739,0 5972,0 5972,0 5978,0 5984,-6 5984,-12 5984,-12 5984,-56 5984,-56 5984,-62 5978,-68 5972,-68\"/>\n<text text-anchor=\"start\" x=\"5811.5\" y=\"-52.8\" font-family=\"Helvetica,sans-Serif\" font-size=\"14.00\">gini = 0.783</text>\n<text text-anchor=\"start\" x=\"5798\" y=\"-37.8\" font-family=\"Helvetica,sans-Serif\" font-size=\"14.00\">samples = 1984</text>\n<text text-anchor=\"start\" x=\"5735\" y=\"-22.8\" font-family=\"Helvetica,sans-Serif\" font-size=\"14.00\">value = [469, 518, 487, 272, 238]</text>\n<text text-anchor=\"start\" x=\"5823.5\" y=\"-7.8\" font-family=\"Helvetica,sans-Serif\" font-size=\"14.00\">class = c</text>\n</g>\n<!-- 42&#45;&gt;44 -->\n<g id=\"edge44\" class=\"edge\">\n<title>42&#45;&gt;44</title>\n<path fill=\"none\" stroke=\"black\" d=\"M5758.22,-103.73C5771.9,-94.06 5786.47,-83.77 5800.05,-74.17\"/>\n<polygon fill=\"black\" stroke=\"black\" points=\"5802.22,-76.93 5808.36,-68.3 5798.18,-71.21 5802.22,-76.93\"/>\n</g>\n<!-- 46 -->\n<g id=\"node47\" class=\"node\">\n<title>46</title>\n<path fill=\"#f9fefd\" stroke=\"black\" d=\"M6265,-68C6265,-68 6014,-68 6014,-68 6008,-68 6002,-62 6002,-56 6002,-56 6002,-12 6002,-12 6002,-6 6008,0 6014,0 6014,0 6265,0 6265,0 6271,0 6277,-6 6277,-12 6277,-12 6277,-56 6277,-56 6277,-62 6271,-68 6265,-68\"/>\n<text text-anchor=\"start\" x=\"6095.5\" y=\"-52.8\" font-family=\"Helvetica,sans-Serif\" font-size=\"14.00\">gini = 0.782</text>\n<text text-anchor=\"start\" x=\"6082\" y=\"-37.8\" font-family=\"Helvetica,sans-Serif\" font-size=\"14.00\">samples = 4491</text>\n<text text-anchor=\"start\" x=\"6010\" y=\"-22.8\" font-family=\"Helvetica,sans-Serif\" font-size=\"14.00\">value = [450, 1107, 1207, 938, 789]</text>\n<text text-anchor=\"start\" x=\"6107.5\" y=\"-7.8\" font-family=\"Helvetica,sans-Serif\" font-size=\"14.00\">class = c</text>\n</g>\n<!-- 45&#45;&gt;46 -->\n<g id=\"edge46\" class=\"edge\">\n<title>45&#45;&gt;46</title>\n<path fill=\"none\" stroke=\"black\" d=\"M6139.5,-103.73C6139.5,-95.52 6139.5,-86.86 6139.5,-78.56\"/>\n<polygon fill=\"black\" stroke=\"black\" points=\"6143,-78.3 6139.5,-68.3 6136,-78.3 6143,-78.3\"/>\n</g>\n<!-- 47 -->\n<g id=\"node48\" class=\"node\">\n<title>47</title>\n<path fill=\"#edfdfa\" stroke=\"black\" d=\"M6531.5,-68C6531.5,-68 6307.5,-68 6307.5,-68 6301.5,-68 6295.5,-62 6295.5,-56 6295.5,-56 6295.5,-12 6295.5,-12 6295.5,-6 6301.5,0 6307.5,0 6307.5,0 6531.5,0 6531.5,0 6537.5,0 6543.5,-6 6543.5,-12 6543.5,-12 6543.5,-56 6543.5,-56 6543.5,-62 6537.5,-68 6531.5,-68\"/>\n<text text-anchor=\"start\" x=\"6380\" y=\"-52.8\" font-family=\"Helvetica,sans-Serif\" font-size=\"14.00\">gini = 0.77</text>\n<text text-anchor=\"start\" x=\"6366.5\" y=\"-37.8\" font-family=\"Helvetica,sans-Serif\" font-size=\"14.00\">samples = 837</text>\n<text text-anchor=\"start\" x=\"6303.5\" y=\"-22.8\" font-family=\"Helvetica,sans-Serif\" font-size=\"14.00\">value = [93, 211, 268, 157, 108]</text>\n<text text-anchor=\"start\" x=\"6387.5\" y=\"-7.8\" font-family=\"Helvetica,sans-Serif\" font-size=\"14.00\">class = c</text>\n</g>\n<!-- 45&#45;&gt;47 -->\n<g id=\"edge47\" class=\"edge\">\n<title>45&#45;&gt;47</title>\n<path fill=\"none\" stroke=\"black\" d=\"M6243.36,-103.88C6270.25,-93.37 6299.05,-82.1 6325.41,-71.79\"/>\n<polygon fill=\"black\" stroke=\"black\" points=\"6326.97,-74.95 6335.01,-68.04 6324.42,-68.43 6326.97,-74.95\"/>\n</g>\n<!-- 49 -->\n<g id=\"node50\" class=\"node\">\n<title>49</title>\n<path fill=\"#f7fefd\" stroke=\"black\" d=\"M7350.5,-306C7350.5,-306 7036.5,-306 7036.5,-306 7030.5,-306 7024.5,-300 7024.5,-294 7024.5,-294 7024.5,-235 7024.5,-235 7024.5,-229 7030.5,-223 7036.5,-223 7036.5,-223 7350.5,-223 7350.5,-223 7356.5,-223 7362.5,-229 7362.5,-235 7362.5,-235 7362.5,-294 7362.5,-294 7362.5,-300 7356.5,-306 7350.5,-306\"/>\n<text text-anchor=\"start\" x=\"7073\" y=\"-290.8\" font-family=\"Helvetica,sans-Serif\" font-size=\"14.00\">user_reputation_score ≤ 421000.0</text>\n<text text-anchor=\"start\" x=\"7149.5\" y=\"-275.8\" font-family=\"Helvetica,sans-Serif\" font-size=\"14.00\">gini = 0.781</text>\n<text text-anchor=\"start\" x=\"7131.5\" y=\"-260.8\" font-family=\"Helvetica,sans-Serif\" font-size=\"14.00\">samples = 89761</text>\n<text text-anchor=\"start\" x=\"7032.5\" y=\"-245.8\" font-family=\"Helvetica,sans-Serif\" font-size=\"14.00\">value = [9859, 22433, 25266, 18219, 13984]</text>\n<text text-anchor=\"start\" x=\"7161.5\" y=\"-230.8\" font-family=\"Helvetica,sans-Serif\" font-size=\"14.00\">class = c</text>\n</g>\n<!-- 48&#45;&gt;49 -->\n<g id=\"edge49\" class=\"edge\">\n<title>48&#45;&gt;49</title>\n<path fill=\"none\" stroke=\"black\" d=\"M7193.5,-341.91C7193.5,-333.65 7193.5,-324.86 7193.5,-316.3\"/>\n<polygon fill=\"black\" stroke=\"black\" points=\"7197,-316.02 7193.5,-306.02 7190,-316.02 7197,-316.02\"/>\n</g>\n<!-- 56 -->\n<g id=\"node57\" class=\"node\">\n<title>56</title>\n<path fill=\"#f6fdf2\" stroke=\"black\" d=\"M8021,-306C8021,-306 7788,-306 7788,-306 7782,-306 7776,-300 7776,-294 7776,-294 7776,-235 7776,-235 7776,-229 7782,-223 7788,-223 7788,-223 8021,-223 8021,-223 8027,-223 8033,-229 8033,-235 8033,-235 8033,-294 8033,-294 8033,-300 8027,-306 8021,-306\"/>\n<text text-anchor=\"start\" x=\"7811\" y=\"-290.8\" font-family=\"Helvetica,sans-Serif\" font-size=\"14.00\">user_badge_number ≤ 1.5</text>\n<text text-anchor=\"start\" x=\"7860.5\" y=\"-275.8\" font-family=\"Helvetica,sans-Serif\" font-size=\"14.00\">gini = 0.768</text>\n<text text-anchor=\"start\" x=\"7847\" y=\"-260.8\" font-family=\"Helvetica,sans-Serif\" font-size=\"14.00\">samples = 2702</text>\n<text text-anchor=\"start\" x=\"7784\" y=\"-245.8\" font-family=\"Helvetica,sans-Serif\" font-size=\"14.00\">value = [332, 854, 726, 489, 301]</text>\n<text text-anchor=\"start\" x=\"7872.5\" y=\"-230.8\" font-family=\"Helvetica,sans-Serif\" font-size=\"14.00\">class = c</text>\n</g>\n<!-- 48&#45;&gt;56 -->\n<g id=\"edge56\" class=\"edge\">\n<title>48&#45;&gt;56</title>\n<path fill=\"none\" stroke=\"black\" d=\"M7367.43,-353.88C7489.94,-333.72 7651.79,-307.09 7765.67,-288.35\"/>\n<polygon fill=\"black\" stroke=\"black\" points=\"7766.55,-291.75 7775.85,-286.67 7765.41,-284.84 7766.55,-291.75\"/>\n</g>\n<!-- 50 -->\n<g id=\"node51\" class=\"node\">\n<title>50</title>\n<path fill=\"#f7fefd\" stroke=\"black\" d=\"M7203.5,-187C7203.5,-187 6889.5,-187 6889.5,-187 6883.5,-187 6877.5,-181 6877.5,-175 6877.5,-175 6877.5,-116 6877.5,-116 6877.5,-110 6883.5,-104 6889.5,-104 6889.5,-104 7203.5,-104 7203.5,-104 7209.5,-104 7215.5,-110 7215.5,-116 7215.5,-116 7215.5,-175 7215.5,-175 7215.5,-181 7209.5,-187 7203.5,-187\"/>\n<text text-anchor=\"start\" x=\"7005.5\" y=\"-171.8\" font-family=\"Helvetica,sans-Serif\" font-size=\"14.00\">votes ≤ 0.5</text>\n<text text-anchor=\"start\" x=\"7002.5\" y=\"-156.8\" font-family=\"Helvetica,sans-Serif\" font-size=\"14.00\">gini = 0.781</text>\n<text text-anchor=\"start\" x=\"6984.5\" y=\"-141.8\" font-family=\"Helvetica,sans-Serif\" font-size=\"14.00\">samples = 89466</text>\n<text text-anchor=\"start\" x=\"6885.5\" y=\"-126.8\" font-family=\"Helvetica,sans-Serif\" font-size=\"14.00\">value = [9856, 22410, 25148, 18121, 13931]</text>\n<text text-anchor=\"start\" x=\"7014.5\" y=\"-111.8\" font-family=\"Helvetica,sans-Serif\" font-size=\"14.00\">class = c</text>\n</g>\n<!-- 49&#45;&gt;50 -->\n<g id=\"edge50\" class=\"edge\">\n<title>49&#45;&gt;50</title>\n<path fill=\"none\" stroke=\"black\" d=\"M7142.5,-222.91C7130.53,-213.38 7117.67,-203.15 7105.39,-193.37\"/>\n<polygon fill=\"black\" stroke=\"black\" points=\"7107.41,-190.51 7097.41,-187.02 7103.06,-195.99 7107.41,-190.51\"/>\n</g>\n<!-- 53 -->\n<g id=\"node54\" class=\"node\">\n<title>53</title>\n<path fill=\"#ebfcf9\" stroke=\"black\" d=\"M7433.5,-187C7433.5,-187 7245.5,-187 7245.5,-187 7239.5,-187 7233.5,-181 7233.5,-175 7233.5,-175 7233.5,-116 7233.5,-116 7233.5,-110 7239.5,-104 7245.5,-104 7245.5,-104 7433.5,-104 7433.5,-104 7439.5,-104 7445.5,-110 7445.5,-116 7445.5,-116 7445.5,-175 7445.5,-175 7445.5,-181 7439.5,-187 7433.5,-187\"/>\n<text text-anchor=\"start\" x=\"7298\" y=\"-171.8\" font-family=\"Helvetica,sans-Serif\" font-size=\"14.00\">views ≤ 2.5</text>\n<text text-anchor=\"start\" x=\"7295.5\" y=\"-156.8\" font-family=\"Helvetica,sans-Serif\" font-size=\"14.00\">gini = 0.691</text>\n<text text-anchor=\"start\" x=\"7286.5\" y=\"-141.8\" font-family=\"Helvetica,sans-Serif\" font-size=\"14.00\">samples = 295</text>\n<text text-anchor=\"start\" x=\"7241.5\" y=\"-126.8\" font-family=\"Helvetica,sans-Serif\" font-size=\"14.00\">value = [3, 23, 118, 98, 53]</text>\n<text text-anchor=\"start\" x=\"7307.5\" y=\"-111.8\" font-family=\"Helvetica,sans-Serif\" font-size=\"14.00\">class = c</text>\n</g>\n<!-- 49&#45;&gt;53 -->\n<g id=\"edge53\" class=\"edge\">\n<title>49&#45;&gt;53</title>\n<path fill=\"none\" stroke=\"black\" d=\"M7244.15,-222.91C7256.04,-213.38 7268.81,-203.15 7281.01,-193.37\"/>\n<polygon fill=\"black\" stroke=\"black\" points=\"7283.32,-196.01 7288.94,-187.02 7278.94,-190.54 7283.32,-196.01\"/>\n</g>\n<!-- 51 -->\n<g id=\"node52\" class=\"node\">\n<title>51</title>\n<path fill=\"#f9fefd\" stroke=\"black\" d=\"M6869.5,-68C6869.5,-68 6573.5,-68 6573.5,-68 6567.5,-68 6561.5,-62 6561.5,-56 6561.5,-56 6561.5,-12 6561.5,-12 6561.5,-6 6567.5,0 6573.5,0 6573.5,0 6869.5,0 6869.5,0 6875.5,0 6881.5,-6 6881.5,-12 6881.5,-12 6881.5,-56 6881.5,-56 6881.5,-62 6875.5,-68 6869.5,-68\"/>\n<text text-anchor=\"start\" x=\"6677.5\" y=\"-52.8\" font-family=\"Helvetica,sans-Serif\" font-size=\"14.00\">gini = 0.781</text>\n<text text-anchor=\"start\" x=\"6659.5\" y=\"-37.8\" font-family=\"Helvetica,sans-Serif\" font-size=\"14.00\">samples = 50192</text>\n<text text-anchor=\"start\" x=\"6569.5\" y=\"-22.8\" font-family=\"Helvetica,sans-Serif\" font-size=\"14.00\">value = [5910, 12852, 14026, 9946, 7458]</text>\n<text text-anchor=\"start\" x=\"6689.5\" y=\"-7.8\" font-family=\"Helvetica,sans-Serif\" font-size=\"14.00\">class = c</text>\n</g>\n<!-- 50&#45;&gt;51 -->\n<g id=\"edge51\" class=\"edge\">\n<title>50&#45;&gt;51</title>\n<path fill=\"none\" stroke=\"black\" d=\"M6925.94,-103.88C6894.18,-93.18 6860.13,-81.71 6829.1,-71.25\"/>\n<polygon fill=\"black\" stroke=\"black\" points=\"6830.17,-67.92 6819.57,-68.04 6827.93,-74.55 6830.17,-67.92\"/>\n</g>\n<!-- 52 -->\n<g id=\"node53\" class=\"node\">\n<title>52</title>\n<path fill=\"#f5fefc\" stroke=\"black\" d=\"M7199,-68C7199,-68 6912,-68 6912,-68 6906,-68 6900,-62 6900,-56 6900,-56 6900,-12 6900,-12 6900,-6 6906,0 6912,0 6912,0 7199,0 7199,0 7205,0 7211,-6 7211,-12 7211,-12 7211,-56 7211,-56 7211,-62 7205,-68 7199,-68\"/>\n<text text-anchor=\"start\" x=\"7016\" y=\"-52.8\" font-family=\"Helvetica,sans-Serif\" font-size=\"14.00\">gini = 0.78</text>\n<text text-anchor=\"start\" x=\"6993.5\" y=\"-37.8\" font-family=\"Helvetica,sans-Serif\" font-size=\"14.00\">samples = 39274</text>\n<text text-anchor=\"start\" x=\"6908\" y=\"-22.8\" font-family=\"Helvetica,sans-Serif\" font-size=\"14.00\">value = [3946, 9558, 11122, 8175, 6473]</text>\n<text text-anchor=\"start\" x=\"7023.5\" y=\"-7.8\" font-family=\"Helvetica,sans-Serif\" font-size=\"14.00\">class = c</text>\n</g>\n<!-- 50&#45;&gt;52 -->\n<g id=\"edge52\" class=\"edge\">\n<title>50&#45;&gt;52</title>\n<path fill=\"none\" stroke=\"black\" d=\"M7049.85,-103.73C7050.53,-95.43 7051.25,-86.67 7051.94,-78.28\"/>\n<polygon fill=\"black\" stroke=\"black\" points=\"7055.43,-78.55 7052.76,-68.3 7048.46,-77.98 7055.43,-78.55\"/>\n</g>\n<!-- 54 -->\n<g id=\"node55\" class=\"node\">\n<title>54</title>\n<path fill=\"#d6faf3\" stroke=\"black\" d=\"M7420,-68C7420,-68 7241,-68 7241,-68 7235,-68 7229,-62 7229,-56 7229,-56 7229,-12 7229,-12 7229,-6 7235,0 7241,0 7241,0 7420,0 7420,0 7426,0 7432,-6 7432,-12 7432,-12 7432,-56 7432,-56 7432,-62 7426,-68 7420,-68\"/>\n<text text-anchor=\"start\" x=\"7286.5\" y=\"-52.8\" font-family=\"Helvetica,sans-Serif\" font-size=\"14.00\">gini = 0.685</text>\n<text text-anchor=\"start\" x=\"7277.5\" y=\"-37.8\" font-family=\"Helvetica,sans-Serif\" font-size=\"14.00\">samples = 190</text>\n<text text-anchor=\"start\" x=\"7237\" y=\"-22.8\" font-family=\"Helvetica,sans-Serif\" font-size=\"14.00\">value = [3, 18, 84, 56, 29]</text>\n<text text-anchor=\"start\" x=\"7298.5\" y=\"-7.8\" font-family=\"Helvetica,sans-Serif\" font-size=\"14.00\">class = c</text>\n</g>\n<!-- 53&#45;&gt;54 -->\n<g id=\"edge54\" class=\"edge\">\n<title>53&#45;&gt;54</title>\n<path fill=\"none\" stroke=\"black\" d=\"M7336.15,-103.73C7335.47,-95.43 7334.75,-86.67 7334.06,-78.28\"/>\n<polygon fill=\"black\" stroke=\"black\" points=\"7337.54,-77.98 7333.24,-68.3 7330.57,-78.55 7337.54,-77.98\"/>\n</g>\n<!-- 55 -->\n<g id=\"node56\" class=\"node\">\n<title>55</title>\n<path fill=\"#e9e9fc\" stroke=\"black\" d=\"M7631.5,-68C7631.5,-68 7461.5,-68 7461.5,-68 7455.5,-68 7449.5,-62 7449.5,-56 7449.5,-56 7449.5,-12 7449.5,-12 7449.5,-6 7455.5,0 7461.5,0 7461.5,0 7631.5,0 7631.5,0 7637.5,0 7643.5,-6 7643.5,-12 7643.5,-12 7643.5,-56 7643.5,-56 7643.5,-62 7637.5,-68 7631.5,-68\"/>\n<text text-anchor=\"start\" x=\"7502.5\" y=\"-52.8\" font-family=\"Helvetica,sans-Serif\" font-size=\"14.00\">gini = 0.681</text>\n<text text-anchor=\"start\" x=\"7493.5\" y=\"-37.8\" font-family=\"Helvetica,sans-Serif\" font-size=\"14.00\">samples = 105</text>\n<text text-anchor=\"start\" x=\"7457.5\" y=\"-22.8\" font-family=\"Helvetica,sans-Serif\" font-size=\"14.00\">value = [0, 5, 34, 42, 24]</text>\n<text text-anchor=\"start\" x=\"7514.5\" y=\"-7.8\" font-family=\"Helvetica,sans-Serif\" font-size=\"14.00\">class = e</text>\n</g>\n<!-- 53&#45;&gt;55 -->\n<g id=\"edge55\" class=\"edge\">\n<title>53&#45;&gt;55</title>\n<path fill=\"none\" stroke=\"black\" d=\"M7416.28,-103.88C7435.55,-93.69 7456.15,-82.79 7475.14,-72.75\"/>\n<polygon fill=\"black\" stroke=\"black\" points=\"7476.83,-75.81 7484.03,-68.04 7473.56,-69.63 7476.83,-75.81\"/>\n</g>\n<!-- 57 -->\n<g id=\"node58\" class=\"node\">\n<title>57</title>\n<path fill=\"#fdfffc\" stroke=\"black\" d=\"M8021,-187C8021,-187 7788,-187 7788,-187 7782,-187 7776,-181 7776,-175 7776,-175 7776,-116 7776,-116 7776,-110 7782,-104 7788,-104 7788,-104 8021,-104 8021,-104 8027,-104 8033,-110 8033,-116 8033,-116 8033,-175 8033,-175 8033,-181 8027,-187 8021,-187\"/>\n<text text-anchor=\"start\" x=\"7831\" y=\"-171.8\" font-family=\"Helvetica,sans-Serif\" font-size=\"14.00\">days_in_queue ≤ 9.5</text>\n<text text-anchor=\"start\" x=\"7860.5\" y=\"-156.8\" font-family=\"Helvetica,sans-Serif\" font-size=\"14.00\">gini = 0.778</text>\n<text text-anchor=\"start\" x=\"7851.5\" y=\"-141.8\" font-family=\"Helvetica,sans-Serif\" font-size=\"14.00\">samples = 977</text>\n<text text-anchor=\"start\" x=\"7784\" y=\"-126.8\" font-family=\"Helvetica,sans-Serif\" font-size=\"14.00\">value = [100, 268, 257, 208, 144]</text>\n<text text-anchor=\"start\" x=\"7872.5\" y=\"-111.8\" font-family=\"Helvetica,sans-Serif\" font-size=\"14.00\">class = c</text>\n</g>\n<!-- 56&#45;&gt;57 -->\n<g id=\"edge57\" class=\"edge\">\n<title>56&#45;&gt;57</title>\n<path fill=\"none\" stroke=\"black\" d=\"M7904.5,-222.91C7904.5,-214.65 7904.5,-205.86 7904.5,-197.3\"/>\n<polygon fill=\"black\" stroke=\"black\" points=\"7908,-197.02 7904.5,-187.02 7901,-197.02 7908,-197.02\"/>\n</g>\n<!-- 60 -->\n<g id=\"node61\" class=\"node\">\n<title>60</title>\n<path fill=\"#f3fded\" stroke=\"black\" d=\"M8420,-187C8420,-187 8187,-187 8187,-187 8181,-187 8175,-181 8175,-175 8175,-175 8175,-116 8175,-116 8175,-110 8181,-104 8187,-104 8187,-104 8420,-104 8420,-104 8426,-104 8432,-110 8432,-116 8432,-116 8432,-175 8432,-175 8432,-181 8426,-187 8420,-187\"/>\n<text text-anchor=\"start\" x=\"8183\" y=\"-171.8\" font-family=\"Helvetica,sans-Serif\" font-size=\"14.00\">user_reputation_score ≤ 734500.0</text>\n<text text-anchor=\"start\" x=\"8259.5\" y=\"-156.8\" font-family=\"Helvetica,sans-Serif\" font-size=\"14.00\">gini = 0.758</text>\n<text text-anchor=\"start\" x=\"8246\" y=\"-141.8\" font-family=\"Helvetica,sans-Serif\" font-size=\"14.00\">samples = 1725</text>\n<text text-anchor=\"start\" x=\"8183\" y=\"-126.8\" font-family=\"Helvetica,sans-Serif\" font-size=\"14.00\">value = [232, 586, 469, 281, 157]</text>\n<text text-anchor=\"start\" x=\"8271.5\" y=\"-111.8\" font-family=\"Helvetica,sans-Serif\" font-size=\"14.00\">class = c</text>\n</g>\n<!-- 56&#45;&gt;60 -->\n<g id=\"edge60\" class=\"edge\">\n<title>56&#45;&gt;60</title>\n<path fill=\"none\" stroke=\"black\" d=\"M8033.22,-225.76C8075.35,-213.4 8122.33,-199.63 8165.14,-187.07\"/>\n<polygon fill=\"black\" stroke=\"black\" points=\"8166.17,-190.42 8174.78,-184.24 8164.2,-183.7 8166.17,-190.42\"/>\n</g>\n<!-- 58 -->\n<g id=\"node59\" class=\"node\">\n<title>58</title>\n<path fill=\"#f5fdf1\" stroke=\"black\" d=\"M7888,-68C7888,-68 7673,-68 7673,-68 7667,-68 7661,-62 7661,-56 7661,-56 7661,-12 7661,-12 7661,-6 7667,0 7673,0 7673,0 7888,0 7888,0 7894,0 7900,-6 7900,-12 7900,-12 7900,-56 7900,-56 7900,-62 7894,-68 7888,-68\"/>\n<text text-anchor=\"start\" x=\"7736.5\" y=\"-52.8\" font-family=\"Helvetica,sans-Serif\" font-size=\"14.00\">gini = 0.768</text>\n<text text-anchor=\"start\" x=\"7727.5\" y=\"-37.8\" font-family=\"Helvetica,sans-Serif\" font-size=\"14.00\">samples = 462</text>\n<text text-anchor=\"start\" x=\"7669\" y=\"-22.8\" font-family=\"Helvetica,sans-Serif\" font-size=\"14.00\">value = [33, 140, 115, 102, 72]</text>\n<text text-anchor=\"start\" x=\"7748.5\" y=\"-7.8\" font-family=\"Helvetica,sans-Serif\" font-size=\"14.00\">class = c</text>\n</g>\n<!-- 57&#45;&gt;58 -->\n<g id=\"edge58\" class=\"edge\">\n<title>57&#45;&gt;58</title>\n<path fill=\"none\" stroke=\"black\" d=\"M7858.33,-103.73C7847.69,-94.33 7836.38,-84.35 7825.78,-74.99\"/>\n<polygon fill=\"black\" stroke=\"black\" points=\"7828.02,-72.3 7818.21,-68.3 7823.39,-77.54 7828.02,-72.3\"/>\n</g>\n<!-- 59 -->\n<g id=\"node60\" class=\"node\">\n<title>59</title>\n<path fill=\"#f8fefd\" stroke=\"black\" d=\"M8145,-68C8145,-68 7930,-68 7930,-68 7924,-68 7918,-62 7918,-56 7918,-56 7918,-12 7918,-12 7918,-6 7924,0 7930,0 7930,0 8145,0 8145,0 8151,0 8157,-6 8157,-12 8157,-12 8157,-56 8157,-56 8157,-62 8151,-68 8145,-68\"/>\n<text text-anchor=\"start\" x=\"7993.5\" y=\"-52.8\" font-family=\"Helvetica,sans-Serif\" font-size=\"14.00\">gini = 0.783</text>\n<text text-anchor=\"start\" x=\"7984.5\" y=\"-37.8\" font-family=\"Helvetica,sans-Serif\" font-size=\"14.00\">samples = 515</text>\n<text text-anchor=\"start\" x=\"7926\" y=\"-22.8\" font-family=\"Helvetica,sans-Serif\" font-size=\"14.00\">value = [67, 128, 142, 106, 72]</text>\n<text text-anchor=\"start\" x=\"8005.5\" y=\"-7.8\" font-family=\"Helvetica,sans-Serif\" font-size=\"14.00\">class = c</text>\n</g>\n<!-- 57&#45;&gt;59 -->\n<g id=\"edge59\" class=\"edge\">\n<title>57&#45;&gt;59</title>\n<path fill=\"none\" stroke=\"black\" d=\"M7954.02,-103.73C7965.55,-94.24 7977.8,-84.16 7989.26,-74.72\"/>\n<polygon fill=\"black\" stroke=\"black\" points=\"7991.56,-77.36 7997.05,-68.3 7987.11,-71.95 7991.56,-77.36\"/>\n</g>\n<!-- 61 -->\n<g id=\"node62\" class=\"node\">\n<title>61</title>\n<path fill=\"#f8fef4\" stroke=\"black\" d=\"M8420,-68C8420,-68 8187,-68 8187,-68 8181,-68 8175,-62 8175,-56 8175,-56 8175,-12 8175,-12 8175,-6 8181,0 8187,0 8187,0 8420,0 8420,0 8426,0 8432,-6 8432,-12 8432,-12 8432,-56 8432,-56 8432,-62 8426,-68 8420,-68\"/>\n<text text-anchor=\"start\" x=\"8259.5\" y=\"-52.8\" font-family=\"Helvetica,sans-Serif\" font-size=\"14.00\">gini = 0.765</text>\n<text text-anchor=\"start\" x=\"8246\" y=\"-37.8\" font-family=\"Helvetica,sans-Serif\" font-size=\"14.00\">samples = 1138</text>\n<text text-anchor=\"start\" x=\"8183\" y=\"-22.8\" font-family=\"Helvetica,sans-Serif\" font-size=\"14.00\">value = [174, 361, 315, 181, 107]</text>\n<text text-anchor=\"start\" x=\"8271.5\" y=\"-7.8\" font-family=\"Helvetica,sans-Serif\" font-size=\"14.00\">class = c</text>\n</g>\n<!-- 60&#45;&gt;61 -->\n<g id=\"edge61\" class=\"edge\">\n<title>60&#45;&gt;61</title>\n<path fill=\"none\" stroke=\"black\" d=\"M8303.5,-103.73C8303.5,-95.52 8303.5,-86.86 8303.5,-78.56\"/>\n<polygon fill=\"black\" stroke=\"black\" points=\"8307,-78.3 8303.5,-68.3 8300,-78.3 8307,-78.3\"/>\n</g>\n<!-- 62 -->\n<g id=\"node63\" class=\"node\">\n<title>62</title>\n<path fill=\"#e9fbdf\" stroke=\"black\" d=\"M8677,-68C8677,-68 8462,-68 8462,-68 8456,-68 8450,-62 8450,-56 8450,-56 8450,-12 8450,-12 8450,-6 8456,0 8462,0 8462,0 8677,0 8677,0 8683,0 8689,-6 8689,-12 8689,-12 8689,-56 8689,-56 8689,-62 8683,-68 8677,-68\"/>\n<text text-anchor=\"start\" x=\"8525.5\" y=\"-52.8\" font-family=\"Helvetica,sans-Serif\" font-size=\"14.00\">gini = 0.738</text>\n<text text-anchor=\"start\" x=\"8516.5\" y=\"-37.8\" font-family=\"Helvetica,sans-Serif\" font-size=\"14.00\">samples = 587</text>\n<text text-anchor=\"start\" x=\"8458\" y=\"-22.8\" font-family=\"Helvetica,sans-Serif\" font-size=\"14.00\">value = [58, 225, 154, 100, 50]</text>\n<text text-anchor=\"start\" x=\"8537.5\" y=\"-7.8\" font-family=\"Helvetica,sans-Serif\" font-size=\"14.00\">class = c</text>\n</g>\n<!-- 60&#45;&gt;62 -->\n<g id=\"edge62\" class=\"edge\">\n<title>60&#45;&gt;62</title>\n<path fill=\"none\" stroke=\"black\" d=\"M8402.17,-103.88C8427.6,-93.41 8454.84,-82.2 8479.79,-71.93\"/>\n<polygon fill=\"black\" stroke=\"black\" points=\"8481.32,-75.09 8489.23,-68.04 8478.65,-68.61 8481.32,-75.09\"/>\n</g>\n</g>\n</svg>\n"
     },
     "metadata": {},
     "execution_count": 113
    }
   ],
   "metadata": {}
  },
  {
   "cell_type": "code",
   "execution_count": 114,
   "source": [
    "dt_feature_knn = stack_features.copy().drop(columns=['user_badge_type','encoded_user_badge'])\n",
    "distortions = []\n",
    "K = range(1,10)\n",
    "for k in K:\n",
    "    kmeanModel = KMeans(n_clusters=k)\n",
    "    kmeanModel.fit(dt_feature_knn)\n",
    "    distortions.append(kmeanModel.inertia_)"
   ],
   "outputs": [],
   "metadata": {}
  },
  {
   "cell_type": "code",
   "execution_count": 115,
   "source": [
    "plt.figure(figsize=(16,8))\n",
    "plt.plot(K, distortions, 'bx-')\n",
    "plt.xlabel('k')\n",
    "plt.ylabel('Distortion')\n",
    "plt.title('The Elbow Method showing the optimal k')\n",
    "plt.show()"
   ],
   "outputs": [
    {
     "output_type": "display_data",
     "data": {
      "text/plain": [
       "<Figure size 1152x576 with 1 Axes>"
      ],
      "image/png": "[encoded data removed]"
     },
     "metadata": {
      "needs_background": "light"
     }
    }
   ],
   "metadata": {}
  },
  {
   "cell_type": "code",
   "execution_count": 116,
   "source": [
    "km = KMeans(n_clusters = 3, random_state=0)\n",
    "cluster_labels = km.fit_predict(dt_feature_knn)\n",
    "centroids = km.cluster_centers_"
   ],
   "outputs": [],
   "metadata": {}
  },
  {
   "cell_type": "code",
   "execution_count": 117,
   "source": [
    "\n",
    "#silhouette_score_avg = silhouette_score(dt_feature_knn, cluster_labels)\n",
    "#silhouette_score_each = silhouette_samples(dt_feature_knn, cluster_labels)\n",
    "\n",
    "model_filename = 'api/model/kmeans_3_clusters.pkl'\n",
    "with open(model_filename, 'wb') as f:\n",
    "    pickle.dump(km, f)"
   ],
   "outputs": [],
   "metadata": {}
  },
  {
   "cell_type": "code",
   "execution_count": 118,
   "source": [
    "cluster_info = pd.concat([dt_feature_knn, pd.DataFrame({'label_class':cluster_labels})], axis = 1)\n"
   ],
   "outputs": [],
   "metadata": {}
  },
  {
   "cell_type": "code",
   "execution_count": 119,
   "source": [
    "cluster_info.label_class.value_counts()"
   ],
   "outputs": [
    {
     "output_type": "execute_result",
     "data": {
      "text/plain": [
       "0    190262\n",
       "2      7269\n",
       "1      2468\n",
       "Name: label_class, dtype: int64"
      ]
     },
     "metadata": {},
     "execution_count": 119
    }
   ],
   "metadata": {}
  }
 ],
 "metadata": {
  "orig_nbformat": 4,
  "language_info": {
   "name": "python"
  }
 },
 "nbformat": 4,
 "nbformat_minor": 2
}